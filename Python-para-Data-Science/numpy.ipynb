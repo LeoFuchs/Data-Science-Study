{
  "cells": [
    {
      "cell_type": "markdown",
      "metadata": {
        "id": "do3kUOLbltjE"
      },
      "source": [
        "# <font color=green> PYTHON PARA DATA SCIENCE - NUMPY\n",
        "---"
      ]
    },
    {
      "cell_type": "markdown",
      "metadata": {
        "id": "umSz9TLxltjG"
      },
      "source": [
        "# <font color=green> 1. INTRODUÇÃO AO PYTHON\n",
        "---"
      ]
    },
    {
      "cell_type": "markdown",
      "metadata": {
        "id": "gSnX12-sltjH"
      },
      "source": [
        "# 1.1 Introdução"
      ]
    },
    {
      "cell_type": "markdown",
      "metadata": {
        "id": "SRG_k55kltjI"
      },
      "source": [
        "> Python é uma linguagem de programação de alto nível com suporte a múltiplos paradigmas de programação. É um projeto *open source* e desde seu surgimento, em 1991, vem se tornando uma das linguagens de programação interpretadas mais populares. \n",
        ">\n",
        "> Nos últimos anos Python desenvolveu uma comunidade ativa de processamento científico e análise de dados e vem se destacando como uma das linguagens mais relevantes quando o assunto é ciência de dados e machine learning, tanto no ambiente acadêmico como também no mercado."
      ]
    },
    {
      "cell_type": "markdown",
      "metadata": {
        "id": "2oZuKvWkltjJ"
      },
      "source": [
        "# 1.2 Instalação e ambiente de desenvolvimento"
      ]
    },
    {
      "cell_type": "markdown",
      "metadata": {
        "id": "v4P8bMEIltjK"
      },
      "source": [
        "### Instalação Local\n",
        "\n",
        "### https://www.python.org/downloads/\n",
        "### ou\n",
        "### https://www.anaconda.com/distribution/"
      ]
    },
    {
      "cell_type": "markdown",
      "metadata": {
        "id": "FZtu5tjrltjL"
      },
      "source": [
        "### Google Colaboratory\n",
        "\n",
        "### https://colab.research.google.com"
      ]
    },
    {
      "cell_type": "markdown",
      "metadata": {
        "id": "C6vbfq8DltjM"
      },
      "source": [
        "### Verificando versão"
      ]
    },
    {
      "cell_type": "code",
      "source": [
        "!python --version"
      ],
      "metadata": {
        "colab": {
          "base_uri": "https://localhost:8080/"
        },
        "id": "k75LaQzzbUtm",
        "outputId": "01f8d8f8-49f2-45b1-c94c-db089fcb482e"
      },
      "execution_count": 1,
      "outputs": [
        {
          "output_type": "stream",
          "name": "stdout",
          "text": [
            "Python 3.8.16\n"
          ]
        }
      ]
    },
    {
      "cell_type": "markdown",
      "metadata": {
        "id": "v86aEyR2ltjR"
      },
      "source": [
        "# 1.3 Trabalhando com arrays Numpy"
      ]
    },
    {
      "cell_type": "code",
      "execution_count": 2,
      "metadata": {
        "id": "6FEhElzNltjR"
      },
      "outputs": [],
      "source": [
        "import numpy as np"
      ]
    },
    {
      "cell_type": "code",
      "execution_count": 3,
      "metadata": {
        "id": "qjL5wPLKltjU"
      },
      "outputs": [],
      "source": [
        "km = np.loadtxt(\"carros-km.txt\")"
      ]
    },
    {
      "cell_type": "code",
      "execution_count": 4,
      "metadata": {
        "id": "OFaxgUptltjW",
        "scrolled": true,
        "colab": {
          "base_uri": "https://localhost:8080/"
        },
        "outputId": "88994a4a-bc72-4a4c-c061-76482fb85581"
      },
      "outputs": [
        {
          "output_type": "execute_result",
          "data": {
            "text/plain": [
              "array([4.44100e+04, 5.71200e+03, 3.71230e+04, 0.00000e+00, 2.57570e+04,\n",
              "       1.07280e+04, 0.00000e+00, 7.75990e+04, 9.91970e+04, 3.79780e+04,\n",
              "       1.28590e+04, 8.05200e+03, 8.97730e+04, 0.00000e+00, 4.14570e+04,\n",
              "       1.15607e+05, 4.64490e+04, 0.00000e+00, 3.70860e+04, 1.51730e+04,\n",
              "       1.01193e+05, 0.00000e+00, 9.80790e+04, 1.02959e+05, 0.00000e+00,\n",
              "       0.00000e+00, 5.79500e+03, 0.00000e+00, 5.88480e+04, 9.43810e+04,\n",
              "       3.01630e+04, 5.33320e+04, 1.77200e+04, 3.38080e+04, 9.06840e+04,\n",
              "       4.39750e+04, 0.00000e+00, 0.00000e+00, 5.52600e+03, 0.00000e+00,\n",
              "       9.34150e+04, 4.07620e+04, 0.00000e+00, 8.63020e+04, 0.00000e+00,\n",
              "       9.75500e+03, 6.99450e+04, 2.39500e+03, 0.00000e+00, 8.03490e+04,\n",
              "       8.55540e+04, 5.04960e+04, 6.77160e+04, 9.39470e+04, 3.53450e+04,\n",
              "       8.10070e+04, 1.19513e+05, 0.00000e+00, 0.00000e+00, 0.00000e+00,\n",
              "       0.00000e+00, 0.00000e+00, 1.18895e+05, 4.85090e+04, 1.00912e+05,\n",
              "       9.56490e+04, 0.00000e+00, 9.04950e+04, 0.00000e+00, 2.91320e+04,\n",
              "       2.38020e+04, 8.49920e+04, 5.43950e+04, 2.67310e+04, 4.43290e+04,\n",
              "       1.18236e+05, 1.13808e+05, 6.10000e+02, 0.00000e+00, 0.00000e+00,\n",
              "       1.28870e+04, 7.96070e+04, 9.09240e+04, 4.27330e+04, 0.00000e+00,\n",
              "       0.00000e+00, 1.17714e+05, 1.13885e+05, 0.00000e+00, 3.05110e+04,\n",
              "       7.48670e+04, 1.19760e+05, 8.35600e+03, 6.42470e+04, 8.86610e+04,\n",
              "       4.53900e+03, 1.10116e+05, 3.32150e+04, 9.20010e+04, 0.00000e+00,\n",
              "       8.17080e+04, 7.06410e+04, 0.00000e+00, 9.12770e+04, 2.65440e+04,\n",
              "       5.25960e+04, 4.75030e+04, 8.90560e+04, 2.88340e+04, 1.10564e+05,\n",
              "       5.66380e+04, 1.73570e+04, 7.40150e+04, 1.51960e+04, 0.00000e+00,\n",
              "       1.08210e+04, 0.00000e+00, 0.00000e+00, 9.59500e+03, 9.90520e+04,\n",
              "       5.23890e+04, 1.19945e+05, 9.60050e+04, 3.16390e+04, 0.00000e+00,\n",
              "       8.01870e+04, 0.00000e+00, 5.82120e+04, 6.16720e+04, 3.20170e+04,\n",
              "       0.00000e+00, 5.69440e+04, 0.00000e+00, 8.65190e+04, 4.82100e+03,\n",
              "       1.01025e+05, 3.07050e+04, 0.00000e+00, 3.25550e+04, 1.03389e+05,\n",
              "       0.00000e+00, 5.52890e+04, 0.00000e+00, 0.00000e+00, 1.15930e+05,\n",
              "       6.64370e+04, 9.68000e+04, 1.42370e+04, 1.98960e+04, 1.13045e+05,\n",
              "       1.14942e+05, 3.17300e+03, 8.36110e+04, 2.53560e+04, 8.86340e+04,\n",
              "       2.31400e+03, 2.62700e+03, 5.20340e+04, 0.00000e+00, 0.00000e+00,\n",
              "       7.95770e+04, 1.08201e+05, 7.64530e+04, 5.76830e+04, 9.66100e+04,\n",
              "       1.09001e+05, 2.62120e+04, 4.59710e+04, 4.91820e+04, 4.99070e+04,\n",
              "       3.86200e+04, 6.09960e+04, 7.39140e+04, 1.07392e+05, 9.14600e+03,\n",
              "       0.00000e+00, 1.79240e+04, 0.00000e+00, 1.16949e+05, 2.04760e+04,\n",
              "       5.28040e+04, 8.84900e+03, 9.17240e+04, 3.20560e+04, 7.48860e+04,\n",
              "       0.00000e+00, 0.00000e+00, 5.21890e+04, 8.35590e+04, 0.00000e+00,\n",
              "       2.03280e+04, 0.00000e+00, 7.55770e+04, 3.36590e+04, 1.04341e+05,\n",
              "       2.55100e+04, 1.89650e+04, 8.71610e+04, 6.65200e+03, 5.57380e+04,\n",
              "       0.00000e+00, 0.00000e+00, 0.00000e+00, 6.43200e+04, 0.00000e+00,\n",
              "       6.86780e+04, 7.16970e+04, 0.00000e+00, 3.47830e+04, 3.37720e+04,\n",
              "       8.51270e+04, 1.36060e+04, 3.56470e+04, 9.51280e+04, 1.40460e+04,\n",
              "       4.11940e+04, 0.00000e+00, 9.61000e+04, 1.03900e+05, 4.38140e+04,\n",
              "       2.46380e+04, 0.00000e+00, 1.10966e+05, 1.59870e+04, 5.33690e+04,\n",
              "       1.00770e+04, 7.15440e+04, 1.07000e+02, 8.39400e+03, 4.14980e+04,\n",
              "       1.16002e+05, 1.00858e+05, 6.74750e+04, 8.49700e+03, 4.42000e+03,\n",
              "       0.00000e+00, 5.85370e+04, 0.00000e+00, 0.00000e+00, 1.12016e+05,\n",
              "       9.18400e+04, 1.12787e+05, 0.00000e+00, 0.00000e+00, 9.29300e+03,\n",
              "       0.00000e+00, 5.50830e+04, 4.87960e+04, 0.00000e+00, 8.96850e+04,\n",
              "       8.53840e+04, 9.81080e+04, 7.12800e+04, 2.75050e+04, 2.99810e+04,\n",
              "       5.26370e+04, 7.68500e+03, 5.01880e+04])"
            ]
          },
          "metadata": {},
          "execution_count": 4
        }
      ],
      "source": [
        "km"
      ]
    },
    {
      "cell_type": "code",
      "execution_count": 5,
      "metadata": {
        "id": "FXjYowRDltjZ"
      },
      "outputs": [],
      "source": [
        "anos = np.loadtxt(\"carros-anos.txt\", dtype = int)"
      ]
    },
    {
      "cell_type": "code",
      "execution_count": 6,
      "metadata": {
        "id": "f_d2Ya-vltjb",
        "colab": {
          "base_uri": "https://localhost:8080/"
        },
        "outputId": "c25a3fce-8390-4442-c2ba-e1c93578f294"
      },
      "outputs": [
        {
          "output_type": "execute_result",
          "data": {
            "text/plain": [
              "array([2003, 1991, 1990, 2019, 2006, 2012, 2019, 2009, 2010, 2011, 2002,\n",
              "       2007, 2001, 2019, 2009, 2016, 2012, 2019, 2016, 2017, 2002, 2019,\n",
              "       1994, 1991, 2019, 2019, 2016, 2019, 2002, 1991, 1997, 1995, 2018,\n",
              "       1991, 2014, 1995, 2019, 2019, 2009, 2019, 2013, 2003, 2019, 2002,\n",
              "       2019, 2002, 2004, 2001, 2019, 2003, 2009, 2006, 2000, 2006, 2010,\n",
              "       1994, 2007, 2019, 2019, 2019, 2019, 2019, 2017, 2011, 2001, 1996,\n",
              "       2019, 1994, 2019, 2007, 1994, 2007, 1997, 2006, 2013, 1994, 2008,\n",
              "       2008, 2019, 2019, 1999, 2007, 1993, 1995, 2019, 2019, 2016, 2011,\n",
              "       2019, 2002, 2013, 2017, 2016, 2008, 2018, 2003, 2003, 2004, 2010,\n",
              "       2019, 2006, 2001, 2019, 2015, 2018, 2017, 1992, 2001, 1993, 1995,\n",
              "       2003, 2014, 2008, 2013, 2019, 2017, 2019, 2019, 2006, 2015, 2007,\n",
              "       2005, 2017, 1998, 2019, 1999, 2019, 2009, 2003, 1994, 2019, 1994,\n",
              "       2019, 2015, 1996, 1997, 1993, 2019, 1992, 1995, 2019, 1990, 2019,\n",
              "       2019, 1991, 1990, 2012, 2007, 2013, 2000, 2002, 1996, 1996, 2015,\n",
              "       1993, 2013, 2013, 2009, 2019, 2019, 2002, 1997, 1998, 2004, 1996,\n",
              "       2015, 2016, 2005, 1999, 1995, 1993, 2004, 2013, 1998, 2018, 2019,\n",
              "       2018, 2019, 1990, 2009, 1990, 2006, 2002, 1991, 1992, 2019, 2019,\n",
              "       2005, 2010, 2019, 2016, 2019, 2010, 1994, 2001, 2014, 1996, 1993,\n",
              "       1993, 2001, 2019, 2019, 2019, 2007, 2019, 2016, 2014, 2019, 2015,\n",
              "       2015, 1996, 2002, 2005, 1995, 1999, 2005, 2019, 1997, 1990, 2001,\n",
              "       2013, 2019, 2017, 2011, 2005, 2007, 1993, 1991, 1991, 1997, 2000,\n",
              "       2007, 2006, 2015, 2008, 2019, 1996, 2019, 2019, 2014, 2004, 2008,\n",
              "       2019, 2019, 2012, 2019, 1996, 2011, 2019, 2010, 2007, 1994, 2007,\n",
              "       2014, 1991, 2002, 1996, 1992])"
            ]
          },
          "metadata": {},
          "execution_count": 6
        }
      ],
      "source": [
        "anos"
      ]
    },
    {
      "cell_type": "markdown",
      "metadata": {
        "id": "wMdUsAq4ltjs"
      },
      "source": [
        "### Obtendo a quilometragem média por ano"
      ]
    },
    {
      "cell_type": "code",
      "execution_count": 7,
      "metadata": {
        "colab": {
          "base_uri": "https://localhost:8080/"
        },
        "id": "cD2M3s3Fltjt",
        "outputId": "6dd7f670-6f04-4b5c-9abf-a6daea277c6f"
      },
      "outputs": [
        {
          "output_type": "stream",
          "name": "stderr",
          "text": [
            "<ipython-input-7-1b3407ca7629>:1: RuntimeWarning: invalid value encountered in true_divide\n",
            "  km_media = km / (2019 - anos)\n"
          ]
        }
      ],
      "source": [
        "km_media = km / (2019 - anos)"
      ]
    },
    {
      "cell_type": "code",
      "execution_count": 8,
      "metadata": {
        "colab": {
          "base_uri": "https://localhost:8080/"
        },
        "id": "65IyPzKKltjv",
        "outputId": "1a2eb0cc-9f37-4c5f-f32b-01864b8ff61c"
      },
      "outputs": [
        {
          "output_type": "execute_result",
          "data": {
            "text/plain": [
              "numpy.ndarray"
            ]
          },
          "metadata": {},
          "execution_count": 8
        }
      ],
      "source": [
        "type(km_media)"
      ]
    },
    {
      "cell_type": "markdown",
      "metadata": {
        "id": "KdG5NmmGltj0"
      },
      "source": [
        "# <font color=green> 2. CARACTERÍSTICAS BÁSICAS DA LINGUAGEM\n",
        "---"
      ]
    },
    {
      "cell_type": "markdown",
      "metadata": {
        "id": "X1K5kisFltj1"
      },
      "source": [
        "# 2.1 Operações matemáticas\n",
        "\n",
        "### Operadores aritméticos: $+$, $-$, $*$, $/$, $**$, $\\%$, $//$"
      ]
    },
    {
      "cell_type": "markdown",
      "metadata": {
        "id": "8YCDVpbYltj1"
      },
      "source": [
        "### Adição ($+$)"
      ]
    },
    {
      "cell_type": "code",
      "execution_count": 9,
      "metadata": {
        "id": "h6DsMqhaltj2",
        "colab": {
          "base_uri": "https://localhost:8080/"
        },
        "outputId": "2d672283-ce1c-4c79-c1ac-3e5e9d13a868"
      },
      "outputs": [
        {
          "output_type": "execute_result",
          "data": {
            "text/plain": [
              "4"
            ]
          },
          "metadata": {},
          "execution_count": 9
        }
      ],
      "source": [
        "2 + 2"
      ]
    },
    {
      "cell_type": "markdown",
      "metadata": {
        "id": "WeJG-WJBltj8"
      },
      "source": [
        "### Subtração ($-$)"
      ]
    },
    {
      "cell_type": "code",
      "execution_count": 10,
      "metadata": {
        "id": "zoB7_OcRltj9",
        "colab": {
          "base_uri": "https://localhost:8080/"
        },
        "outputId": "5676b534-d095-4b4d-ab71-233b1fc545cf"
      },
      "outputs": [
        {
          "output_type": "execute_result",
          "data": {
            "text/plain": [
              "0"
            ]
          },
          "metadata": {},
          "execution_count": 10
        }
      ],
      "source": [
        "2 - 2"
      ]
    },
    {
      "cell_type": "markdown",
      "metadata": {
        "id": "zuv8N7fjltkC"
      },
      "source": [
        "### Multiplicação ($*$)"
      ]
    },
    {
      "cell_type": "code",
      "execution_count": 11,
      "metadata": {
        "id": "TAWG7xSTltkD",
        "colab": {
          "base_uri": "https://localhost:8080/"
        },
        "outputId": "6f1fc537-e010-4a3a-94ba-dafeb6d7c0d6"
      },
      "outputs": [
        {
          "output_type": "execute_result",
          "data": {
            "text/plain": [
              "6"
            ]
          },
          "metadata": {},
          "execution_count": 11
        }
      ],
      "source": [
        "2 * 3"
      ]
    },
    {
      "cell_type": "markdown",
      "metadata": {
        "id": "dMp7BsnwltkF"
      },
      "source": [
        "### Divisão ($/$) e ($//$)\n",
        "A operação divisão sempre retorna um número de ponto flutuante"
      ]
    },
    {
      "cell_type": "code",
      "execution_count": 12,
      "metadata": {
        "id": "DD5kx3H3ltkF",
        "colab": {
          "base_uri": "https://localhost:8080/"
        },
        "outputId": "dacd7862-f726-43cd-8bf9-d12d414fa1e6"
      },
      "outputs": [
        {
          "output_type": "execute_result",
          "data": {
            "text/plain": [
              "3.3333333333333335"
            ]
          },
          "metadata": {},
          "execution_count": 12
        }
      ],
      "source": [
        "10 / 3"
      ]
    },
    {
      "cell_type": "code",
      "execution_count": 13,
      "metadata": {
        "id": "ji0CYH3UltkI",
        "colab": {
          "base_uri": "https://localhost:8080/"
        },
        "outputId": "8940c54b-7574-450b-f4e5-27722f4e5aba"
      },
      "outputs": [
        {
          "output_type": "execute_result",
          "data": {
            "text/plain": [
              "3"
            ]
          },
          "metadata": {},
          "execution_count": 13
        }
      ],
      "source": [
        "10 // 3"
      ]
    },
    {
      "cell_type": "markdown",
      "metadata": {
        "id": "3DSO7TcvltkL"
      },
      "source": [
        "### Exponenciação ($**$)"
      ]
    },
    {
      "cell_type": "code",
      "execution_count": 14,
      "metadata": {
        "id": "tBKvl2TWltkM",
        "colab": {
          "base_uri": "https://localhost:8080/"
        },
        "outputId": "3c39452d-a431-48a7-c96e-47ad3c30fb13"
      },
      "outputs": [
        {
          "output_type": "execute_result",
          "data": {
            "text/plain": [
              "8"
            ]
          },
          "metadata": {},
          "execution_count": 14
        }
      ],
      "source": [
        "2 ** 3"
      ]
    },
    {
      "cell_type": "markdown",
      "metadata": {
        "id": "MhD56p-9ltkQ"
      },
      "source": [
        "### Resto da divisão ($\\%$)"
      ]
    },
    {
      "cell_type": "code",
      "execution_count": 15,
      "metadata": {
        "id": "bfa7phO6ltkR",
        "colab": {
          "base_uri": "https://localhost:8080/"
        },
        "outputId": "e0f4987f-dd23-49d3-dec2-2f9fbd4139b3"
      },
      "outputs": [
        {
          "output_type": "execute_result",
          "data": {
            "text/plain": [
              "1"
            ]
          },
          "metadata": {},
          "execution_count": 15
        }
      ],
      "source": [
        "10 % 3"
      ]
    },
    {
      "cell_type": "code",
      "execution_count": 16,
      "metadata": {
        "id": "khIEx6olltkT",
        "colab": {
          "base_uri": "https://localhost:8080/"
        },
        "outputId": "4d53a6c1-fbc3-4761-ea59-977b709c5cae"
      },
      "outputs": [
        {
          "output_type": "execute_result",
          "data": {
            "text/plain": [
              "0"
            ]
          },
          "metadata": {},
          "execution_count": 16
        }
      ],
      "source": [
        "10 % 2"
      ]
    },
    {
      "cell_type": "markdown",
      "metadata": {
        "id": "8pVVp5fsltkV"
      },
      "source": [
        "### Expressões matemáticas"
      ]
    },
    {
      "cell_type": "code",
      "execution_count": 17,
      "metadata": {
        "id": "jlQTk4gNltkW",
        "colab": {
          "base_uri": "https://localhost:8080/"
        },
        "outputId": "844e90d7-6adc-49ee-a79e-4c4cc7eaf51a"
      },
      "outputs": [
        {
          "output_type": "execute_result",
          "data": {
            "text/plain": [
              "16"
            ]
          },
          "metadata": {},
          "execution_count": 17
        }
      ],
      "source": [
        "5 * 2 + 3 * 2"
      ]
    },
    {
      "cell_type": "code",
      "execution_count": 18,
      "metadata": {
        "id": "kkCb6Crgltka",
        "colab": {
          "base_uri": "https://localhost:8080/"
        },
        "outputId": "d086afc9-7f02-4752-8490-e5c4d60384a5"
      },
      "outputs": [
        {
          "output_type": "execute_result",
          "data": {
            "text/plain": [
              "16"
            ]
          },
          "metadata": {},
          "execution_count": 18
        }
      ],
      "source": [
        "(5 * 2) + (3 * 2)"
      ]
    },
    {
      "cell_type": "code",
      "execution_count": 19,
      "metadata": {
        "id": "UD12tlgAltkd",
        "colab": {
          "base_uri": "https://localhost:8080/"
        },
        "outputId": "7398267e-add4-4062-86a8-33b0fc6ea250"
      },
      "outputs": [
        {
          "output_type": "execute_result",
          "data": {
            "text/plain": [
              "50"
            ]
          },
          "metadata": {},
          "execution_count": 19
        }
      ],
      "source": [
        "5 * (2 + 3) * 2"
      ]
    },
    {
      "cell_type": "markdown",
      "metadata": {
        "id": "a5tKQ5Beltkf"
      },
      "source": [
        "### A variável _\n",
        "\n",
        "No modo interativo, o último resultado impresso é atribuído à variável _"
      ]
    },
    {
      "cell_type": "code",
      "execution_count": 20,
      "metadata": {
        "id": "VkHEx516ltkg",
        "colab": {
          "base_uri": "https://localhost:8080/"
        },
        "outputId": "5a3cfbfd-93e2-4f07-a662-46ce802bf88b"
      },
      "outputs": [
        {
          "output_type": "execute_result",
          "data": {
            "text/plain": [
              "10"
            ]
          },
          "metadata": {},
          "execution_count": 20
        }
      ],
      "source": [
        "5 * 2"
      ]
    },
    {
      "cell_type": "code",
      "execution_count": 21,
      "metadata": {
        "id": "dFShsobXltki",
        "colab": {
          "base_uri": "https://localhost:8080/"
        },
        "outputId": "6ce6e764-a752-4b87-e990-f1d0bbe1cf02"
      },
      "outputs": [
        {
          "output_type": "execute_result",
          "data": {
            "text/plain": [
              "16"
            ]
          },
          "metadata": {},
          "execution_count": 21
        }
      ],
      "source": [
        "_ + 3 * 2"
      ]
    },
    {
      "cell_type": "code",
      "execution_count": 22,
      "metadata": {
        "id": "hJIpR3KUltkk",
        "colab": {
          "base_uri": "https://localhost:8080/"
        },
        "outputId": "66d76b91-13bc-42bb-ab0e-9564c8fbae30"
      },
      "outputs": [
        {
          "output_type": "execute_result",
          "data": {
            "text/plain": [
              "8.0"
            ]
          },
          "metadata": {},
          "execution_count": 22
        }
      ],
      "source": [
        "_ / 2"
      ]
    },
    {
      "cell_type": "markdown",
      "metadata": {
        "id": "MUrQAf6Mltkm"
      },
      "source": [
        "# 2.2 Variáveis "
      ]
    },
    {
      "cell_type": "markdown",
      "metadata": {
        "id": "qaVLKIeultkn"
      },
      "source": [
        "### Nomes de variáveis\n",
        "\n",
        "- Nomes de variáveis pode começar com letras (a - z, A - Z) ou o caractere *underscore* (_):\n",
        "\n",
        "    > Altura\n",
        "    >\n",
        "    > _peso\n",
        "    \n",
        "- O restante do nome pode conter letras, números e o caractere \"_\":\n",
        "\n",
        "    > nome_da_variavel\n",
        "    >\n",
        "    > _valor\n",
        "    >\n",
        "    > dia_28_11_\n",
        "    \n",
        "\n",
        "- O nomes são *case sensitive*:\n",
        "\n",
        "    > Nome_Da_Variável $\\ne$ nome_da_variavel $\\ne$ NOME_DA_VARIAVEL\n",
        "    \n",
        "### <font color=red>Observações:\n",
        "- Existem algumas palavras reservadas da linguagem que não podem ser utilizadas como nomes de variável:\n",
        "\n",
        "| |Lista de palavras <br>reservadas em Python| |\n",
        "|:-------------:|:------------:|:-------------:|\n",
        "| and           | as           | not           | \n",
        "| assert        | finally      | or            | \n",
        "| break         | for          | pass          | \n",
        "| class         | from         | nonlocal      | \n",
        "| continue      | global       | raise         | \n",
        "| def           | if           | return        | \n",
        "| del           | import       | try           | \n",
        "| elif          | in           | while         | \n",
        "| else          | is           | with          | \n",
        "| except        | lambda       | yield         | \n",
        "| False         | True         | None          | "
      ]
    },
    {
      "cell_type": "markdown",
      "metadata": {
        "id": "3frWjfAtltkn"
      },
      "source": [
        "### Declaração de variáveis\n",
        "\n",
        "### Operadores de atribuição: $=$, $+=$, $-=$, $*=$, $/=$, $**=$, $\\%=$, $//=$"
      ]
    },
    {
      "cell_type": "code",
      "execution_count": 23,
      "metadata": {
        "id": "7VIcrXNHltko"
      },
      "outputs": [],
      "source": [
        "ano_atual = 2019\n",
        "ano_fabricacao = 2003\n",
        "km_total = 44410.0"
      ]
    },
    {
      "cell_type": "code",
      "execution_count": 24,
      "metadata": {
        "id": "atVoqp6bltkq",
        "colab": {
          "base_uri": "https://localhost:8080/"
        },
        "outputId": "6eccf747-3dca-4292-8332-6127a38148c5"
      },
      "outputs": [
        {
          "output_type": "execute_result",
          "data": {
            "text/plain": [
              "2019"
            ]
          },
          "metadata": {},
          "execution_count": 24
        }
      ],
      "source": [
        "ano_atual"
      ]
    },
    {
      "cell_type": "code",
      "execution_count": 25,
      "metadata": {
        "id": "_t82qXrOltkt",
        "colab": {
          "base_uri": "https://localhost:8080/"
        },
        "outputId": "a0357954-a873-4945-9dd0-2cdb913e48dc"
      },
      "outputs": [
        {
          "output_type": "execute_result",
          "data": {
            "text/plain": [
              "2003"
            ]
          },
          "metadata": {},
          "execution_count": 25
        }
      ],
      "source": [
        "ano_fabricacao"
      ]
    },
    {
      "cell_type": "code",
      "execution_count": 26,
      "metadata": {
        "id": "1anwuDHiltkv",
        "colab": {
          "base_uri": "https://localhost:8080/"
        },
        "outputId": "518f9def-185a-4f9b-a843-b71afe38cbf3"
      },
      "outputs": [
        {
          "output_type": "execute_result",
          "data": {
            "text/plain": [
              "44410.0"
            ]
          },
          "metadata": {},
          "execution_count": 26
        }
      ],
      "source": [
        "km_total"
      ]
    },
    {
      "cell_type": "markdown",
      "metadata": {
        "id": "gCBkfq_8ltky"
      },
      "source": [
        "# $$km_{média} = \\frac {km_{total}}{(Ano_{atual} - Ano_{fabricação})}$$"
      ]
    },
    {
      "cell_type": "markdown",
      "metadata": {
        "id": "zswWS4hNltky"
      },
      "source": [
        "### Operações com variáveis"
      ]
    },
    {
      "cell_type": "code",
      "execution_count": 27,
      "metadata": {
        "id": "HxxU0rnfltkz",
        "colab": {
          "base_uri": "https://localhost:8080/"
        },
        "outputId": "9754d923-2642-4f39-8daa-f5ac006242e6"
      },
      "outputs": [
        {
          "output_type": "execute_result",
          "data": {
            "text/plain": [
              "2775.625"
            ]
          },
          "metadata": {},
          "execution_count": 27
        }
      ],
      "source": [
        "km_media = km_total / (ano_atual - ano_fabricacao)\n",
        "km_media"
      ]
    },
    {
      "cell_type": "code",
      "execution_count": 28,
      "metadata": {
        "id": "_2Qhb32jltk1",
        "colab": {
          "base_uri": "https://localhost:8080/"
        },
        "outputId": "8e5e4832-26c6-459d-c5d8-cf3bb5190558"
      },
      "outputs": [
        {
          "output_type": "execute_result",
          "data": {
            "text/plain": [
              "2775.625"
            ]
          },
          "metadata": {},
          "execution_count": 28
        }
      ],
      "source": [
        "ano_atual = 2019\n",
        "ano_fabricacao = 2003\n",
        "km_total = 44410.0\n",
        "\n",
        "km_media = km_total / (ano_atual - ano_fabricacao)\n",
        "km_media"
      ]
    },
    {
      "cell_type": "code",
      "execution_count": 29,
      "metadata": {
        "id": "nCJzA7dyltk3",
        "colab": {
          "base_uri": "https://localhost:8080/"
        },
        "outputId": "d59ff561-e814-49f0-c93f-584860ab7ca4"
      },
      "outputs": [
        {
          "output_type": "execute_result",
          "data": {
            "text/plain": [
              "47185.625"
            ]
          },
          "metadata": {},
          "execution_count": 29
        }
      ],
      "source": [
        "ano_atual = 2019\n",
        "ano_fabricacao = 2003\n",
        "km_total = 44410.0\n",
        "\n",
        "km_media = km_total / (ano_atual - ano_fabricacao)\n",
        "\n",
        "km_total += km_media\n",
        "km_total"
      ]
    },
    {
      "cell_type": "markdown",
      "metadata": {
        "id": "fDBrHWSBltlB"
      },
      "source": [
        "### Conclusão:\n",
        "```\n",
        "\"valor = valor + 1\" é equivalente a \"valor += 1\"\n",
        "```"
      ]
    },
    {
      "cell_type": "markdown",
      "metadata": {
        "id": "uVAyJbmAltlC"
      },
      "source": [
        "### Declaração múltipla"
      ]
    },
    {
      "cell_type": "code",
      "execution_count": 30,
      "metadata": {
        "id": "oMWEzjPOltlC"
      },
      "outputs": [],
      "source": [
        "ano_atual, ano_fabricacao, km_total = 2019, 2003, 44410.0"
      ]
    },
    {
      "cell_type": "code",
      "execution_count": 31,
      "metadata": {
        "id": "9ZKlHkLultlE",
        "colab": {
          "base_uri": "https://localhost:8080/"
        },
        "outputId": "8bac03bd-d1bb-47fc-cda8-5a61f2e6ddfc"
      },
      "outputs": [
        {
          "output_type": "execute_result",
          "data": {
            "text/plain": [
              "2019"
            ]
          },
          "metadata": {},
          "execution_count": 31
        }
      ],
      "source": [
        "ano_atual"
      ]
    },
    {
      "cell_type": "code",
      "execution_count": 32,
      "metadata": {
        "id": "-mcMuW9nltlG",
        "colab": {
          "base_uri": "https://localhost:8080/"
        },
        "outputId": "3dfd2bd3-1fc1-42b9-80ca-4193a6e26706"
      },
      "outputs": [
        {
          "output_type": "execute_result",
          "data": {
            "text/plain": [
              "2003"
            ]
          },
          "metadata": {},
          "execution_count": 32
        }
      ],
      "source": [
        "ano_fabricacao"
      ]
    },
    {
      "cell_type": "code",
      "execution_count": 33,
      "metadata": {
        "id": "WFFavLIvltlL",
        "colab": {
          "base_uri": "https://localhost:8080/"
        },
        "outputId": "ff5e2dc4-c2e0-43b9-f89c-836fba8af618"
      },
      "outputs": [
        {
          "output_type": "execute_result",
          "data": {
            "text/plain": [
              "44410.0"
            ]
          },
          "metadata": {},
          "execution_count": 33
        }
      ],
      "source": [
        "km_total"
      ]
    },
    {
      "cell_type": "code",
      "execution_count": 34,
      "metadata": {
        "id": "iFawOJe6ltlO",
        "colab": {
          "base_uri": "https://localhost:8080/"
        },
        "outputId": "3cdaa778-bd4f-41de-c834-11ec92376071"
      },
      "outputs": [
        {
          "output_type": "execute_result",
          "data": {
            "text/plain": [
              "2775.625"
            ]
          },
          "metadata": {},
          "execution_count": 34
        }
      ],
      "source": [
        "ano_atual, ano_fabricacao, km_total = 2019, 2003, 44410.0\n",
        "\n",
        "km_media = km_total / (ano_atual - ano_fabricacao)\n",
        "\n",
        "km_media"
      ]
    },
    {
      "cell_type": "markdown",
      "metadata": {
        "id": "uoRXMeRDltlQ"
      },
      "source": [
        "# 2.3 Tipos de dados"
      ]
    },
    {
      "cell_type": "markdown",
      "metadata": {
        "id": "sW_G6EjWltlQ"
      },
      "source": [
        "Os tipos de dados especificam como números e caracteres serão armazenados e manipulados dentro de um programa. Os tipos de dados básicos do Python são:\n",
        "\n",
        "1. **Números**\n",
        "    1. ***int*** - Inteiros\n",
        "    - ***float*** - Ponto flutuante\n",
        "- **Booleanos** - Assume os valores True ou False. Essencial quando começarmos a trabalhar com declarações condicionais\n",
        "- ***Strings*** - Sequência de um ou mais caracteres que pode incluir letras, números e outros tipos de caracteres. Representa um texto.\n",
        "- **None** - Representa a ausência de valor"
      ]
    },
    {
      "cell_type": "markdown",
      "metadata": {
        "id": "-HRRxQOtltlQ"
      },
      "source": [
        "### Números"
      ]
    },
    {
      "cell_type": "code",
      "execution_count": 35,
      "metadata": {
        "id": "5PKIcIuUltlR"
      },
      "outputs": [],
      "source": [
        "ano_atual = 2019"
      ]
    },
    {
      "cell_type": "code",
      "execution_count": 36,
      "metadata": {
        "id": "G32Yd1g0ltlT",
        "colab": {
          "base_uri": "https://localhost:8080/"
        },
        "outputId": "dfa11913-c135-4fc4-e721-4fc485e7f29b"
      },
      "outputs": [
        {
          "output_type": "execute_result",
          "data": {
            "text/plain": [
              "int"
            ]
          },
          "metadata": {},
          "execution_count": 36
        }
      ],
      "source": [
        "type(ano_atual)"
      ]
    },
    {
      "cell_type": "code",
      "execution_count": 37,
      "metadata": {
        "id": "b9_v__dEltlV"
      },
      "outputs": [],
      "source": [
        "km_total = 44410.0"
      ]
    },
    {
      "cell_type": "code",
      "execution_count": 38,
      "metadata": {
        "id": "A0nySb3LltlZ",
        "colab": {
          "base_uri": "https://localhost:8080/"
        },
        "outputId": "6308664c-e143-4b24-8f40-a1b2ef434fac"
      },
      "outputs": [
        {
          "output_type": "execute_result",
          "data": {
            "text/plain": [
              "float"
            ]
          },
          "metadata": {},
          "execution_count": 38
        }
      ],
      "source": [
        "type(km_total)"
      ]
    },
    {
      "cell_type": "markdown",
      "metadata": {
        "id": "7X9iheAnltld"
      },
      "source": [
        "### Booleanos"
      ]
    },
    {
      "cell_type": "code",
      "execution_count": 39,
      "metadata": {
        "id": "liUYdchPltle"
      },
      "outputs": [],
      "source": [
        "zero_km = True"
      ]
    },
    {
      "cell_type": "code",
      "execution_count": 40,
      "metadata": {
        "id": "oZIQAghaltlh",
        "colab": {
          "base_uri": "https://localhost:8080/"
        },
        "outputId": "93ff1c55-c89d-491f-8719-dba5f118b643"
      },
      "outputs": [
        {
          "output_type": "execute_result",
          "data": {
            "text/plain": [
              "bool"
            ]
          },
          "metadata": {},
          "execution_count": 40
        }
      ],
      "source": [
        "type(zero_km)"
      ]
    },
    {
      "cell_type": "code",
      "execution_count": 41,
      "metadata": {
        "id": "XCAYApe3ltlj"
      },
      "outputs": [],
      "source": [
        "zero_km = False"
      ]
    },
    {
      "cell_type": "code",
      "execution_count": 42,
      "metadata": {
        "id": "mJ0nGEV7ltll",
        "colab": {
          "base_uri": "https://localhost:8080/"
        },
        "outputId": "e7425dab-356e-41db-ed05-e03d48676803"
      },
      "outputs": [
        {
          "output_type": "execute_result",
          "data": {
            "text/plain": [
              "bool"
            ]
          },
          "metadata": {},
          "execution_count": 42
        }
      ],
      "source": [
        "type(zero_km)"
      ]
    },
    {
      "cell_type": "markdown",
      "metadata": {
        "id": "Ipjq4eiSltlp"
      },
      "source": [
        "### Strings"
      ]
    },
    {
      "cell_type": "code",
      "execution_count": 43,
      "metadata": {
        "id": "OeW_GQzOltlr",
        "colab": {
          "base_uri": "https://localhost:8080/",
          "height": 35
        },
        "outputId": "b9085d2c-306b-4e18-bd67-6b839cacce56"
      },
      "outputs": [
        {
          "output_type": "execute_result",
          "data": {
            "text/plain": [
              "'Jetta'"
            ],
            "application/vnd.google.colaboratory.intrinsic+json": {
              "type": "string"
            }
          },
          "metadata": {},
          "execution_count": 43
        }
      ],
      "source": [
        "nome = 'Jetta'\n",
        "nome"
      ]
    },
    {
      "cell_type": "code",
      "execution_count": 44,
      "metadata": {
        "id": "xF1Bi-Rkltlu",
        "colab": {
          "base_uri": "https://localhost:8080/",
          "height": 35
        },
        "outputId": "10aee307-e68c-4042-e254-a47f00de5b26"
      },
      "outputs": [
        {
          "output_type": "execute_result",
          "data": {
            "text/plain": [
              "'Jetta'"
            ],
            "application/vnd.google.colaboratory.intrinsic+json": {
              "type": "string"
            }
          },
          "metadata": {},
          "execution_count": 44
        }
      ],
      "source": [
        "nome = \"Jetta\"\n",
        "nome"
      ]
    },
    {
      "cell_type": "code",
      "execution_count": 45,
      "metadata": {
        "id": "QlobSFUtltlw",
        "colab": {
          "base_uri": "https://localhost:8080/",
          "height": 35
        },
        "outputId": "e057fe10-079d-4f3d-be98-d380f1d6425b"
      },
      "outputs": [
        {
          "output_type": "execute_result",
          "data": {
            "text/plain": [
              "'Jetta \"Variant\"'"
            ],
            "application/vnd.google.colaboratory.intrinsic+json": {
              "type": "string"
            }
          },
          "metadata": {},
          "execution_count": 45
        }
      ],
      "source": [
        "nome = 'Jetta \"Variant\"'\n",
        "nome"
      ]
    },
    {
      "cell_type": "code",
      "execution_count": 46,
      "metadata": {
        "id": "8LBWzzfbltly",
        "colab": {
          "base_uri": "https://localhost:8080/",
          "height": 35
        },
        "outputId": "7288bee3-6a13-44d1-aed9-4086f31679c2"
      },
      "outputs": [
        {
          "output_type": "execute_result",
          "data": {
            "text/plain": [
              "\"Jetta 'Variant'\""
            ],
            "application/vnd.google.colaboratory.intrinsic+json": {
              "type": "string"
            }
          },
          "metadata": {},
          "execution_count": 46
        }
      ],
      "source": [
        "nome = \"Jetta 'Variant'\"\n",
        "nome"
      ]
    },
    {
      "cell_type": "code",
      "execution_count": 47,
      "metadata": {
        "id": "ycEhoxtUltl0",
        "colab": {
          "base_uri": "https://localhost:8080/",
          "height": 35
        },
        "outputId": "0ce4ba1c-f7ff-4a86-af5c-b458368ba32c"
      },
      "outputs": [
        {
          "output_type": "execute_result",
          "data": {
            "text/plain": [
              "'\\n  Nome\\n  Idade\\n  Nota\\n'"
            ],
            "application/vnd.google.colaboratory.intrinsic+json": {
              "type": "string"
            }
          },
          "metadata": {},
          "execution_count": 47
        }
      ],
      "source": [
        "carro = '''\n",
        "  Nome\n",
        "  Idade\n",
        "  Nota\n",
        "'''\n",
        "\n",
        "carro"
      ]
    },
    {
      "cell_type": "code",
      "execution_count": 48,
      "metadata": {
        "id": "bjZQzpuUltl2",
        "colab": {
          "base_uri": "https://localhost:8080/"
        },
        "outputId": "2d3b5cea-36e9-459d-9403-5b39e436c685"
      },
      "outputs": [
        {
          "output_type": "execute_result",
          "data": {
            "text/plain": [
              "str"
            ]
          },
          "metadata": {},
          "execution_count": 48
        }
      ],
      "source": [
        "type(carro)"
      ]
    },
    {
      "cell_type": "markdown",
      "metadata": {
        "id": "w6bJU-R9ltl5"
      },
      "source": [
        "### None"
      ]
    },
    {
      "cell_type": "code",
      "execution_count": 49,
      "metadata": {
        "id": "RgeVhXGxltl5"
      },
      "outputs": [],
      "source": [
        "quilometragem = None"
      ]
    },
    {
      "cell_type": "code",
      "execution_count": 50,
      "metadata": {
        "id": "MJI6PKS6ltl8",
        "colab": {
          "base_uri": "https://localhost:8080/"
        },
        "outputId": "06ad979e-e00e-4f77-8a50-3969a037481d"
      },
      "outputs": [
        {
          "output_type": "execute_result",
          "data": {
            "text/plain": [
              "NoneType"
            ]
          },
          "metadata": {},
          "execution_count": 50
        }
      ],
      "source": [
        "type(quilometragem)"
      ]
    },
    {
      "cell_type": "markdown",
      "metadata": {
        "id": "_ilupwV-ltl-"
      },
      "source": [
        "# 2.4 Conversão de tipos"
      ]
    },
    {
      "cell_type": "code",
      "execution_count": 51,
      "metadata": {
        "id": "D5hq5Qbvltl-"
      },
      "outputs": [],
      "source": [
        "a = 10\n",
        "b = 2\n",
        "c = 'Python é '\n",
        "d = 'legal'"
      ]
    },
    {
      "cell_type": "code",
      "execution_count": 52,
      "metadata": {
        "id": "aJ0vi8_Nltl_",
        "colab": {
          "base_uri": "https://localhost:8080/"
        },
        "outputId": "80722ebd-d450-42dc-deb8-2350180089d9"
      },
      "outputs": [
        {
          "output_type": "execute_result",
          "data": {
            "text/plain": [
              "int"
            ]
          },
          "metadata": {},
          "execution_count": 52
        }
      ],
      "source": [
        "type(a)"
      ]
    },
    {
      "cell_type": "code",
      "execution_count": 53,
      "metadata": {
        "id": "29FVH7p7ltmB",
        "colab": {
          "base_uri": "https://localhost:8080/"
        },
        "outputId": "b74c753e-8421-41b6-a3fb-fdac307800d5"
      },
      "outputs": [
        {
          "output_type": "execute_result",
          "data": {
            "text/plain": [
              "int"
            ]
          },
          "metadata": {},
          "execution_count": 53
        }
      ],
      "source": [
        "type(b)"
      ]
    },
    {
      "cell_type": "code",
      "execution_count": 54,
      "metadata": {
        "id": "NGseTO2SltmC",
        "colab": {
          "base_uri": "https://localhost:8080/"
        },
        "outputId": "c57884a6-d2d0-4ad9-ead6-77732c54dead"
      },
      "outputs": [
        {
          "output_type": "execute_result",
          "data": {
            "text/plain": [
              "str"
            ]
          },
          "metadata": {},
          "execution_count": 54
        }
      ],
      "source": [
        "type(c)"
      ]
    },
    {
      "cell_type": "code",
      "execution_count": 55,
      "metadata": {
        "id": "yaSBhwNWltmE",
        "colab": {
          "base_uri": "https://localhost:8080/"
        },
        "outputId": "27721f94-23ba-4a3b-d244-08ee0ea11171"
      },
      "outputs": [
        {
          "output_type": "execute_result",
          "data": {
            "text/plain": [
              "str"
            ]
          },
          "metadata": {},
          "execution_count": 55
        }
      ],
      "source": [
        "type(d)"
      ]
    },
    {
      "cell_type": "code",
      "execution_count": 56,
      "metadata": {
        "id": "5zMXVwLHltmF",
        "colab": {
          "base_uri": "https://localhost:8080/"
        },
        "outputId": "5d97cec9-c8f7-4083-d898-b465db291e79"
      },
      "outputs": [
        {
          "output_type": "execute_result",
          "data": {
            "text/plain": [
              "12"
            ]
          },
          "metadata": {},
          "execution_count": 56
        }
      ],
      "source": [
        "a + b"
      ]
    },
    {
      "cell_type": "code",
      "execution_count": 57,
      "metadata": {
        "id": "JJrqKRZFltmJ",
        "colab": {
          "base_uri": "https://localhost:8080/",
          "height": 35
        },
        "outputId": "1d0c7e02-5ffb-40c1-fe4d-52eebc52d64a"
      },
      "outputs": [
        {
          "output_type": "execute_result",
          "data": {
            "text/plain": [
              "'Python é legal'"
            ],
            "application/vnd.google.colaboratory.intrinsic+json": {
              "type": "string"
            }
          },
          "metadata": {},
          "execution_count": 57
        }
      ],
      "source": [
        "c + d"
      ]
    },
    {
      "cell_type": "code",
      "execution_count": 58,
      "metadata": {
        "id": "hWEIttpgltmM"
      },
      "outputs": [],
      "source": [
        "# c + a"
      ]
    },
    {
      "cell_type": "markdown",
      "metadata": {
        "id": "dByigpENltmO"
      },
      "source": [
        "### Conversões de tipo\n",
        "\n",
        "Funções int(), float(), str()"
      ]
    },
    {
      "cell_type": "code",
      "execution_count": 59,
      "metadata": {
        "id": "MtecvWlsltmP",
        "colab": {
          "base_uri": "https://localhost:8080/",
          "height": 35
        },
        "outputId": "299d2bfa-e574-44eb-93af-9981cf90d1ac"
      },
      "outputs": [
        {
          "output_type": "execute_result",
          "data": {
            "text/plain": [
              "'10'"
            ],
            "application/vnd.google.colaboratory.intrinsic+json": {
              "type": "string"
            }
          },
          "metadata": {},
          "execution_count": 59
        }
      ],
      "source": [
        "str(a)"
      ]
    },
    {
      "cell_type": "code",
      "execution_count": 60,
      "metadata": {
        "id": "S1NuIhDVltmS",
        "colab": {
          "base_uri": "https://localhost:8080/"
        },
        "outputId": "002a660f-0f89-4ba7-8628-bfdef27da1f4"
      },
      "outputs": [
        {
          "output_type": "execute_result",
          "data": {
            "text/plain": [
              "str"
            ]
          },
          "metadata": {},
          "execution_count": 60
        }
      ],
      "source": [
        "type(str(a))"
      ]
    },
    {
      "cell_type": "code",
      "execution_count": 61,
      "metadata": {
        "id": "3kCUD1X-ltmT",
        "colab": {
          "base_uri": "https://localhost:8080/",
          "height": 35
        },
        "outputId": "5c49dc9c-6dd6-4817-baa2-8b2d207981ff"
      },
      "outputs": [
        {
          "output_type": "execute_result",
          "data": {
            "text/plain": [
              "'Python é 10'"
            ],
            "application/vnd.google.colaboratory.intrinsic+json": {
              "type": "string"
            }
          },
          "metadata": {},
          "execution_count": 61
        }
      ],
      "source": [
        "c + str(a)"
      ]
    },
    {
      "cell_type": "code",
      "execution_count": 62,
      "metadata": {
        "id": "TTjSEVRaltmU",
        "colab": {
          "base_uri": "https://localhost:8080/"
        },
        "outputId": "8d5c99d0-a224-49c1-ade3-89ecbbbbfbd9"
      },
      "outputs": [
        {
          "output_type": "execute_result",
          "data": {
            "text/plain": [
              "10.0"
            ]
          },
          "metadata": {},
          "execution_count": 62
        }
      ],
      "source": [
        "float(a)"
      ]
    },
    {
      "cell_type": "code",
      "execution_count": 63,
      "metadata": {
        "id": "P1P1bXaYltmV"
      },
      "outputs": [],
      "source": [
        "var = 3.141592"
      ]
    },
    {
      "cell_type": "code",
      "execution_count": 64,
      "metadata": {
        "id": "F_8Cn0aAltmW",
        "colab": {
          "base_uri": "https://localhost:8080/"
        },
        "outputId": "8ac2c227-0c14-4b06-a4ac-a2ee04b80b68"
      },
      "outputs": [
        {
          "output_type": "execute_result",
          "data": {
            "text/plain": [
              "float"
            ]
          },
          "metadata": {},
          "execution_count": 64
        }
      ],
      "source": [
        "type(var)"
      ]
    },
    {
      "cell_type": "code",
      "execution_count": 65,
      "metadata": {
        "id": "_KA6MUgmltmY",
        "colab": {
          "base_uri": "https://localhost:8080/"
        },
        "outputId": "2fde7dac-9389-4015-eec6-ea6d7e39d666"
      },
      "outputs": [
        {
          "output_type": "execute_result",
          "data": {
            "text/plain": [
              "3"
            ]
          },
          "metadata": {},
          "execution_count": 65
        }
      ],
      "source": [
        "int(var)"
      ]
    },
    {
      "cell_type": "markdown",
      "metadata": {
        "id": "gGpflJMYltmd"
      },
      "source": [
        "# 2.5 Indentação, comentários e formatação de *strings*"
      ]
    },
    {
      "cell_type": "markdown",
      "metadata": {
        "id": "XbijUgqVltmw"
      },
      "source": [
        "### Indentação\n",
        "\n",
        "Na linguagem Python os programas são estruturados por meio de indentação. Em qualquer linguagem de programação a prática da indentação é bastante útil, facilitando a leitura e também a manutenção do código. Em Python a indentação não é somente uma questão de organização e estilo, mas sim um requisito da linguagem."
      ]
    },
    {
      "cell_type": "code",
      "execution_count": 66,
      "metadata": {
        "id": "DqXANnyultmw",
        "colab": {
          "base_uri": "https://localhost:8080/"
        },
        "outputId": "eac3977d-1566-4907-809a-0a77c70ecec2"
      },
      "outputs": [
        {
          "output_type": "stream",
          "name": "stdout",
          "text": [
            "Verdadeiro\n"
          ]
        }
      ],
      "source": [
        "ano_atual = 2019\n",
        "ano_fabricacao = 2019\n",
        "\n",
        "if (ano_atual == ano_fabricacao):\n",
        "    print('Verdadeiro')\n",
        "else:\n",
        "    print('Falso')"
      ]
    },
    {
      "cell_type": "markdown",
      "metadata": {
        "id": "dNBfv7x7ltmy"
      },
      "source": [
        "### Comentários\n",
        "\n",
        "Comentários são extremamente importantes em um programa. Consiste em um texto que descreve o que o programa ou uma parte específica do programa está fazendo. Os comentários são ignorados pelo interpretador Python. \n",
        "\n",
        "Podemos ter comentários de uma única linha ou de múltiplas linhas."
      ]
    },
    {
      "cell_type": "code",
      "execution_count": 67,
      "metadata": {
        "id": "GN3DfwiRltmy",
        "colab": {
          "base_uri": "https://localhost:8080/"
        },
        "outputId": "c868bf9d-4b0d-47cc-f477-71224cefeed3"
      },
      "outputs": [
        {
          "output_type": "execute_result",
          "data": {
            "text/plain": [
              "2019"
            ]
          },
          "metadata": {},
          "execution_count": 67
        }
      ],
      "source": [
        "# Isto é um comentário\n",
        "ano_atual = 2019\n",
        "ano_atual"
      ]
    },
    {
      "cell_type": "code",
      "execution_count": 68,
      "metadata": {
        "id": "PICBiohFltm2",
        "colab": {
          "base_uri": "https://localhost:8080/"
        },
        "outputId": "98099316-643b-4c99-f791-3db9f144aee7"
      },
      "outputs": [
        {
          "output_type": "execute_result",
          "data": {
            "text/plain": [
              "2019"
            ]
          },
          "metadata": {},
          "execution_count": 68
        }
      ],
      "source": [
        "# Isto\n",
        "# é um \n",
        "# comentário\n",
        "ano_atual = 2019\n",
        "ano_atual"
      ]
    },
    {
      "cell_type": "code",
      "execution_count": 69,
      "metadata": {
        "id": "PTkJ4Vjultm4",
        "colab": {
          "base_uri": "https://localhost:8080/"
        },
        "outputId": "730c09b7-3573-4372-fd87-6db0ce67b371"
      },
      "outputs": [
        {
          "output_type": "execute_result",
          "data": {
            "text/plain": [
              "2019"
            ]
          },
          "metadata": {},
          "execution_count": 69
        }
      ],
      "source": [
        "'''Isto é um\n",
        "comentário'''\n",
        "ano_atual = 2019\n",
        "ano_atual"
      ]
    },
    {
      "cell_type": "code",
      "execution_count": 70,
      "metadata": {
        "id": "SYEGdALxltm5",
        "colab": {
          "base_uri": "https://localhost:8080/"
        },
        "outputId": "93433d00-cb8d-49c1-ff4f-a0ec40f6d98a"
      },
      "outputs": [
        {
          "output_type": "stream",
          "name": "stdout",
          "text": [
            "Verdadeiro\n"
          ]
        }
      ],
      "source": [
        "# Definindo variáveis\n",
        "ano_atual = 2019\n",
        "ano_fabricacao = 2019\n",
        "\n",
        "'''\n",
        "Estrutura condicional que vamos \n",
        "aprender na próxima aula\n",
        "'''\n",
        "if (ano_atual == ano_fabricacao):   # Testando se condição é verdadeira\n",
        "    print('Verdadeiro')\n",
        "else:                               # Testando se condição é falsa\n",
        "    print('Falso')"
      ]
    },
    {
      "cell_type": "markdown",
      "metadata": {
        "id": "8--bcJ01ltm8"
      },
      "source": [
        "### Formatação de *strings*"
      ]
    },
    {
      "cell_type": "markdown",
      "metadata": {
        "id": "CMovhJZ_ltnG"
      },
      "source": [
        "## *str.format()*\n",
        "\n",
        "https://docs.python.org/3.6/library/stdtypes.html#str.format"
      ]
    },
    {
      "cell_type": "code",
      "execution_count": 71,
      "metadata": {
        "id": "N12xmMehltnG",
        "colab": {
          "base_uri": "https://localhost:8080/"
        },
        "outputId": "9a682ac2-c66b-4fa0-beac-b92a6858a1c4"
      },
      "outputs": [
        {
          "output_type": "stream",
          "name": "stdout",
          "text": [
            "Olá, Rodrigo!\n"
          ]
        }
      ],
      "source": [
        "print('Olá, {}!'.format('Rodrigo'))"
      ]
    },
    {
      "cell_type": "code",
      "execution_count": 72,
      "metadata": {
        "id": "mRBmU9G1ltnJ",
        "colab": {
          "base_uri": "https://localhost:8080/"
        },
        "outputId": "25a11ae4-8994-4389-8c63-1b4bb2c72f47"
      },
      "outputs": [
        {
          "output_type": "stream",
          "name": "stdout",
          "text": [
            "Olá, Rodrigo! Este é seu acesso de número 32\n"
          ]
        }
      ],
      "source": [
        "print('Olá, {}! Este é seu acesso de número {}'.format('Rodrigo', 32))"
      ]
    },
    {
      "cell_type": "code",
      "execution_count": 73,
      "metadata": {
        "id": "wpqEsTwnltnL",
        "colab": {
          "base_uri": "https://localhost:8080/"
        },
        "outputId": "532a7a1d-9142-4f98-d835-5d80b4692faa"
      },
      "outputs": [
        {
          "output_type": "stream",
          "name": "stdout",
          "text": [
            "Olá, Rodrigo! Este é seu acesso de número 32\n"
          ]
        }
      ],
      "source": [
        "print('Olá, {nome}! Este é seu acesso de número {acessos}'.format(nome = 'Rodrigo', acessos = 32))"
      ]
    },
    {
      "cell_type": "markdown",
      "metadata": {
        "id": "V-wPNUN9ltnN"
      },
      "source": [
        "## *f-Strings*\n",
        "\n",
        "https://docs.python.org/3.6/reference/lexical_analysis.html#f-strings"
      ]
    },
    {
      "cell_type": "code",
      "execution_count": 74,
      "metadata": {
        "id": "7Fq_WPv0ltnO"
      },
      "outputs": [],
      "source": [
        "nome = 'Rodrigo'\n",
        "acessos = 32"
      ]
    },
    {
      "cell_type": "code",
      "execution_count": 75,
      "metadata": {
        "id": "bE3qbd6WltnR",
        "colab": {
          "base_uri": "https://localhost:8080/"
        },
        "outputId": "58c5fbc3-d474-4f15-f5af-b74aa9619e27"
      },
      "outputs": [
        {
          "output_type": "stream",
          "name": "stdout",
          "text": [
            "Olá, Rodrigo! Este é seu acesso de número 32\n"
          ]
        }
      ],
      "source": [
        "print(f'Olá, {nome}! Este é seu acesso de número {acessos}')"
      ]
    },
    {
      "cell_type": "markdown",
      "metadata": {
        "id": "_IZuNE48ltnS"
      },
      "source": [
        "# <font color=green> 3. TRABALHANDO COM LISTAS\n",
        "---"
      ]
    },
    {
      "cell_type": "markdown",
      "metadata": {
        "id": "zhS89xysltnS"
      },
      "source": [
        "# 3.1 Criando listas\n",
        "\n",
        "Listas são sequências **mutáveis** que são utilizadas para armazenar coleções de itens, geralmente homogêneos. Podem ser construídas de várias formas:\n",
        "```\n",
        "- Utilizando um par de colchetes: [ ], [ 1 ]\n",
        "- Utilizando um par de colchetes com itens separados por vírgulas: [ 1, 2, 3 ]\n",
        "```"
      ]
    },
    {
      "cell_type": "code",
      "execution_count": 76,
      "metadata": {
        "id": "aE4UWF10ltnS",
        "colab": {
          "base_uri": "https://localhost:8080/"
        },
        "outputId": "1ee3aaf0-2f0e-46e8-dcd8-d4a878730209"
      },
      "outputs": [
        {
          "output_type": "execute_result",
          "data": {
            "text/plain": [
              "['Rodas de liga',\n",
              " 'Travas elétricas',\n",
              " 'Piloto automático',\n",
              " 'Bancos de couro',\n",
              " 'Ar condicionado',\n",
              " 'Sensor de estacionamento',\n",
              " 'Sensor crepuscular',\n",
              " 'Sensor de chuva']"
            ]
          },
          "metadata": {},
          "execution_count": 76
        }
      ],
      "source": [
        "Acessorios = ['Rodas de liga', 'Travas elétricas', 'Piloto automático', 'Bancos de couro', 'Ar condicionado', 'Sensor de estacionamento', 'Sensor crepuscular', 'Sensor de chuva']\n",
        "Acessorios"
      ]
    },
    {
      "cell_type": "markdown",
      "metadata": {
        "id": "Mmlkh5TVltnT"
      },
      "source": [
        "### Lista com tipos de dados variados"
      ]
    },
    {
      "cell_type": "code",
      "execution_count": 77,
      "metadata": {
        "id": "Mfpu7NoJltnT"
      },
      "outputs": [],
      "source": [
        "Carro_1 = ['Jetta Variant', 'Motor 4.0 Turbo', 2003, 44410.0, False, ['Rodas de liga', 'Travas elétricas', 'Piloto automático'], 88078.64]\n",
        "Carro_2 = ['Passat', 'Motor Diesel', 1991, 5712.0, False, ['Central multimídia', 'Teto panorâmico', 'Freios ABS'], 106161.94]"
      ]
    },
    {
      "cell_type": "code",
      "execution_count": 78,
      "metadata": {
        "id": "EJSJFJjKltnV",
        "colab": {
          "base_uri": "https://localhost:8080/"
        },
        "outputId": "730f0ff8-d332-4a35-dfd3-dce1f167f092"
      },
      "outputs": [
        {
          "output_type": "execute_result",
          "data": {
            "text/plain": [
              "['Jetta Variant',\n",
              " 'Motor 4.0 Turbo',\n",
              " 2003,\n",
              " 44410.0,\n",
              " False,\n",
              " ['Rodas de liga', 'Travas elétricas', 'Piloto automático'],\n",
              " 88078.64]"
            ]
          },
          "metadata": {},
          "execution_count": 78
        }
      ],
      "source": [
        "Carro_1"
      ]
    },
    {
      "cell_type": "code",
      "execution_count": 79,
      "metadata": {
        "id": "7MMG7L8VltnX",
        "colab": {
          "base_uri": "https://localhost:8080/"
        },
        "outputId": "920f5ba2-7fbc-47cb-91ad-ca3292b15df3"
      },
      "outputs": [
        {
          "output_type": "execute_result",
          "data": {
            "text/plain": [
              "['Passat',\n",
              " 'Motor Diesel',\n",
              " 1991,\n",
              " 5712.0,\n",
              " False,\n",
              " ['Central multimídia', 'Teto panorâmico', 'Freios ABS'],\n",
              " 106161.94]"
            ]
          },
          "metadata": {},
          "execution_count": 79
        }
      ],
      "source": [
        "Carro_2"
      ]
    },
    {
      "cell_type": "code",
      "execution_count": 80,
      "metadata": {
        "id": "7E8erLgZltnZ",
        "colab": {
          "base_uri": "https://localhost:8080/"
        },
        "outputId": "52ab1d1c-1f80-4648-eba3-721b3bd95118"
      },
      "outputs": [
        {
          "output_type": "execute_result",
          "data": {
            "text/plain": [
              "[['Jetta Variant',\n",
              "  'Motor 4.0 Turbo',\n",
              "  2003,\n",
              "  44410.0,\n",
              "  False,\n",
              "  ['Rodas de liga', 'Travas elétricas', 'Piloto automático'],\n",
              "  88078.64],\n",
              " ['Passat',\n",
              "  'Motor Diesel',\n",
              "  1991,\n",
              "  5712.0,\n",
              "  False,\n",
              "  ['Central multimídia', 'Teto panorâmico', 'Freios ABS'],\n",
              "  106161.94]]"
            ]
          },
          "metadata": {},
          "execution_count": 80
        }
      ],
      "source": [
        "Carros = [Carro_1, Carro_2]\n",
        "Carros"
      ]
    },
    {
      "cell_type": "markdown",
      "metadata": {
        "id": "5yMXJ0xdltna"
      },
      "source": [
        "# 3.2 Operações com listas\n",
        "\n",
        "https://docs.python.org/3.6/library/stdtypes.html#common-sequence-operations"
      ]
    },
    {
      "cell_type": "markdown",
      "metadata": {
        "id": "YSorJOGlltna"
      },
      "source": [
        "## *x in A*\n",
        "\n",
        "Retorna **True** se um elemento da lista *A* for igual a *x*."
      ]
    },
    {
      "cell_type": "code",
      "execution_count": 81,
      "metadata": {
        "id": "GgSP_nlHltnb",
        "colab": {
          "base_uri": "https://localhost:8080/"
        },
        "outputId": "e7b87cc1-b38c-41ad-8b48-52749796ffb8"
      },
      "outputs": [
        {
          "output_type": "execute_result",
          "data": {
            "text/plain": [
              "True"
            ]
          },
          "metadata": {},
          "execution_count": 81
        }
      ],
      "source": [
        "'Rodas de liga' in Acessorios"
      ]
    },
    {
      "cell_type": "code",
      "execution_count": 82,
      "metadata": {
        "id": "_JyyHPmWltnd",
        "colab": {
          "base_uri": "https://localhost:8080/"
        },
        "outputId": "a70ce790-661d-432b-dc51-3096a96817da"
      },
      "outputs": [
        {
          "output_type": "execute_result",
          "data": {
            "text/plain": [
              "False"
            ]
          },
          "metadata": {},
          "execution_count": 82
        }
      ],
      "source": [
        "'4 X 4' in Acessorios"
      ]
    },
    {
      "cell_type": "code",
      "execution_count": 83,
      "metadata": {
        "id": "tebg9gAyltne",
        "colab": {
          "base_uri": "https://localhost:8080/"
        },
        "outputId": "2f54747a-3986-45c1-9261-1e0af76235fb"
      },
      "outputs": [
        {
          "output_type": "execute_result",
          "data": {
            "text/plain": [
              "False"
            ]
          },
          "metadata": {},
          "execution_count": 83
        }
      ],
      "source": [
        "'Rodas de liga' not in Acessorios"
      ]
    },
    {
      "cell_type": "code",
      "execution_count": 84,
      "metadata": {
        "id": "W_1PKJYsltnf",
        "colab": {
          "base_uri": "https://localhost:8080/"
        },
        "outputId": "0f89af7a-5b57-455f-a8fb-bbd2c570a8e1"
      },
      "outputs": [
        {
          "output_type": "execute_result",
          "data": {
            "text/plain": [
              "True"
            ]
          },
          "metadata": {},
          "execution_count": 84
        }
      ],
      "source": [
        "'4 X 4' not in Acessorios"
      ]
    },
    {
      "cell_type": "markdown",
      "metadata": {
        "id": "RF6_rf90ltnh"
      },
      "source": [
        "## *A + B*\n",
        "\n",
        "Concatena as listas *A* e *B*."
      ]
    },
    {
      "cell_type": "code",
      "execution_count": 85,
      "metadata": {
        "id": "8lnzbYnRltnh"
      },
      "outputs": [],
      "source": [
        "A = ['Rodas de liga', 'Travas elétricas', 'Piloto automático', 'Bancos de couro']\n",
        "B = ['Ar condicionado', 'Sensor de estacionamento', 'Sensor crepuscular', 'Sensor de chuva']"
      ]
    },
    {
      "cell_type": "code",
      "execution_count": 86,
      "metadata": {
        "id": "SzbiHHF4ltni",
        "colab": {
          "base_uri": "https://localhost:8080/"
        },
        "outputId": "9981cdb5-e11a-4039-f067-ca425ebb42a6"
      },
      "outputs": [
        {
          "output_type": "execute_result",
          "data": {
            "text/plain": [
              "['Rodas de liga', 'Travas elétricas', 'Piloto automático', 'Bancos de couro']"
            ]
          },
          "metadata": {},
          "execution_count": 86
        }
      ],
      "source": [
        "A"
      ]
    },
    {
      "cell_type": "code",
      "execution_count": 87,
      "metadata": {
        "id": "It5Cn5aXltni",
        "colab": {
          "base_uri": "https://localhost:8080/"
        },
        "outputId": "fe878782-5c4d-44dc-ea08-935c18191c54"
      },
      "outputs": [
        {
          "output_type": "execute_result",
          "data": {
            "text/plain": [
              "['Ar condicionado',\n",
              " 'Sensor de estacionamento',\n",
              " 'Sensor crepuscular',\n",
              " 'Sensor de chuva']"
            ]
          },
          "metadata": {},
          "execution_count": 87
        }
      ],
      "source": [
        "B"
      ]
    },
    {
      "cell_type": "code",
      "execution_count": 88,
      "metadata": {
        "id": "l7gF4Ph5ltnj",
        "colab": {
          "base_uri": "https://localhost:8080/"
        },
        "outputId": "cfbe96a4-bed8-48bd-8fa2-ee860e76d9cb"
      },
      "outputs": [
        {
          "output_type": "execute_result",
          "data": {
            "text/plain": [
              "['Rodas de liga',\n",
              " 'Travas elétricas',\n",
              " 'Piloto automático',\n",
              " 'Bancos de couro',\n",
              " 'Ar condicionado',\n",
              " 'Sensor de estacionamento',\n",
              " 'Sensor crepuscular',\n",
              " 'Sensor de chuva']"
            ]
          },
          "metadata": {},
          "execution_count": 88
        }
      ],
      "source": [
        "A + B"
      ]
    },
    {
      "cell_type": "markdown",
      "metadata": {
        "id": "iTv5t7zAltnk"
      },
      "source": [
        "## *len(A)*\n",
        "\n",
        "Tamanho da lista A."
      ]
    },
    {
      "cell_type": "code",
      "execution_count": 89,
      "metadata": {
        "id": "dtbuCDSOltnk",
        "colab": {
          "base_uri": "https://localhost:8080/"
        },
        "outputId": "20dd73de-0aa0-4a51-c660-fd7ecb5257b7"
      },
      "outputs": [
        {
          "output_type": "execute_result",
          "data": {
            "text/plain": [
              "4"
            ]
          },
          "metadata": {},
          "execution_count": 89
        }
      ],
      "source": [
        "len(A)"
      ]
    },
    {
      "cell_type": "markdown",
      "metadata": {
        "id": "k7wWCbAmltnl"
      },
      "source": [
        "# 3.3 Seleções em listas"
      ]
    },
    {
      "cell_type": "markdown",
      "metadata": {
        "id": "uF3NmgUaltnl"
      },
      "source": [
        "## *A[ i ]*\n",
        "\n",
        "Retorna o i-ésimo item da lista *A*.\n",
        "\n",
        "<font color=red>**Observação:**</font> Listas têm indexação com origem no zero."
      ]
    },
    {
      "cell_type": "code",
      "execution_count": 90,
      "metadata": {
        "id": "f5ct7w1Wltnm",
        "colab": {
          "base_uri": "https://localhost:8080/"
        },
        "outputId": "51a4b5cc-d2b3-458a-cf76-9d98e61a4a76"
      },
      "outputs": [
        {
          "output_type": "execute_result",
          "data": {
            "text/plain": [
              "['Rodas de liga',\n",
              " 'Travas elétricas',\n",
              " 'Piloto automático',\n",
              " 'Bancos de couro',\n",
              " 'Ar condicionado',\n",
              " 'Sensor de estacionamento',\n",
              " 'Sensor crepuscular',\n",
              " 'Sensor de chuva']"
            ]
          },
          "metadata": {},
          "execution_count": 90
        }
      ],
      "source": [
        "Acessorios"
      ]
    },
    {
      "cell_type": "code",
      "execution_count": 91,
      "metadata": {
        "id": "-BLG7yifltnn",
        "colab": {
          "base_uri": "https://localhost:8080/",
          "height": 35
        },
        "outputId": "f684e90d-9fb2-4569-81ad-0c75a2314f01"
      },
      "outputs": [
        {
          "output_type": "execute_result",
          "data": {
            "text/plain": [
              "'Rodas de liga'"
            ],
            "application/vnd.google.colaboratory.intrinsic+json": {
              "type": "string"
            }
          },
          "metadata": {},
          "execution_count": 91
        }
      ],
      "source": [
        "Acessorios[0]"
      ]
    },
    {
      "cell_type": "code",
      "execution_count": 92,
      "metadata": {
        "id": "SoL6PIjJltno",
        "colab": {
          "base_uri": "https://localhost:8080/",
          "height": 35
        },
        "outputId": "b440f3d8-db2e-4669-e577-5879ba2e9c46"
      },
      "outputs": [
        {
          "output_type": "execute_result",
          "data": {
            "text/plain": [
              "'Travas elétricas'"
            ],
            "application/vnd.google.colaboratory.intrinsic+json": {
              "type": "string"
            }
          },
          "metadata": {},
          "execution_count": 92
        }
      ],
      "source": [
        "Acessorios[1]"
      ]
    },
    {
      "cell_type": "code",
      "execution_count": 93,
      "metadata": {
        "id": "pGMDc5FLltnq",
        "colab": {
          "base_uri": "https://localhost:8080/",
          "height": 35
        },
        "outputId": "41ba61df-441c-4e5c-fcf7-b524b7441c2d"
      },
      "outputs": [
        {
          "output_type": "execute_result",
          "data": {
            "text/plain": [
              "'Sensor de chuva'"
            ],
            "application/vnd.google.colaboratory.intrinsic+json": {
              "type": "string"
            }
          },
          "metadata": {},
          "execution_count": 93
        }
      ],
      "source": [
        "Acessorios[-1]"
      ]
    },
    {
      "cell_type": "code",
      "execution_count": 94,
      "metadata": {
        "id": "m3AaFe73ltnr",
        "colab": {
          "base_uri": "https://localhost:8080/"
        },
        "outputId": "d8d1cb29-a0de-4b1b-9801-5640ba506463"
      },
      "outputs": [
        {
          "output_type": "execute_result",
          "data": {
            "text/plain": [
              "[['Jetta Variant',\n",
              "  'Motor 4.0 Turbo',\n",
              "  2003,\n",
              "  44410.0,\n",
              "  False,\n",
              "  ['Rodas de liga', 'Travas elétricas', 'Piloto automático'],\n",
              "  88078.64],\n",
              " ['Passat',\n",
              "  'Motor Diesel',\n",
              "  1991,\n",
              "  5712.0,\n",
              "  False,\n",
              "  ['Central multimídia', 'Teto panorâmico', 'Freios ABS'],\n",
              "  106161.94]]"
            ]
          },
          "metadata": {},
          "execution_count": 94
        }
      ],
      "source": [
        "Carros"
      ]
    },
    {
      "cell_type": "code",
      "execution_count": 95,
      "metadata": {
        "id": "AeDJviqoltns",
        "colab": {
          "base_uri": "https://localhost:8080/"
        },
        "outputId": "a1a2dd46-f213-4295-9bf9-319f50f15527"
      },
      "outputs": [
        {
          "output_type": "execute_result",
          "data": {
            "text/plain": [
              "['Jetta Variant',\n",
              " 'Motor 4.0 Turbo',\n",
              " 2003,\n",
              " 44410.0,\n",
              " False,\n",
              " ['Rodas de liga', 'Travas elétricas', 'Piloto automático'],\n",
              " 88078.64]"
            ]
          },
          "metadata": {},
          "execution_count": 95
        }
      ],
      "source": [
        "Carros[0]"
      ]
    },
    {
      "cell_type": "code",
      "execution_count": 96,
      "metadata": {
        "id": "KdenG1BZltnt",
        "colab": {
          "base_uri": "https://localhost:8080/",
          "height": 35
        },
        "outputId": "655e692a-da5b-4ac4-e8ac-e17a769aa244"
      },
      "outputs": [
        {
          "output_type": "execute_result",
          "data": {
            "text/plain": [
              "'Jetta Variant'"
            ],
            "application/vnd.google.colaboratory.intrinsic+json": {
              "type": "string"
            }
          },
          "metadata": {},
          "execution_count": 96
        }
      ],
      "source": [
        "Carros[0][0]"
      ]
    },
    {
      "cell_type": "code",
      "execution_count": 97,
      "metadata": {
        "id": "iOjsfrlFltnu",
        "colab": {
          "base_uri": "https://localhost:8080/",
          "height": 35
        },
        "outputId": "d30f66fb-1fe1-4b05-81e9-6ee6f17bdb20"
      },
      "outputs": [
        {
          "output_type": "execute_result",
          "data": {
            "text/plain": [
              "'Travas elétricas'"
            ],
            "application/vnd.google.colaboratory.intrinsic+json": {
              "type": "string"
            }
          },
          "metadata": {},
          "execution_count": 97
        }
      ],
      "source": [
        "Carros[0][-2][1]"
      ]
    },
    {
      "cell_type": "markdown",
      "metadata": {
        "id": "9WgwxPIMltnv"
      },
      "source": [
        "## *A[ i : j ]*\n",
        "\n",
        "Recorta a lista *A* do índice i até o j. Neste fatiamento o elemento com índice i é **incluído** e o elemento com índice j **não é incluído** no resultado."
      ]
    },
    {
      "cell_type": "code",
      "execution_count": 98,
      "metadata": {
        "id": "bJzL2PMiltnv",
        "colab": {
          "base_uri": "https://localhost:8080/"
        },
        "outputId": "267c4e8a-0e09-426f-9b75-035c8e2a2020"
      },
      "outputs": [
        {
          "output_type": "execute_result",
          "data": {
            "text/plain": [
              "['Rodas de liga',\n",
              " 'Travas elétricas',\n",
              " 'Piloto automático',\n",
              " 'Bancos de couro',\n",
              " 'Ar condicionado',\n",
              " 'Sensor de estacionamento',\n",
              " 'Sensor crepuscular',\n",
              " 'Sensor de chuva']"
            ]
          },
          "metadata": {},
          "execution_count": 98
        }
      ],
      "source": [
        "Acessorios"
      ]
    },
    {
      "cell_type": "code",
      "execution_count": 99,
      "metadata": {
        "id": "sFAlJ4u_ltnw",
        "colab": {
          "base_uri": "https://localhost:8080/"
        },
        "outputId": "cb73c5a0-6ab2-481e-b232-f5ffe8f594ec"
      },
      "outputs": [
        {
          "output_type": "execute_result",
          "data": {
            "text/plain": [
              "['Piloto automático', 'Bancos de couro', 'Ar condicionado']"
            ]
          },
          "metadata": {},
          "execution_count": 99
        }
      ],
      "source": [
        "Acessorios[2:5]"
      ]
    },
    {
      "cell_type": "code",
      "execution_count": 100,
      "metadata": {
        "id": "dFdTBWa9ltnz",
        "colab": {
          "base_uri": "https://localhost:8080/"
        },
        "outputId": "2924dc7e-5bc7-488b-c8f4-dee03c28f311"
      },
      "outputs": [
        {
          "output_type": "execute_result",
          "data": {
            "text/plain": [
              "['Piloto automático',\n",
              " 'Bancos de couro',\n",
              " 'Ar condicionado',\n",
              " 'Sensor de estacionamento',\n",
              " 'Sensor crepuscular',\n",
              " 'Sensor de chuva']"
            ]
          },
          "metadata": {},
          "execution_count": 100
        }
      ],
      "source": [
        "Acessorios[2:]"
      ]
    },
    {
      "cell_type": "code",
      "execution_count": 101,
      "metadata": {
        "id": "yxxB2-_Dltn0",
        "colab": {
          "base_uri": "https://localhost:8080/"
        },
        "outputId": "7d26e83b-5f33-4fa9-b9dd-a8d4b14f271e"
      },
      "outputs": [
        {
          "output_type": "execute_result",
          "data": {
            "text/plain": [
              "['Rodas de liga',\n",
              " 'Travas elétricas',\n",
              " 'Piloto automático',\n",
              " 'Bancos de couro',\n",
              " 'Ar condicionado']"
            ]
          },
          "metadata": {},
          "execution_count": 101
        }
      ],
      "source": [
        "Acessorios[:5]"
      ]
    },
    {
      "cell_type": "markdown",
      "metadata": {
        "id": "R-S-LCPGltn0"
      },
      "source": [
        "# 3.4 Métodos de listas\n",
        "\n",
        "https://docs.python.org/3.6/library/stdtypes.html#mutable-sequence-types"
      ]
    },
    {
      "cell_type": "markdown",
      "metadata": {
        "id": "j9s2OyyPltn1"
      },
      "source": [
        "## *A.sort()*\n",
        "\n",
        "Ordena a lista *A*."
      ]
    },
    {
      "cell_type": "code",
      "execution_count": 102,
      "metadata": {
        "id": "A2dJGhFsltn1",
        "colab": {
          "base_uri": "https://localhost:8080/"
        },
        "outputId": "26bd4e38-5ff3-4ed2-825a-9ffc9f823e8a"
      },
      "outputs": [
        {
          "output_type": "execute_result",
          "data": {
            "text/plain": [
              "['Rodas de liga',\n",
              " 'Travas elétricas',\n",
              " 'Piloto automático',\n",
              " 'Bancos de couro',\n",
              " 'Ar condicionado',\n",
              " 'Sensor de estacionamento',\n",
              " 'Sensor crepuscular',\n",
              " 'Sensor de chuva']"
            ]
          },
          "metadata": {},
          "execution_count": 102
        }
      ],
      "source": [
        "Acessorios"
      ]
    },
    {
      "cell_type": "code",
      "execution_count": 103,
      "metadata": {
        "id": "VDWCHlTcltn2",
        "colab": {
          "base_uri": "https://localhost:8080/"
        },
        "outputId": "091dd396-3558-413e-dc10-9921f0a21cde"
      },
      "outputs": [
        {
          "output_type": "execute_result",
          "data": {
            "text/plain": [
              "['Ar condicionado',\n",
              " 'Bancos de couro',\n",
              " 'Piloto automático',\n",
              " 'Rodas de liga',\n",
              " 'Sensor crepuscular',\n",
              " 'Sensor de chuva',\n",
              " 'Sensor de estacionamento',\n",
              " 'Travas elétricas']"
            ]
          },
          "metadata": {},
          "execution_count": 103
        }
      ],
      "source": [
        "Acessorios.sort()\n",
        "Acessorios"
      ]
    },
    {
      "cell_type": "markdown",
      "metadata": {
        "id": "N9Spp7-xltn3"
      },
      "source": [
        "## *A.append(x)*\n",
        "\n",
        "Adiciona o elemnto *x* no final da lista *A*."
      ]
    },
    {
      "cell_type": "code",
      "execution_count": 104,
      "metadata": {
        "id": "l7I_U-sRltn4",
        "colab": {
          "base_uri": "https://localhost:8080/"
        },
        "outputId": "7e5036d7-bf62-4704-b259-17003ff2a353"
      },
      "outputs": [
        {
          "output_type": "execute_result",
          "data": {
            "text/plain": [
              "['Ar condicionado',\n",
              " 'Bancos de couro',\n",
              " 'Piloto automático',\n",
              " 'Rodas de liga',\n",
              " 'Sensor crepuscular',\n",
              " 'Sensor de chuva',\n",
              " 'Sensor de estacionamento',\n",
              " 'Travas elétricas',\n",
              " '4 x 4']"
            ]
          },
          "metadata": {},
          "execution_count": 104
        }
      ],
      "source": [
        "Acessorios.append('4 x 4')\n",
        "Acessorios"
      ]
    },
    {
      "cell_type": "markdown",
      "metadata": {
        "id": "eiP3oACPltn6"
      },
      "source": [
        "## *A.pop(i)*\n",
        "\n",
        "Remove e retorna o elemento de índice i da lista *A*.\n",
        "\n",
        "<font color=red>**Observação:**</font> Por *default* o método *pop()* remove e retorna o último elemento de uma lista."
      ]
    },
    {
      "cell_type": "code",
      "execution_count": 105,
      "metadata": {
        "id": "BoCKa5Hqltn6",
        "colab": {
          "base_uri": "https://localhost:8080/",
          "height": 35
        },
        "outputId": "745a5224-f7f5-46bb-db3a-64bef862995b"
      },
      "outputs": [
        {
          "output_type": "execute_result",
          "data": {
            "text/plain": [
              "'4 x 4'"
            ],
            "application/vnd.google.colaboratory.intrinsic+json": {
              "type": "string"
            }
          },
          "metadata": {},
          "execution_count": 105
        }
      ],
      "source": [
        "Acessorios.pop()"
      ]
    },
    {
      "cell_type": "code",
      "execution_count": 106,
      "metadata": {
        "id": "GfGX1jw-ltn9",
        "colab": {
          "base_uri": "https://localhost:8080/"
        },
        "outputId": "a0a7b0d1-6c0b-465a-e149-3c1cb64361f6"
      },
      "outputs": [
        {
          "output_type": "execute_result",
          "data": {
            "text/plain": [
              "['Ar condicionado',\n",
              " 'Bancos de couro',\n",
              " 'Piloto automático',\n",
              " 'Rodas de liga',\n",
              " 'Sensor crepuscular',\n",
              " 'Sensor de chuva',\n",
              " 'Sensor de estacionamento',\n",
              " 'Travas elétricas']"
            ]
          },
          "metadata": {},
          "execution_count": 106
        }
      ],
      "source": [
        "Acessorios"
      ]
    },
    {
      "cell_type": "code",
      "execution_count": 107,
      "metadata": {
        "id": "tppe9tqbltn-",
        "colab": {
          "base_uri": "https://localhost:8080/",
          "height": 35
        },
        "outputId": "3999f5a6-be01-4d07-b91f-dd51a03e4345"
      },
      "outputs": [
        {
          "output_type": "execute_result",
          "data": {
            "text/plain": [
              "'Rodas de liga'"
            ],
            "application/vnd.google.colaboratory.intrinsic+json": {
              "type": "string"
            }
          },
          "metadata": {},
          "execution_count": 107
        }
      ],
      "source": [
        "Acessorios.pop(3)"
      ]
    },
    {
      "cell_type": "code",
      "execution_count": 108,
      "metadata": {
        "id": "Ku6ZHTdJltn_",
        "colab": {
          "base_uri": "https://localhost:8080/"
        },
        "outputId": "ddc9ac49-f3e3-4c13-9686-92552b90978f"
      },
      "outputs": [
        {
          "output_type": "execute_result",
          "data": {
            "text/plain": [
              "['Ar condicionado',\n",
              " 'Bancos de couro',\n",
              " 'Piloto automático',\n",
              " 'Sensor crepuscular',\n",
              " 'Sensor de chuva',\n",
              " 'Sensor de estacionamento',\n",
              " 'Travas elétricas']"
            ]
          },
          "metadata": {},
          "execution_count": 108
        }
      ],
      "source": [
        "Acessorios"
      ]
    },
    {
      "cell_type": "markdown",
      "metadata": {
        "id": "NySIp62hltoC"
      },
      "source": [
        "## *A.copy()*\n",
        "\n",
        "Cria uma cópia da lista *A*.\n",
        "\n",
        "<font color=red>**Observação:**</font> O mesmo resultado pode ser obtido com o seguinte código: \n",
        "```\n",
        "A[:]\n",
        "```"
      ]
    },
    {
      "cell_type": "code",
      "execution_count": 109,
      "metadata": {
        "id": "yP9ODygcltoC"
      },
      "outputs": [],
      "source": [
        "Acessorios_2 = Acessorios"
      ]
    },
    {
      "cell_type": "code",
      "execution_count": 110,
      "metadata": {
        "id": "W3eQdVWkltoF",
        "colab": {
          "base_uri": "https://localhost:8080/"
        },
        "outputId": "2f862b11-bcd4-49e8-dd54-810283fcaefd"
      },
      "outputs": [
        {
          "output_type": "execute_result",
          "data": {
            "text/plain": [
              "['Ar condicionado',\n",
              " 'Bancos de couro',\n",
              " 'Piloto automático',\n",
              " 'Sensor crepuscular',\n",
              " 'Sensor de chuva',\n",
              " 'Sensor de estacionamento',\n",
              " 'Travas elétricas']"
            ]
          },
          "metadata": {},
          "execution_count": 110
        }
      ],
      "source": [
        "Acessorios_2"
      ]
    },
    {
      "cell_type": "code",
      "execution_count": 111,
      "metadata": {
        "id": "OVbvjjmdltoG",
        "colab": {
          "base_uri": "https://localhost:8080/"
        },
        "outputId": "3847dae6-e1b3-42f8-e3b3-f4ffebc51ae1"
      },
      "outputs": [
        {
          "output_type": "execute_result",
          "data": {
            "text/plain": [
              "['Ar condicionado',\n",
              " 'Bancos de couro',\n",
              " 'Piloto automático',\n",
              " 'Sensor crepuscular',\n",
              " 'Sensor de chuva',\n",
              " 'Sensor de estacionamento',\n",
              " 'Travas elétricas',\n",
              " '4 x 4']"
            ]
          },
          "metadata": {},
          "execution_count": 111
        }
      ],
      "source": [
        "Acessorios_2.append('4 x 4')\n",
        "Acessorios_2"
      ]
    },
    {
      "cell_type": "code",
      "execution_count": 112,
      "metadata": {
        "id": "P-MN1JfAltoH",
        "colab": {
          "base_uri": "https://localhost:8080/"
        },
        "outputId": "674763c4-e73c-4ebc-c6a1-62c05f1dfa64"
      },
      "outputs": [
        {
          "output_type": "execute_result",
          "data": {
            "text/plain": [
              "['Ar condicionado',\n",
              " 'Bancos de couro',\n",
              " 'Piloto automático',\n",
              " 'Sensor crepuscular',\n",
              " 'Sensor de chuva',\n",
              " 'Sensor de estacionamento',\n",
              " 'Travas elétricas',\n",
              " '4 x 4']"
            ]
          },
          "metadata": {},
          "execution_count": 112
        }
      ],
      "source": [
        "Acessorios"
      ]
    },
    {
      "cell_type": "code",
      "execution_count": 113,
      "metadata": {
        "id": "ZVQ38eqVltoJ",
        "colab": {
          "base_uri": "https://localhost:8080/",
          "height": 35
        },
        "outputId": "861f466f-ac6a-424f-c914-1f31b42dc7b6"
      },
      "outputs": [
        {
          "output_type": "execute_result",
          "data": {
            "text/plain": [
              "'4 x 4'"
            ],
            "application/vnd.google.colaboratory.intrinsic+json": {
              "type": "string"
            }
          },
          "metadata": {},
          "execution_count": 113
        }
      ],
      "source": [
        "Acessorios.pop()"
      ]
    },
    {
      "cell_type": "code",
      "execution_count": 114,
      "metadata": {
        "id": "bqPiw5wSltoM",
        "colab": {
          "base_uri": "https://localhost:8080/"
        },
        "outputId": "2a5420fd-3b04-4d79-d4d1-dbc7f698aa1d"
      },
      "outputs": [
        {
          "output_type": "execute_result",
          "data": {
            "text/plain": [
              "['Ar condicionado',\n",
              " 'Bancos de couro',\n",
              " 'Piloto automático',\n",
              " 'Sensor crepuscular',\n",
              " 'Sensor de chuva',\n",
              " 'Sensor de estacionamento',\n",
              " 'Travas elétricas']"
            ]
          },
          "metadata": {},
          "execution_count": 114
        }
      ],
      "source": [
        "Acessorios_2"
      ]
    },
    {
      "cell_type": "code",
      "execution_count": 115,
      "metadata": {
        "id": "Lo9WgzF6ltoP",
        "colab": {
          "base_uri": "https://localhost:8080/"
        },
        "outputId": "ed3e4fbe-0520-4136-ecc6-27a5ce547267"
      },
      "outputs": [
        {
          "output_type": "execute_result",
          "data": {
            "text/plain": [
              "['Ar condicionado',\n",
              " 'Bancos de couro',\n",
              " 'Piloto automático',\n",
              " 'Sensor crepuscular',\n",
              " 'Sensor de chuva',\n",
              " 'Sensor de estacionamento',\n",
              " 'Travas elétricas']"
            ]
          },
          "metadata": {},
          "execution_count": 115
        }
      ],
      "source": [
        "Acessorios_2 = Acessorios.copy()\n",
        "Acessorios_2"
      ]
    },
    {
      "cell_type": "code",
      "execution_count": 116,
      "metadata": {
        "id": "r2LPHB34ltoQ",
        "colab": {
          "base_uri": "https://localhost:8080/"
        },
        "outputId": "cbb6b28a-f034-4582-8b0c-1ac39b72748c"
      },
      "outputs": [
        {
          "output_type": "execute_result",
          "data": {
            "text/plain": [
              "['Ar condicionado',\n",
              " 'Bancos de couro',\n",
              " 'Piloto automático',\n",
              " 'Sensor crepuscular',\n",
              " 'Sensor de chuva',\n",
              " 'Sensor de estacionamento',\n",
              " 'Travas elétricas',\n",
              " '4 x 4']"
            ]
          },
          "metadata": {},
          "execution_count": 116
        }
      ],
      "source": [
        "Acessorios_2.append('4 x 4')\n",
        "Acessorios_2"
      ]
    },
    {
      "cell_type": "code",
      "execution_count": 117,
      "metadata": {
        "id": "UQqUkO8YltoR",
        "colab": {
          "base_uri": "https://localhost:8080/"
        },
        "outputId": "23655c5d-a022-4edc-ce11-1c40a39fa187"
      },
      "outputs": [
        {
          "output_type": "execute_result",
          "data": {
            "text/plain": [
              "['Ar condicionado',\n",
              " 'Bancos de couro',\n",
              " 'Piloto automático',\n",
              " 'Sensor crepuscular',\n",
              " 'Sensor de chuva',\n",
              " 'Sensor de estacionamento',\n",
              " 'Travas elétricas']"
            ]
          },
          "metadata": {},
          "execution_count": 117
        }
      ],
      "source": [
        "Acessorios"
      ]
    },
    {
      "cell_type": "code",
      "execution_count": 118,
      "metadata": {
        "id": "5hC4R-jNltoS"
      },
      "outputs": [],
      "source": [
        "Acessorios_2 = Acessorios[:] # Equivalente ao .copy()"
      ]
    },
    {
      "cell_type": "markdown",
      "metadata": {
        "id": "8zMZNsg2ltoU"
      },
      "source": [
        "# <font color=green> 4. ESTRUTURAS DE REPETIÇÃO E CONDICIONAIS\n",
        "---"
      ]
    },
    {
      "cell_type": "markdown",
      "metadata": {
        "id": "gxUmCLyJltoU"
      },
      "source": [
        "# 4.1 Instrução *for*\n",
        "\n",
        "#### Formato padrão\n",
        "\n",
        "```\n",
        "for <variável> in <coleção>:\n",
        "    <instruções>\n",
        "```"
      ]
    },
    {
      "cell_type": "markdown",
      "metadata": {
        "id": "Irl5oa0altoU"
      },
      "source": [
        "### Loops com listas"
      ]
    },
    {
      "cell_type": "code",
      "execution_count": 119,
      "metadata": {
        "id": "E1LZ5n25ltoV",
        "colab": {
          "base_uri": "https://localhost:8080/"
        },
        "outputId": "c88be8b0-7cc9-4ccf-9c30-cd74b23a03c5"
      },
      "outputs": [
        {
          "output_type": "execute_result",
          "data": {
            "text/plain": [
              "['Rodas de liga',\n",
              " 'Travas elétricas',\n",
              " 'Piloto automático',\n",
              " 'Bancos de couro',\n",
              " 'Ar condicionado',\n",
              " 'Sensor de estacionamento',\n",
              " 'Sensor crepuscular',\n",
              " 'Sensor de chuva']"
            ]
          },
          "metadata": {},
          "execution_count": 119
        }
      ],
      "source": [
        "Acessorios = ['Rodas de liga', 'Travas elétricas', 'Piloto automático', 'Bancos de couro', 'Ar condicionado', 'Sensor de estacionamento', 'Sensor crepuscular', 'Sensor de chuva']\n",
        "Acessorios"
      ]
    },
    {
      "cell_type": "code",
      "execution_count": 120,
      "metadata": {
        "id": "Z459QqsFltoY",
        "colab": {
          "base_uri": "https://localhost:8080/"
        },
        "outputId": "f7c6f34a-53f6-47c8-bda2-f50030c098ec"
      },
      "outputs": [
        {
          "output_type": "stream",
          "name": "stdout",
          "text": [
            "Rodas de liga\n",
            "Travas elétricas\n",
            "Piloto automático\n",
            "Bancos de couro\n",
            "Ar condicionado\n",
            "Sensor de estacionamento\n",
            "Sensor crepuscular\n",
            "Sensor de chuva\n"
          ]
        }
      ],
      "source": [
        "for item in Acessorios:\n",
        "  print(item)"
      ]
    },
    {
      "cell_type": "markdown",
      "metadata": {
        "id": "Gbztj9T4ltoZ"
      },
      "source": [
        "###  List comprehensions\n",
        "\n",
        "https://docs.python.org/3.6/tutorial/datastructures.html#list-comprehensions"
      ]
    },
    {
      "cell_type": "markdown",
      "metadata": {
        "id": "4Y8g0cSHjbof"
      },
      "source": [
        "*range()* -> https://docs.python.org/3.6/library/functions.html#func-range"
      ]
    },
    {
      "cell_type": "code",
      "execution_count": 121,
      "metadata": {
        "id": "xDo9TLdYltoZ",
        "colab": {
          "base_uri": "https://localhost:8080/"
        },
        "outputId": "050adff1-7129-4037-ffa8-f2297c416904"
      },
      "outputs": [
        {
          "output_type": "execute_result",
          "data": {
            "text/plain": [
              "range(0, 10)"
            ]
          },
          "metadata": {},
          "execution_count": 121
        }
      ],
      "source": [
        "range(10)"
      ]
    },
    {
      "cell_type": "code",
      "execution_count": 122,
      "metadata": {
        "id": "V12p_CQBltoc",
        "colab": {
          "base_uri": "https://localhost:8080/"
        },
        "outputId": "bbdc0e7b-6e43-4d49-dd76-740bcea922e9"
      },
      "outputs": [
        {
          "output_type": "execute_result",
          "data": {
            "text/plain": [
              "[0, 1, 2, 3, 4, 5, 6, 7, 8, 9]"
            ]
          },
          "metadata": {},
          "execution_count": 122
        }
      ],
      "source": [
        "list(range(10))"
      ]
    },
    {
      "cell_type": "code",
      "execution_count": 123,
      "metadata": {
        "id": "OOzHHRWHltof",
        "colab": {
          "base_uri": "https://localhost:8080/"
        },
        "outputId": "095e8736-bd6f-4307-935c-04d1483ffb5d"
      },
      "outputs": [
        {
          "output_type": "stream",
          "name": "stdout",
          "text": [
            "0\n",
            "1\n",
            "4\n",
            "9\n",
            "16\n",
            "25\n",
            "36\n",
            "49\n",
            "64\n",
            "81\n"
          ]
        }
      ],
      "source": [
        "for i in range(10):\n",
        "  print(i**2)"
      ]
    },
    {
      "cell_type": "code",
      "execution_count": 124,
      "metadata": {
        "id": "TKynwnxgltog",
        "colab": {
          "base_uri": "https://localhost:8080/"
        },
        "outputId": "cf13a4d0-5aed-4b45-8cb8-8b1fd109ba21"
      },
      "outputs": [
        {
          "output_type": "execute_result",
          "data": {
            "text/plain": [
              "[0, 1, 4, 9, 16, 25, 36, 49, 64, 81]"
            ]
          },
          "metadata": {},
          "execution_count": 124
        }
      ],
      "source": [
        "quadrado = []\n",
        "for i in range(10):\n",
        "  quadrado.append(i**2)\n",
        "\n",
        "quadrado"
      ]
    },
    {
      "cell_type": "code",
      "execution_count": 125,
      "metadata": {
        "id": "d77YH_dVltoh",
        "colab": {
          "base_uri": "https://localhost:8080/"
        },
        "outputId": "194c71ee-29b8-4919-bc72-f0a8e19ff0a8"
      },
      "outputs": [
        {
          "output_type": "execute_result",
          "data": {
            "text/plain": [
              "[0, 1, 4, 9, 16, 25, 36, 49, 64, 81]"
            ]
          },
          "metadata": {},
          "execution_count": 125
        }
      ],
      "source": [
        "[i**2 for i in range(10)]"
      ]
    },
    {
      "cell_type": "markdown",
      "metadata": {
        "id": "AcAcaKFXltom"
      },
      "source": [
        "# 4.2 Loops aninhados"
      ]
    },
    {
      "cell_type": "code",
      "execution_count": 126,
      "metadata": {
        "id": "mjgJCo3dlton",
        "colab": {
          "base_uri": "https://localhost:8080/"
        },
        "outputId": "d80d7b19-ac77-4ba3-b174-da44b90a188d"
      },
      "outputs": [
        {
          "output_type": "execute_result",
          "data": {
            "text/plain": [
              "[['Rodas de liga',\n",
              "  'Travas elétricas',\n",
              "  'Piloto automático',\n",
              "  'Bancos de couro',\n",
              "  'Ar condicionado',\n",
              "  'Sensor de estacionamento',\n",
              "  'Sensor crepuscular',\n",
              "  'Sensor de chuva'],\n",
              " ['Central multimídia',\n",
              "  'Teto panorâmico',\n",
              "  'Freios ABS',\n",
              "  '4 X 4',\n",
              "  'Painel digital',\n",
              "  'Piloto automático',\n",
              "  'Bancos de couro',\n",
              "  'Câmera de estacionamento'],\n",
              " ['Piloto automático',\n",
              "  'Controle de estabilidade',\n",
              "  'Sensor crepuscular',\n",
              "  'Freios ABS',\n",
              "  'Câmbio automático',\n",
              "  'Bancos de couro',\n",
              "  'Central multimídia',\n",
              "  'Vidros elétricos']]"
            ]
          },
          "metadata": {},
          "execution_count": 126
        }
      ],
      "source": [
        "dados = [ \n",
        "    ['Rodas de liga', 'Travas elétricas', 'Piloto automático', 'Bancos de couro', 'Ar condicionado', 'Sensor de estacionamento', 'Sensor crepuscular', 'Sensor de chuva'],\n",
        "    ['Central multimídia', 'Teto panorâmico', 'Freios ABS', '4 X 4', 'Painel digital', 'Piloto automático', 'Bancos de couro', 'Câmera de estacionamento'],\n",
        "    ['Piloto automático', 'Controle de estabilidade', 'Sensor crepuscular', 'Freios ABS', 'Câmbio automático', 'Bancos de couro', 'Central multimídia', 'Vidros elétricos']\n",
        "]\n",
        "dados"
      ]
    },
    {
      "cell_type": "code",
      "execution_count": 127,
      "metadata": {
        "id": "pLgxwApVltop",
        "colab": {
          "base_uri": "https://localhost:8080/"
        },
        "outputId": "e25a207c-3f3d-4a62-983c-139b00b7ca45"
      },
      "outputs": [
        {
          "output_type": "stream",
          "name": "stdout",
          "text": [
            "['Rodas de liga', 'Travas elétricas', 'Piloto automático', 'Bancos de couro', 'Ar condicionado', 'Sensor de estacionamento', 'Sensor crepuscular', 'Sensor de chuva']\n",
            "['Central multimídia', 'Teto panorâmico', 'Freios ABS', '4 X 4', 'Painel digital', 'Piloto automático', 'Bancos de couro', 'Câmera de estacionamento']\n",
            "['Piloto automático', 'Controle de estabilidade', 'Sensor crepuscular', 'Freios ABS', 'Câmbio automático', 'Bancos de couro', 'Central multimídia', 'Vidros elétricos']\n"
          ]
        }
      ],
      "source": [
        "for lista in dados:\n",
        "  print(lista)"
      ]
    },
    {
      "cell_type": "code",
      "execution_count": 128,
      "metadata": {
        "id": "OYnDRvcYltor",
        "colab": {
          "base_uri": "https://localhost:8080/"
        },
        "outputId": "4c3a09fd-5ee4-4efa-f064-7ca6ec91aac5"
      },
      "outputs": [
        {
          "output_type": "stream",
          "name": "stdout",
          "text": [
            "Rodas de liga\n",
            "Travas elétricas\n",
            "Piloto automático\n",
            "Bancos de couro\n",
            "Ar condicionado\n",
            "Sensor de estacionamento\n",
            "Sensor crepuscular\n",
            "Sensor de chuva\n",
            "Central multimídia\n",
            "Teto panorâmico\n",
            "Freios ABS\n",
            "4 X 4\n",
            "Painel digital\n",
            "Piloto automático\n",
            "Bancos de couro\n",
            "Câmera de estacionamento\n",
            "Piloto automático\n",
            "Controle de estabilidade\n",
            "Sensor crepuscular\n",
            "Freios ABS\n",
            "Câmbio automático\n",
            "Bancos de couro\n",
            "Central multimídia\n",
            "Vidros elétricos\n"
          ]
        }
      ],
      "source": [
        "for lista in dados:\n",
        "  for item in lista:\n",
        "    print(item)"
      ]
    },
    {
      "cell_type": "code",
      "execution_count": 129,
      "metadata": {
        "id": "DbJa5_cJltos"
      },
      "outputs": [],
      "source": [
        "acessorios = []\n",
        "\n",
        "for lista in dados:\n",
        "  for item in lista:\n",
        "    acessorios.append(item)"
      ]
    },
    {
      "cell_type": "markdown",
      "metadata": {
        "id": "RrGAOy1rn1Dj"
      },
      "source": [
        "## *set()*\n",
        "\n",
        "https://docs.python.org/3.6/library/stdtypes.html#types-set\n",
        "\n",
        "https://docs.python.org/3.6/library/functions.html#func-set"
      ]
    },
    {
      "cell_type": "code",
      "execution_count": 130,
      "metadata": {
        "id": "CuB-9ClSltos",
        "colab": {
          "base_uri": "https://localhost:8080/"
        },
        "outputId": "61bfa952-0178-4010-e112-a3ee6802c7b1"
      },
      "outputs": [
        {
          "output_type": "execute_result",
          "data": {
            "text/plain": [
              "['Controle de estabilidade',\n",
              " 'Sensor crepuscular',\n",
              " 'Ar condicionado',\n",
              " 'Piloto automático',\n",
              " 'Freios ABS',\n",
              " 'Painel digital',\n",
              " 'Central multimídia',\n",
              " 'Rodas de liga',\n",
              " 'Sensor de chuva',\n",
              " 'Travas elétricas',\n",
              " 'Sensor de estacionamento',\n",
              " 'Bancos de couro',\n",
              " '4 X 4',\n",
              " 'Câmera de estacionamento',\n",
              " 'Vidros elétricos',\n",
              " 'Câmbio automático',\n",
              " 'Teto panorâmico']"
            ]
          },
          "metadata": {},
          "execution_count": 130
        }
      ],
      "source": [
        "list(set(acessorios))"
      ]
    },
    {
      "cell_type": "markdown",
      "metadata": {
        "id": "9hHKKABhltot"
      },
      "source": [
        "### List comprehensions"
      ]
    },
    {
      "cell_type": "code",
      "execution_count": 131,
      "metadata": {
        "id": "T6t79LTlltot",
        "colab": {
          "base_uri": "https://localhost:8080/"
        },
        "outputId": "cc53c326-8680-49ed-d262-5d2a1400196f"
      },
      "outputs": [
        {
          "output_type": "execute_result",
          "data": {
            "text/plain": [
              "['Rodas de liga',\n",
              " 'Travas elétricas',\n",
              " 'Piloto automático',\n",
              " 'Bancos de couro',\n",
              " 'Ar condicionado',\n",
              " 'Sensor de estacionamento',\n",
              " 'Sensor crepuscular',\n",
              " 'Sensor de chuva',\n",
              " 'Central multimídia',\n",
              " 'Teto panorâmico',\n",
              " 'Freios ABS',\n",
              " '4 X 4',\n",
              " 'Painel digital',\n",
              " 'Piloto automático',\n",
              " 'Bancos de couro',\n",
              " 'Câmera de estacionamento',\n",
              " 'Piloto automático',\n",
              " 'Controle de estabilidade',\n",
              " 'Sensor crepuscular',\n",
              " 'Freios ABS',\n",
              " 'Câmbio automático',\n",
              " 'Bancos de couro',\n",
              " 'Central multimídia',\n",
              " 'Vidros elétricos']"
            ]
          },
          "metadata": {},
          "execution_count": 131
        }
      ],
      "source": [
        "[item for lista in dados for item in lista]"
      ]
    },
    {
      "cell_type": "code",
      "source": [
        "list(set([item for lista in dados for item in lista]))"
      ],
      "metadata": {
        "colab": {
          "base_uri": "https://localhost:8080/"
        },
        "id": "dnVJijPHWDLm",
        "outputId": "938ed980-cb1a-4fe4-ea7f-5d9bb7daf771"
      },
      "execution_count": 132,
      "outputs": [
        {
          "output_type": "execute_result",
          "data": {
            "text/plain": [
              "['Controle de estabilidade',\n",
              " 'Sensor crepuscular',\n",
              " 'Ar condicionado',\n",
              " 'Piloto automático',\n",
              " 'Freios ABS',\n",
              " 'Painel digital',\n",
              " 'Central multimídia',\n",
              " 'Rodas de liga',\n",
              " 'Sensor de chuva',\n",
              " 'Travas elétricas',\n",
              " 'Sensor de estacionamento',\n",
              " 'Bancos de couro',\n",
              " '4 X 4',\n",
              " 'Câmera de estacionamento',\n",
              " 'Vidros elétricos',\n",
              " 'Câmbio automático',\n",
              " 'Teto panorâmico']"
            ]
          },
          "metadata": {},
          "execution_count": 132
        }
      ]
    },
    {
      "cell_type": "markdown",
      "metadata": {
        "id": "cJ4fPdj5ltou"
      },
      "source": [
        "# 4.3 Instrução *if*\n",
        "\n",
        "#### Formato padrão\n",
        "\n",
        "```\n",
        "if <condição>:\n",
        "     <instruções caso a condição seja verdadeira>\n",
        "```"
      ]
    },
    {
      "cell_type": "markdown",
      "metadata": {
        "id": "bqOYDJiWltou"
      },
      "source": [
        "### Operadores de comparação: $==$, $!=$, $>$, $<$, $>=$, $<=$\n",
        "### e\n",
        "### Operadores lógicos: $and$, $or$, $not$"
      ]
    },
    {
      "cell_type": "code",
      "execution_count": 133,
      "metadata": {
        "id": "5eY_XPmrltov",
        "colab": {
          "base_uri": "https://localhost:8080/"
        },
        "outputId": "e50806eb-cf1f-40f9-c0af-9033d7a02377"
      },
      "outputs": [
        {
          "output_type": "execute_result",
          "data": {
            "text/plain": [
              "[['Jetta Variant', 2003, False],\n",
              " ['Passat', 1991, False],\n",
              " ['Crossfox', 1990, False],\n",
              " ['DS5', 2019, True],\n",
              " ['Aston Martin DB4', 2006, False],\n",
              " ['Palio Weekend', 2012, False],\n",
              " ['A5', 2019, True],\n",
              " ['Série 3 Cabrio', 2009, False],\n",
              " ['Dodge Jorney', 2019, False],\n",
              " ['Carens', 2011, False]]"
            ]
          },
          "metadata": {},
          "execution_count": 133
        }
      ],
      "source": [
        "# 1º item da lista - Nome do veículo\n",
        "# 2º item da lista - Ano de fabricação\n",
        "# 3º item da lista - Veículo é zero km?\n",
        "\n",
        "dados = [\n",
        "    ['Jetta Variant', 2003, False],\n",
        "    ['Passat', 1991, False],\n",
        "    ['Crossfox', 1990, False],\n",
        "    ['DS5', 2019, True],\n",
        "    ['Aston Martin DB4', 2006, False],\n",
        "    ['Palio Weekend', 2012, False],\n",
        "    ['A5', 2019, True],\n",
        "    ['Série 3 Cabrio', 2009, False],\n",
        "    ['Dodge Jorney', 2019, False],\n",
        "    ['Carens', 2011, False]\n",
        "]\n",
        "dados"
      ]
    },
    {
      "cell_type": "code",
      "execution_count": 134,
      "metadata": {
        "id": "nyb0iDH1ltoy",
        "colab": {
          "base_uri": "https://localhost:8080/"
        },
        "outputId": "4d342727-3e2b-4e64-f089-1652da2f744b"
      },
      "outputs": [
        {
          "output_type": "execute_result",
          "data": {
            "text/plain": [
              "[['DS5', 2019, True], ['A5', 2019, True]]"
            ]
          },
          "metadata": {},
          "execution_count": 134
        }
      ],
      "source": [
        "zero_km_Y = []\n",
        "\n",
        "for lista in dados:\n",
        "  if(lista[2] == True):\n",
        "    zero_km_Y.append(lista)\n",
        "\n",
        "zero_km_Y"
      ]
    },
    {
      "cell_type": "code",
      "execution_count": 135,
      "metadata": {
        "id": "5MlITJppltoy",
        "colab": {
          "base_uri": "https://localhost:8080/"
        },
        "outputId": "273e5f5f-8eea-4fb0-adb5-8e6b16951206"
      },
      "outputs": [
        {
          "output_type": "execute_result",
          "data": {
            "text/plain": [
              "[['Jetta Variant', 2003, False],\n",
              " ['Passat', 1991, False],\n",
              " ['Crossfox', 1990, False],\n",
              " ['Aston Martin DB4', 2006, False],\n",
              " ['Palio Weekend', 2012, False],\n",
              " ['Série 3 Cabrio', 2009, False],\n",
              " ['Dodge Jorney', 2019, False],\n",
              " ['Carens', 2011, False]]"
            ]
          },
          "metadata": {},
          "execution_count": 135
        }
      ],
      "source": [
        "zero_km_N = []\n",
        "\n",
        "for lista in dados:\n",
        "  if(lista[2] == False):\n",
        "    zero_km_N.append(lista)\n",
        "\n",
        "zero_km_N"
      ]
    },
    {
      "cell_type": "markdown",
      "metadata": {
        "id": "51Js0kXD0aRH"
      },
      "source": [
        "### List comprehensions"
      ]
    },
    {
      "cell_type": "code",
      "execution_count": 136,
      "metadata": {
        "id": "Ly4QUX5J0aRI",
        "colab": {
          "base_uri": "https://localhost:8080/"
        },
        "outputId": "f80c460f-760e-4f2a-942f-42a38776831f"
      },
      "outputs": [
        {
          "output_type": "execute_result",
          "data": {
            "text/plain": [
              "[['DS5', 2019, True], ['A5', 2019, True]]"
            ]
          },
          "metadata": {},
          "execution_count": 136
        }
      ],
      "source": [
        "[lista for lista in dados if lista[2] == True]"
      ]
    },
    {
      "cell_type": "markdown",
      "metadata": {
        "id": "CKjrvO5Tltoz"
      },
      "source": [
        "# 4.4 Instruções *if-else* e *if-elif-else*\n",
        "\n",
        "#### Formato padrão\n",
        "\n",
        "```\n",
        "if <condição>:\n",
        "    <instruções caso a condição seja verdadeira>\n",
        "else:\n",
        "    <instruções caso a condição não seja verdadeira>\n",
        "```"
      ]
    },
    {
      "cell_type": "code",
      "execution_count": 137,
      "metadata": {
        "id": "K_VORb47ltoz"
      },
      "outputs": [],
      "source": [
        "zero_km_Y, zero_km_N = [], []\n",
        "\n",
        "for lista in dados:\n",
        "  if(lista[2] == True):\n",
        "    zero_km_Y.append(lista)\n",
        "  else:\n",
        "    zero_km_N.append(lista)"
      ]
    },
    {
      "cell_type": "code",
      "execution_count": 138,
      "metadata": {
        "id": "vhz5T7jDlto1",
        "colab": {
          "base_uri": "https://localhost:8080/"
        },
        "outputId": "be8cfe91-2bcc-4cbb-c4d7-47e6c3f5f75f"
      },
      "outputs": [
        {
          "output_type": "execute_result",
          "data": {
            "text/plain": [
              "[['DS5', 2019, True], ['A5', 2019, True]]"
            ]
          },
          "metadata": {},
          "execution_count": 138
        }
      ],
      "source": [
        "zero_km_Y"
      ]
    },
    {
      "cell_type": "code",
      "execution_count": 139,
      "metadata": {
        "id": "XlvlpPjhlto1",
        "colab": {
          "base_uri": "https://localhost:8080/"
        },
        "outputId": "a6adee2f-a511-4821-f8af-4e3201e0f45c"
      },
      "outputs": [
        {
          "output_type": "execute_result",
          "data": {
            "text/plain": [
              "[['Jetta Variant', 2003, False],\n",
              " ['Passat', 1991, False],\n",
              " ['Crossfox', 1990, False],\n",
              " ['Aston Martin DB4', 2006, False],\n",
              " ['Palio Weekend', 2012, False],\n",
              " ['Série 3 Cabrio', 2009, False],\n",
              " ['Dodge Jorney', 2019, False],\n",
              " ['Carens', 2011, False]]"
            ]
          },
          "metadata": {},
          "execution_count": 139
        }
      ],
      "source": [
        "zero_km_N"
      ]
    },
    {
      "cell_type": "markdown",
      "metadata": {
        "id": "Z2-8WeN1lto2"
      },
      "source": [
        "#### Formato padrão\n",
        "\n",
        "```\n",
        "if <condição 1>:\n",
        "    <instruções caso a condição 1 seja verdadeira>\n",
        "elif <condição 2>:\n",
        "    <instruções caso a condição 2 seja verdadeira>\n",
        "elif <condição 3>:\n",
        "    <instruções caso a condição 3 seja verdadeira>\n",
        "                        .\n",
        "                        .\n",
        "                        .\n",
        "else:\n",
        "    <instruções caso as condições anteriores não sejam verdadeiras>\n",
        "```"
      ]
    },
    {
      "cell_type": "code",
      "execution_count": 140,
      "metadata": {
        "id": "ggrbaB4Tlto2",
        "colab": {
          "base_uri": "https://localhost:8080/"
        },
        "outputId": "1bab4205-978b-4422-fd4d-9e51bb2d7b72"
      },
      "outputs": [
        {
          "output_type": "execute_result",
          "data": {
            "text/plain": [
              "[['Jetta Variant', 2003, False],\n",
              " ['Passat', 1991, False],\n",
              " ['Crossfox', 1990, False],\n",
              " ['DS5', 2019, True],\n",
              " ['Aston Martin DB4', 2006, False],\n",
              " ['Palio Weekend', 2012, False],\n",
              " ['A5', 2019, True],\n",
              " ['Série 3 Cabrio', 2009, False],\n",
              " ['Dodge Jorney', 2019, False],\n",
              " ['Carens', 2011, False]]"
            ]
          },
          "metadata": {},
          "execution_count": 140
        }
      ],
      "source": [
        "dados"
      ]
    },
    {
      "cell_type": "code",
      "execution_count": 141,
      "metadata": {
        "id": "KJgRc1F9lto3",
        "colab": {
          "base_uri": "https://localhost:8080/"
        },
        "outputId": "ab0c80bf-f459-4c2c-d2f0-31c5b80fdfcf"
      },
      "outputs": [
        {
          "output_type": "stream",
          "name": "stdout",
          "text": [
            "AND\n",
            "(True and True) o resultado é: True\n",
            "(True and False) o resultado é: False\n",
            "(False and True) o resultado é: False\n",
            "(False and False) o resultado é: False\n"
          ]
        }
      ],
      "source": [
        "print('AND')\n",
        "print(f'(True and True) o resultado é: {True and True}')\n",
        "print(f'(True and False) o resultado é: {True and False}')\n",
        "print(f'(False and True) o resultado é: {False and True}')\n",
        "print(f'(False and False) o resultado é: {False and False}')"
      ]
    },
    {
      "cell_type": "code",
      "execution_count": 142,
      "metadata": {
        "id": "sb0mSh-o0aRM",
        "colab": {
          "base_uri": "https://localhost:8080/"
        },
        "outputId": "92ca7ed5-7031-4d77-819b-665ad739e53c"
      },
      "outputs": [
        {
          "output_type": "stream",
          "name": "stdout",
          "text": [
            "OR\n",
            "(True or True) o resultado é: True\n",
            "(True or False) o resultado é: True\n",
            "(False or True) o resultado é: True\n",
            "(False or False) o resultado é: False\n"
          ]
        }
      ],
      "source": [
        "print('OR')\n",
        "print(f'(True or True) o resultado é: {True or True}')\n",
        "print(f'(True or False) o resultado é: {True or False}')\n",
        "print(f'(False or True) o resultado é: {False or True}')\n",
        "print(f'(False or False) o resultado é: {False or False}')"
      ]
    },
    {
      "cell_type": "code",
      "execution_count": 143,
      "metadata": {
        "id": "AfNdTPzElto3"
      },
      "outputs": [],
      "source": [
        "A, B, C = [], [], []\n",
        "\n",
        "for lista in dados:\n",
        "  if(lista[1] <= 2000):\n",
        "    A.append(lista)\n",
        "  elif(lista[1] > 2000 and lista[1] <= 2010):\n",
        "    B.append(lista)\n",
        "  else:\n",
        "    C.append(lista)"
      ]
    },
    {
      "cell_type": "code",
      "execution_count": 144,
      "metadata": {
        "id": "5bN7SuvTlto4",
        "colab": {
          "base_uri": "https://localhost:8080/"
        },
        "outputId": "a81f634d-33ef-47b9-a864-bb390f9ddacd"
      },
      "outputs": [
        {
          "output_type": "execute_result",
          "data": {
            "text/plain": [
              "[['Passat', 1991, False], ['Crossfox', 1990, False]]"
            ]
          },
          "metadata": {},
          "execution_count": 144
        }
      ],
      "source": [
        "A"
      ]
    },
    {
      "cell_type": "code",
      "execution_count": 145,
      "metadata": {
        "id": "dDEl3Vfglto4",
        "colab": {
          "base_uri": "https://localhost:8080/"
        },
        "outputId": "ba9b2abf-3f2f-4d9b-9f65-326b99c0f4b6"
      },
      "outputs": [
        {
          "output_type": "execute_result",
          "data": {
            "text/plain": [
              "[['Jetta Variant', 2003, False],\n",
              " ['Aston Martin DB4', 2006, False],\n",
              " ['Série 3 Cabrio', 2009, False]]"
            ]
          },
          "metadata": {},
          "execution_count": 145
        }
      ],
      "source": [
        "B"
      ]
    },
    {
      "cell_type": "code",
      "execution_count": 146,
      "metadata": {
        "id": "Ot4HLQlelto5",
        "colab": {
          "base_uri": "https://localhost:8080/"
        },
        "outputId": "634e4d61-4a8d-48ce-eab1-46eef898959c"
      },
      "outputs": [
        {
          "output_type": "execute_result",
          "data": {
            "text/plain": [
              "[['DS5', 2019, True],\n",
              " ['Palio Weekend', 2012, False],\n",
              " ['A5', 2019, True],\n",
              " ['Dodge Jorney', 2019, False],\n",
              " ['Carens', 2011, False]]"
            ]
          },
          "metadata": {},
          "execution_count": 146
        }
      ],
      "source": [
        "C"
      ]
    },
    {
      "cell_type": "code",
      "execution_count": 147,
      "metadata": {
        "id": "FN26ZBKJlto5"
      },
      "outputs": [],
      "source": [
        "for lista in dados:\n",
        "  if(lista[1] <= 2000):\n",
        "    A.append(lista)\n",
        "  elif(2000 < lista[1] <= 2010):\n",
        "    B.append(lista)\n",
        "  else:\n",
        "    C.append(lista)"
      ]
    },
    {
      "cell_type": "markdown",
      "metadata": {
        "id": "aRfQfubxlto6"
      },
      "source": [
        "# <font color=green> 5. NUMPY BÁSICO\n",
        "---\n",
        "\n",
        "Numpy é a abreviação de Numerical Python e é um dos pacotes mais importantes para processamento numérico em Python. Numpy oferece a base para a maioria dos pacotes de aplicações científicas que utilizem dados numéricos em Python (estruturas de dados e algoritmos). Pode-se destacar os seguintes recursos que o pacote Numpy contém:\n",
        "\n",
        "- Um poderoso objeto array multidimensional;\n",
        "- Funções matemáticas sofisticadas para operações com arrays sem a necessidade de utilização de laços *for*;\n",
        "- Recursos de algebra linear e geração de números aleatórios\n",
        "\n",
        "Além de seus óbvios usos científicos, o pacote NumPy também é muito utilizado em análise de dados como um eficiente contêiner multidimensional de dados genéricos para transporte entre diversos algoritmos e bibliotecas em Python.\n",
        "\n",
        "**Versão:** 1.16.5\n",
        "\n",
        "**Instalação:** https://scipy.org/install.html\n",
        "\n",
        "**Documentação:** https://numpy.org/doc/1.16/"
      ]
    },
    {
      "cell_type": "markdown",
      "metadata": {
        "id": "RtG2-g1ultme"
      },
      "source": [
        "### Pacotes\n",
        "\n",
        "Existem diversos pacotes Python disponíveis para download na internet. Cada pacote tem como objetivo a solução de determinado tipo de problema e para isso são desenvolvidos novos tipos, funções e métodos.\n",
        "\n",
        "Alguns pacotes são bastante utilizados em um contexto de ciência de dados como por exemplo:\n",
        "\n",
        "- Numpy\n",
        "- Pandas\n",
        "- Scikit-learn\n",
        "- Matplotlib\n",
        "\n",
        "Alguns pacotes não são distribuídos com a instalação default do Python. Neste caso devemos instalar os pacotes que necessitamos em nosso sistema para podermos utilizar suas funcionalidades."
      ]
    },
    {
      "cell_type": "markdown",
      "metadata": {
        "id": "b8prsQjmltme"
      },
      "source": [
        "### Importando todo o pacote"
      ]
    },
    {
      "cell_type": "code",
      "execution_count": 148,
      "metadata": {
        "id": "lP0tqXHLltmf"
      },
      "outputs": [],
      "source": [
        "import numpy"
      ]
    },
    {
      "cell_type": "markdown",
      "metadata": {
        "id": "GsnsZ7iLago9"
      },
      "source": [
        "https://numpy.org/doc/1.16/reference/generated/numpy.arange.html"
      ]
    },
    {
      "cell_type": "code",
      "execution_count": 149,
      "metadata": {
        "id": "Y40UP3K7ltmg",
        "colab": {
          "base_uri": "https://localhost:8080/"
        },
        "outputId": "82153e5a-7e82-4bdc-c0fa-a7b86e01cc80"
      },
      "outputs": [
        {
          "output_type": "execute_result",
          "data": {
            "text/plain": [
              "array([0, 1, 2, 3, 4, 5, 6, 7, 8, 9])"
            ]
          },
          "metadata": {},
          "execution_count": 149
        }
      ],
      "source": [
        "numpy.arange(10)"
      ]
    },
    {
      "cell_type": "markdown",
      "metadata": {
        "id": "84-53f4Lltmh"
      },
      "source": [
        "### Importando todo o pacote e atribuindo um novo nome "
      ]
    },
    {
      "cell_type": "code",
      "execution_count": 150,
      "metadata": {
        "id": "CzESWck7ltmi"
      },
      "outputs": [],
      "source": [
        "import numpy as np"
      ]
    },
    {
      "cell_type": "code",
      "execution_count": 151,
      "metadata": {
        "id": "RC7Dr5Viltmj",
        "colab": {
          "base_uri": "https://localhost:8080/"
        },
        "outputId": "a36e32ec-d9fb-4fff-d02d-26a503a85ec3"
      },
      "outputs": [
        {
          "output_type": "execute_result",
          "data": {
            "text/plain": [
              "array([0, 1, 2, 3, 4, 5, 6, 7, 8, 9])"
            ]
          },
          "metadata": {},
          "execution_count": 151
        }
      ],
      "source": [
        "np.arange(10)"
      ]
    },
    {
      "cell_type": "markdown",
      "metadata": {
        "id": "WWawttSpltml"
      },
      "source": [
        "### Importando parte do pacote"
      ]
    },
    {
      "cell_type": "code",
      "execution_count": 152,
      "metadata": {
        "id": "8kTeo3Ltltmo"
      },
      "outputs": [],
      "source": [
        "from numpy import arange"
      ]
    },
    {
      "cell_type": "code",
      "execution_count": 153,
      "metadata": {
        "id": "4LPnpiEwltmt",
        "colab": {
          "base_uri": "https://localhost:8080/"
        },
        "outputId": "b3aecd30-d1de-47f4-e545-0e34152530fc"
      },
      "outputs": [
        {
          "output_type": "execute_result",
          "data": {
            "text/plain": [
              "array([0, 1, 2, 3, 4, 5, 6, 7, 8, 9])"
            ]
          },
          "metadata": {},
          "execution_count": 153
        }
      ],
      "source": [
        "arange(10)"
      ]
    },
    {
      "cell_type": "markdown",
      "metadata": {
        "id": "VSmffnCklto6"
      },
      "source": [
        "# 5.1 Criando arrays Numpy"
      ]
    },
    {
      "cell_type": "code",
      "execution_count": 154,
      "metadata": {
        "id": "Wqpin_-Plto8"
      },
      "outputs": [],
      "source": [
        "import numpy as np"
      ]
    },
    {
      "cell_type": "markdown",
      "metadata": {
        "id": "ock4Ku-Ulto8"
      },
      "source": [
        "### A partir de listas\n",
        "\n",
        "https://numpy.org/doc/1.16/user/basics.creation.html"
      ]
    },
    {
      "cell_type": "code",
      "execution_count": 155,
      "metadata": {
        "id": "82H-09CQlto9"
      },
      "outputs": [],
      "source": [
        "km = np.array([1000, 2300, 4987, 1500])"
      ]
    },
    {
      "cell_type": "code",
      "execution_count": 156,
      "metadata": {
        "id": "8VYE3JSYlto9",
        "colab": {
          "base_uri": "https://localhost:8080/"
        },
        "outputId": "240b0428-5e06-4ed3-e88b-87d76bd7c63e"
      },
      "outputs": [
        {
          "output_type": "execute_result",
          "data": {
            "text/plain": [
              "array([1000, 2300, 4987, 1500])"
            ]
          },
          "metadata": {},
          "execution_count": 156
        }
      ],
      "source": [
        "km"
      ]
    },
    {
      "cell_type": "code",
      "execution_count": 157,
      "metadata": {
        "id": "OBsa5Cfplto-",
        "colab": {
          "base_uri": "https://localhost:8080/"
        },
        "outputId": "76a0e3a8-0c23-4b5e-bd2d-1a06443061aa"
      },
      "outputs": [
        {
          "output_type": "execute_result",
          "data": {
            "text/plain": [
              "numpy.ndarray"
            ]
          },
          "metadata": {},
          "execution_count": 157
        }
      ],
      "source": [
        "type(km)"
      ]
    },
    {
      "cell_type": "markdown",
      "metadata": {
        "id": "RfQ3jJSAlto-"
      },
      "source": [
        "https://numpy.org/doc/1.16/user/basics.types.html"
      ]
    },
    {
      "cell_type": "code",
      "execution_count": 158,
      "metadata": {
        "id": "6yLpkJcAlto-",
        "colab": {
          "base_uri": "https://localhost:8080/"
        },
        "outputId": "8d97b3d5-14dc-4eef-c08a-fafc603cbb30"
      },
      "outputs": [
        {
          "output_type": "execute_result",
          "data": {
            "text/plain": [
              "dtype('int64')"
            ]
          },
          "metadata": {},
          "execution_count": 158
        }
      ],
      "source": [
        "km.dtype"
      ]
    },
    {
      "cell_type": "markdown",
      "metadata": {
        "id": "1pFx86QPlto_"
      },
      "source": [
        "### A partir de dados externos\n",
        "\n",
        "https://numpy.org/doc/1.16/reference/generated/numpy.loadtxt.html"
      ]
    },
    {
      "cell_type": "code",
      "execution_count": 159,
      "metadata": {
        "id": "26pQLNgrlto_"
      },
      "outputs": [],
      "source": [
        "km = np.loadtxt(fname='carros-km.txt', dtype=int)"
      ]
    },
    {
      "cell_type": "code",
      "execution_count": 160,
      "metadata": {
        "id": "FoP42bdpltpA",
        "scrolled": true,
        "colab": {
          "base_uri": "https://localhost:8080/"
        },
        "outputId": "a48c3b5b-510b-49f5-db89-a5e4784c080c"
      },
      "outputs": [
        {
          "output_type": "execute_result",
          "data": {
            "text/plain": [
              "array([ 44410,   5712,  37123,      0,  25757,  10728,      0,  77599,\n",
              "        99197,  37978,  12859,   8052,  89773,      0,  41457, 115607,\n",
              "        46449,      0,  37086,  15173, 101193,      0,  98079, 102959,\n",
              "            0,      0,   5795,      0,  58848,  94381,  30163,  53332,\n",
              "        17720,  33808,  90684,  43975,      0,      0,   5526,      0,\n",
              "        93415,  40762,      0,  86302,      0,   9755,  69945,   2395,\n",
              "            0,  80349,  85554,  50496,  67716,  93947,  35345,  81007,\n",
              "       119513,      0,      0,      0,      0,      0, 118895,  48509,\n",
              "       100912,  95649,      0,  90495,      0,  29132,  23802,  84992,\n",
              "        54395,  26731,  44329, 118236, 113808,    610,      0,      0,\n",
              "        12887,  79607,  90924,  42733,      0,      0, 117714, 113885,\n",
              "            0,  30511,  74867, 119760,   8356,  64247,  88661,   4539,\n",
              "       110116,  33215,  92001,      0,  81708,  70641,      0,  91277,\n",
              "        26544,  52596,  47503,  89056,  28834, 110564,  56638,  17357,\n",
              "        74015,  15196,      0,  10821,      0,      0,   9595,  99052,\n",
              "        52389, 119945,  96005,  31639,      0,  80187,      0,  58212,\n",
              "        61672,  32017,      0,  56944,      0,  86519,   4821, 101025,\n",
              "        30705,      0,  32555, 103389,      0,  55289,      0,      0,\n",
              "       115930,  66437,  96800,  14237,  19896, 113045, 114942,   3173,\n",
              "        83611,  25356,  88634,   2314,   2627,  52034,      0,      0,\n",
              "        79577, 108201,  76453,  57683,  96610, 109001,  26212,  45971,\n",
              "        49182,  49907,  38620,  60996,  73914, 107392,   9146,      0,\n",
              "        17924,      0, 116949,  20476,  52804,   8849,  91724,  32056,\n",
              "        74886,      0,      0,  52189,  83559,      0,  20328,      0,\n",
              "        75577,  33659, 104341,  25510,  18965,  87161,   6652,  55738,\n",
              "            0,      0,      0,  64320,      0,  68678,  71697,      0,\n",
              "        34783,  33772,  85127,  13606,  35647,  95128,  14046,  41194,\n",
              "            0,  96100, 103900,  43814,  24638,      0, 110966,  15987,\n",
              "        53369,  10077,  71544,    107,   8394,  41498, 116002, 100858,\n",
              "        67475,   8497,   4420,      0,  58537,      0,      0, 112016,\n",
              "        91840, 112787,      0,      0,   9293,      0,  55083,  48796,\n",
              "            0,  89685,  85384,  98108,  71280,  27505,  29981,  52637,\n",
              "         7685,  50188])"
            ]
          },
          "metadata": {},
          "execution_count": 160
        }
      ],
      "source": [
        "km"
      ]
    },
    {
      "cell_type": "code",
      "execution_count": 161,
      "metadata": {
        "id": "MNPjZJbYltpA",
        "colab": {
          "base_uri": "https://localhost:8080/"
        },
        "outputId": "46ffd7e1-809b-449f-8e68-dc3e267e466c"
      },
      "outputs": [
        {
          "output_type": "execute_result",
          "data": {
            "text/plain": [
              "dtype('int64')"
            ]
          },
          "metadata": {},
          "execution_count": 161
        }
      ],
      "source": [
        "km.dtype"
      ]
    },
    {
      "cell_type": "markdown",
      "metadata": {
        "id": "_wnTg0wJltpB"
      },
      "source": [
        "### Arrays com duas dimensões"
      ]
    },
    {
      "cell_type": "code",
      "execution_count": 162,
      "metadata": {
        "id": "Gt1dL27GltpB",
        "scrolled": true,
        "colab": {
          "base_uri": "https://localhost:8080/"
        },
        "outputId": "7da57a1d-30a1-48ad-8df5-24e8e1af62a3"
      },
      "outputs": [
        {
          "output_type": "execute_result",
          "data": {
            "text/plain": [
              "[['Rodas de liga',\n",
              "  'Travas elétricas',\n",
              "  'Piloto automático',\n",
              "  'Bancos de couro',\n",
              "  'Ar condicionado',\n",
              "  'Sensor de estacionamento',\n",
              "  'Sensor crepuscular',\n",
              "  'Sensor de chuva'],\n",
              " ['Central multimídia',\n",
              "  'Teto panorâmico',\n",
              "  'Freios ABS',\n",
              "  '4 X 4',\n",
              "  'Painel digital',\n",
              "  'Piloto automático',\n",
              "  'Bancos de couro',\n",
              "  'Câmera de estacionamento'],\n",
              " ['Piloto automático',\n",
              "  'Controle de estabilidade',\n",
              "  'Sensor crepuscular',\n",
              "  'Freios ABS',\n",
              "  'Câmbio automático',\n",
              "  'Bancos de couro',\n",
              "  'Central multimídia',\n",
              "  'Vidros elétricos']]"
            ]
          },
          "metadata": {},
          "execution_count": 162
        }
      ],
      "source": [
        "dados = [ \n",
        "    ['Rodas de liga', 'Travas elétricas', 'Piloto automático', 'Bancos de couro', 'Ar condicionado', 'Sensor de estacionamento', 'Sensor crepuscular', 'Sensor de chuva'],\n",
        "    ['Central multimídia', 'Teto panorâmico', 'Freios ABS', '4 X 4', 'Painel digital', 'Piloto automático', 'Bancos de couro', 'Câmera de estacionamento'],\n",
        "    ['Piloto automático', 'Controle de estabilidade', 'Sensor crepuscular', 'Freios ABS', 'Câmbio automático', 'Bancos de couro', 'Central multimídia', 'Vidros elétricos']\n",
        "]\n",
        "dados"
      ]
    },
    {
      "cell_type": "code",
      "execution_count": 163,
      "metadata": {
        "id": "IlbYeZPkltpC"
      },
      "outputs": [],
      "source": [
        "Acessorios = np.array(dados)"
      ]
    },
    {
      "cell_type": "code",
      "execution_count": 164,
      "metadata": {
        "id": "FgjmWozgltpD",
        "scrolled": true,
        "colab": {
          "base_uri": "https://localhost:8080/"
        },
        "outputId": "5b91f2ff-3062-42dd-b5c5-59530ff2301c"
      },
      "outputs": [
        {
          "output_type": "execute_result",
          "data": {
            "text/plain": [
              "array([['Rodas de liga', 'Travas elétricas', 'Piloto automático',\n",
              "        'Bancos de couro', 'Ar condicionado', 'Sensor de estacionamento',\n",
              "        'Sensor crepuscular', 'Sensor de chuva'],\n",
              "       ['Central multimídia', 'Teto panorâmico', 'Freios ABS', '4 X 4',\n",
              "        'Painel digital', 'Piloto automático', 'Bancos de couro',\n",
              "        'Câmera de estacionamento'],\n",
              "       ['Piloto automático', 'Controle de estabilidade',\n",
              "        'Sensor crepuscular', 'Freios ABS', 'Câmbio automático',\n",
              "        'Bancos de couro', 'Central multimídia', 'Vidros elétricos']],\n",
              "      dtype='<U24')"
            ]
          },
          "metadata": {},
          "execution_count": 164
        }
      ],
      "source": [
        "Acessorios"
      ]
    },
    {
      "cell_type": "code",
      "execution_count": 165,
      "metadata": {
        "id": "TDM9HskUltpD",
        "colab": {
          "base_uri": "https://localhost:8080/"
        },
        "outputId": "008a4900-10d5-4dee-db9c-6032cf1d0a12"
      },
      "outputs": [
        {
          "output_type": "execute_result",
          "data": {
            "text/plain": [
              "(258,)"
            ]
          },
          "metadata": {},
          "execution_count": 165
        }
      ],
      "source": [
        "km.shape"
      ]
    },
    {
      "cell_type": "code",
      "execution_count": 166,
      "metadata": {
        "id": "bBmnzpF5ltpE",
        "colab": {
          "base_uri": "https://localhost:8080/"
        },
        "outputId": "06b11506-5b77-4ca1-80a7-d9f6ccc408a3"
      },
      "outputs": [
        {
          "output_type": "execute_result",
          "data": {
            "text/plain": [
              "(3, 8)"
            ]
          },
          "metadata": {},
          "execution_count": 166
        }
      ],
      "source": [
        "Acessorios.shape"
      ]
    },
    {
      "cell_type": "markdown",
      "metadata": {
        "id": "cPbkST9pltpE"
      },
      "source": [
        "### Comparando desempenho com listas"
      ]
    },
    {
      "cell_type": "code",
      "execution_count": 167,
      "metadata": {
        "id": "tTPC-G4vltpE"
      },
      "outputs": [],
      "source": [
        "np_array = np.arange(1000000)"
      ]
    },
    {
      "cell_type": "code",
      "execution_count": 168,
      "metadata": {
        "id": "PIC-ndg9ltpF"
      },
      "outputs": [],
      "source": [
        "py_list = list(range(1000000))"
      ]
    },
    {
      "cell_type": "code",
      "execution_count": 169,
      "metadata": {
        "id": "vXy57nk2ltpF",
        "colab": {
          "base_uri": "https://localhost:8080/"
        },
        "outputId": "f6e7f737-17e2-47fe-8d01-374dc2ab86f5"
      },
      "outputs": [
        {
          "output_type": "stream",
          "name": "stdout",
          "text": [
            "CPU times: user 185 ms, sys: 8.07 ms, total: 193 ms\n",
            "Wall time: 323 ms\n"
          ]
        }
      ],
      "source": [
        "%time for _ in range(100): np_array *= 2"
      ]
    },
    {
      "cell_type": "code",
      "execution_count": 170,
      "metadata": {
        "id": "I94lVgCRltpG",
        "colab": {
          "base_uri": "https://localhost:8080/"
        },
        "outputId": "529bf845-348c-40d4-bf62-a02e488b1cd7"
      },
      "outputs": [
        {
          "output_type": "stream",
          "name": "stdout",
          "text": [
            "CPU times: user 11.6 s, sys: 3.59 s, total: 15.2 s\n",
            "Wall time: 16.6 s\n"
          ]
        }
      ],
      "source": [
        "%time for _ in range(100): py_list = [x * 2 for x in py_list]"
      ]
    },
    {
      "cell_type": "markdown",
      "metadata": {
        "id": "ul4MuKyTltpG"
      },
      "source": [
        "# 5.2 Operações aritméticas com arrays Numpy"
      ]
    },
    {
      "cell_type": "markdown",
      "metadata": {
        "id": "QwnxO_rYltpH"
      },
      "source": [
        "### Operações entre arrays e constantes"
      ]
    },
    {
      "cell_type": "code",
      "execution_count": 171,
      "metadata": {
        "id": "63KVHPK0ltpH"
      },
      "outputs": [],
      "source": [
        "km = [44410., 5712., 37123., 0., 25757.]\n",
        "anos = [2003, 1991, 1990, 2019, 2006]"
      ]
    },
    {
      "cell_type": "code",
      "execution_count": 172,
      "metadata": {
        "id": "AryIZaBIltpH"
      },
      "outputs": [],
      "source": [
        "# idade = 2019 - anos"
      ]
    },
    {
      "cell_type": "code",
      "execution_count": 173,
      "metadata": {
        "id": "s8GvEk4HltpI"
      },
      "outputs": [],
      "source": [
        "km = np.array([44410., 5712., 37123., 0., 25757.])\n",
        "anos = np.array([2003, 1991, 1990, 2019, 2006])"
      ]
    },
    {
      "cell_type": "code",
      "execution_count": 174,
      "metadata": {
        "id": "aUnYV7OultpI"
      },
      "outputs": [],
      "source": [
        "idade = 2019 - anos"
      ]
    },
    {
      "cell_type": "code",
      "execution_count": 175,
      "metadata": {
        "id": "vg5yZ9IpltpJ",
        "colab": {
          "base_uri": "https://localhost:8080/"
        },
        "outputId": "abdf6f80-0df8-4575-8aea-446d151ebfb6"
      },
      "outputs": [
        {
          "output_type": "execute_result",
          "data": {
            "text/plain": [
              "array([16, 28, 29,  0, 13])"
            ]
          },
          "metadata": {},
          "execution_count": 175
        }
      ],
      "source": [
        "idade"
      ]
    },
    {
      "cell_type": "markdown",
      "metadata": {
        "id": "qn1PUsM9ltpJ"
      },
      "source": [
        "### Operações entre arrays"
      ]
    },
    {
      "cell_type": "code",
      "execution_count": 176,
      "metadata": {
        "id": "gU_d5aZkltpJ",
        "colab": {
          "base_uri": "https://localhost:8080/"
        },
        "outputId": "c39adcb7-a8a9-4f06-aa32-54b8037d5dfe"
      },
      "outputs": [
        {
          "output_type": "stream",
          "name": "stderr",
          "text": [
            "<ipython-input-176-502b13b90eb3>:1: RuntimeWarning: invalid value encountered in true_divide\n",
            "  km_media = km / idade\n"
          ]
        }
      ],
      "source": [
        "km_media = km / idade"
      ]
    },
    {
      "cell_type": "code",
      "execution_count": 177,
      "metadata": {
        "id": "U9DXntUEltpK",
        "colab": {
          "base_uri": "https://localhost:8080/"
        },
        "outputId": "98aab676-e4b2-4932-93a1-e08afefa91be"
      },
      "outputs": [
        {
          "output_type": "execute_result",
          "data": {
            "text/plain": [
              "array([2775.625     ,  204.        , 1280.10344828,           nan,\n",
              "       1981.30769231])"
            ]
          },
          "metadata": {},
          "execution_count": 177
        }
      ],
      "source": [
        "km_media"
      ]
    },
    {
      "cell_type": "markdown",
      "metadata": {
        "id": "o4-gsGICltpN"
      },
      "source": [
        "### Operações com arrays de duas dimensões"
      ]
    },
    {
      "cell_type": "code",
      "execution_count": 178,
      "metadata": {
        "id": "VT71Pbb3ltpN"
      },
      "outputs": [],
      "source": [
        "dados = np.array([km, anos])"
      ]
    },
    {
      "cell_type": "code",
      "execution_count": 179,
      "metadata": {
        "id": "bgDe00q8ltpO",
        "colab": {
          "base_uri": "https://localhost:8080/"
        },
        "outputId": "0e3c2186-b79f-4119-97ea-8d37a70cc9c7"
      },
      "outputs": [
        {
          "output_type": "execute_result",
          "data": {
            "text/plain": [
              "array([[44410.,  5712., 37123.,     0., 25757.],\n",
              "       [ 2003.,  1991.,  1990.,  2019.,  2006.]])"
            ]
          },
          "metadata": {},
          "execution_count": 179
        }
      ],
      "source": [
        "dados"
      ]
    },
    {
      "cell_type": "code",
      "execution_count": 180,
      "metadata": {
        "id": "jIQU2ugKltpP",
        "colab": {
          "base_uri": "https://localhost:8080/"
        },
        "outputId": "4f715765-52b0-42a0-ec85-0a215c784b09"
      },
      "outputs": [
        {
          "output_type": "execute_result",
          "data": {
            "text/plain": [
              "(2, 5)"
            ]
          },
          "metadata": {},
          "execution_count": 180
        }
      ],
      "source": [
        "dados.shape"
      ]
    },
    {
      "cell_type": "markdown",
      "metadata": {
        "id": "dsgz-E5ZltpP"
      },
      "source": [
        "![1410-img01.png](https://caelum-online-public.s3.amazonaws.com/1410-pythondatascience/01/1410-img01.png)"
      ]
    },
    {
      "cell_type": "code",
      "execution_count": 181,
      "metadata": {
        "id": "imANn6HultpQ",
        "colab": {
          "base_uri": "https://localhost:8080/"
        },
        "outputId": "8c10dee4-fe81-4d36-ab8a-e6ec317ff911"
      },
      "outputs": [
        {
          "output_type": "execute_result",
          "data": {
            "text/plain": [
              "array([44410.,  5712., 37123.,     0., 25757.])"
            ]
          },
          "metadata": {},
          "execution_count": 181
        }
      ],
      "source": [
        "dados[0]"
      ]
    },
    {
      "cell_type": "code",
      "execution_count": 182,
      "metadata": {
        "id": "Nkp9ljkvltpQ",
        "colab": {
          "base_uri": "https://localhost:8080/"
        },
        "outputId": "16062b0e-8255-4eb8-c639-3b5d9550401d"
      },
      "outputs": [
        {
          "output_type": "execute_result",
          "data": {
            "text/plain": [
              "array([2003., 1991., 1990., 2019., 2006.])"
            ]
          },
          "metadata": {},
          "execution_count": 182
        }
      ],
      "source": [
        "dados[1]"
      ]
    },
    {
      "cell_type": "code",
      "execution_count": 183,
      "metadata": {
        "id": "njJ2z3HJltpR",
        "colab": {
          "base_uri": "https://localhost:8080/"
        },
        "outputId": "498ab598-fade-4fde-d834-35c6c7b991d2"
      },
      "outputs": [
        {
          "output_type": "stream",
          "name": "stderr",
          "text": [
            "<ipython-input-183-dac51efab2ed>:1: RuntimeWarning: invalid value encountered in true_divide\n",
            "  km_media = dados[0] / (2019 - dados[1])\n"
          ]
        },
        {
          "output_type": "execute_result",
          "data": {
            "text/plain": [
              "array([2775.625     ,  204.        , 1280.10344828,           nan,\n",
              "       1981.30769231])"
            ]
          },
          "metadata": {},
          "execution_count": 183
        }
      ],
      "source": [
        "km_media = dados[0] / (2019 - dados[1])\n",
        "km_media"
      ]
    },
    {
      "cell_type": "markdown",
      "metadata": {
        "id": "4CAwtS0-ltpR"
      },
      "source": [
        "# 5.3 Seleções com arrays Numpy"
      ]
    },
    {
      "cell_type": "markdown",
      "metadata": {
        "id": "QDAT1vODltpS"
      },
      "source": [
        "![1410-img01.png](https://caelum-online-public.s3.amazonaws.com/1410-pythondatascience/01/1410-img01.png)"
      ]
    },
    {
      "cell_type": "code",
      "execution_count": 184,
      "metadata": {
        "id": "nZpPGS2TltpS",
        "colab": {
          "base_uri": "https://localhost:8080/"
        },
        "outputId": "683a7f41-73d4-44e4-e0b7-1c6ec2690177"
      },
      "outputs": [
        {
          "output_type": "execute_result",
          "data": {
            "text/plain": [
              "array([[44410.,  5712., 37123.,     0., 25757.],\n",
              "       [ 2003.,  1991.,  1990.,  2019.,  2006.]])"
            ]
          },
          "metadata": {},
          "execution_count": 184
        }
      ],
      "source": [
        "dados"
      ]
    },
    {
      "cell_type": "markdown",
      "metadata": {
        "id": "b--BIPcOltpT"
      },
      "source": [
        "![1410-img02.png](https://caelum-online-public.s3.amazonaws.com/1410-pythondatascience/01/1410-img02.png)"
      ]
    },
    {
      "cell_type": "markdown",
      "metadata": {
        "id": "86-hOHa7ltpT"
      },
      "source": [
        "### Indexação \n",
        "\n",
        "<font color=red>**Observação:**</font> A indexação tem origem no zero."
      ]
    },
    {
      "cell_type": "code",
      "execution_count": 185,
      "metadata": {
        "id": "mr0Q_X0JltpT",
        "colab": {
          "base_uri": "https://localhost:8080/"
        },
        "outputId": "6dc825ee-e6af-436e-ffd3-ef7613c0798e"
      },
      "outputs": [
        {
          "output_type": "execute_result",
          "data": {
            "text/plain": [
              "array([0, 1, 2, 3, 4, 5, 6, 7, 8, 9])"
            ]
          },
          "metadata": {},
          "execution_count": 185
        }
      ],
      "source": [
        "contador = np.arange(10)\n",
        "contador"
      ]
    },
    {
      "cell_type": "code",
      "execution_count": 186,
      "metadata": {
        "id": "VxiR_IgdltpU",
        "colab": {
          "base_uri": "https://localhost:8080/"
        },
        "outputId": "9e7bd5d5-2c44-41a1-9268-feb5fcb91d0d"
      },
      "outputs": [
        {
          "output_type": "execute_result",
          "data": {
            "text/plain": [
              "0"
            ]
          },
          "metadata": {},
          "execution_count": 186
        }
      ],
      "source": [
        "contador[0]"
      ]
    },
    {
      "cell_type": "code",
      "execution_count": 187,
      "metadata": {
        "id": "xGDomIyAltpU",
        "colab": {
          "base_uri": "https://localhost:8080/"
        },
        "outputId": "5ea7e12c-efea-4ace-d30e-2afdc3b37e4e"
      },
      "outputs": [
        {
          "output_type": "execute_result",
          "data": {
            "text/plain": [
              "6"
            ]
          },
          "metadata": {},
          "execution_count": 187
        }
      ],
      "source": [
        "item = 6\n",
        "index = item - 1\n",
        "\n",
        "contador[item]"
      ]
    },
    {
      "cell_type": "code",
      "execution_count": 188,
      "metadata": {
        "id": "QEO5Za5PltpV",
        "colab": {
          "base_uri": "https://localhost:8080/"
        },
        "outputId": "5657b96b-a773-4e03-fc8e-c1453ad45c71"
      },
      "outputs": [
        {
          "output_type": "execute_result",
          "data": {
            "text/plain": [
              "9"
            ]
          },
          "metadata": {},
          "execution_count": 188
        }
      ],
      "source": [
        "contador[-1]"
      ]
    },
    {
      "cell_type": "code",
      "execution_count": 189,
      "metadata": {
        "id": "rvkeMK8KltpV",
        "colab": {
          "base_uri": "https://localhost:8080/"
        },
        "outputId": "24200260-c750-4f54-d713-3f7680da58c0"
      },
      "outputs": [
        {
          "output_type": "execute_result",
          "data": {
            "text/plain": [
              "array([44410.,  5712., 37123.,     0., 25757.])"
            ]
          },
          "metadata": {},
          "execution_count": 189
        }
      ],
      "source": [
        "dados[0]"
      ]
    },
    {
      "cell_type": "code",
      "execution_count": 190,
      "metadata": {
        "id": "X8c-lJRJltpW",
        "colab": {
          "base_uri": "https://localhost:8080/"
        },
        "outputId": "529eb140-33e8-4734-be88-0c121a0b9698"
      },
      "outputs": [
        {
          "output_type": "execute_result",
          "data": {
            "text/plain": [
              "array([2003., 1991., 1990., 2019., 2006.])"
            ]
          },
          "metadata": {},
          "execution_count": 190
        }
      ],
      "source": [
        "dados[1]"
      ]
    },
    {
      "cell_type": "markdown",
      "metadata": {
        "id": "fCWUSI1zltpZ"
      },
      "source": [
        "## <font color=green>**Dica:**</font>\n",
        "### *ndarray[ linha ][ coluna ]* ou *ndarray[ linha, coluna ]*"
      ]
    },
    {
      "cell_type": "code",
      "execution_count": 191,
      "metadata": {
        "id": "Nxc3uY-ZltpZ",
        "colab": {
          "base_uri": "https://localhost:8080/"
        },
        "outputId": "b5a0224c-d188-428b-d6b3-3a5797a24a5a"
      },
      "outputs": [
        {
          "output_type": "execute_result",
          "data": {
            "text/plain": [
              "1990.0"
            ]
          },
          "metadata": {},
          "execution_count": 191
        }
      ],
      "source": [
        "dados[1, 2]"
      ]
    },
    {
      "cell_type": "code",
      "execution_count": 192,
      "metadata": {
        "id": "xp8ByjualtpZ",
        "colab": {
          "base_uri": "https://localhost:8080/"
        },
        "outputId": "12e96c5e-a263-4d5e-96ea-4b587cfea381"
      },
      "outputs": [
        {
          "output_type": "execute_result",
          "data": {
            "text/plain": [
              "1990.0"
            ]
          },
          "metadata": {},
          "execution_count": 192
        }
      ],
      "source": [
        "dados[1][2]"
      ]
    },
    {
      "cell_type": "markdown",
      "metadata": {
        "id": "7osmTUC4ltpa"
      },
      "source": [
        " ### Fatiamentos\n",
        " \n",
        "A sintaxe para realizar fatiamento em um array Numpy é $i : j : k$ onde $i$ é o índice inicial, $j$ é o índice de parada, e $k$ é o indicador de passo ($k\\neq0$)\n",
        " \n",
        "<font color=red>**Observação:**</font> Nos fatiamentos (*slices*) o item com índice i é **incluído** e o item com índice j **não é incluído** no resultado."
      ]
    },
    {
      "cell_type": "markdown",
      "metadata": {
        "id": "HEx4TbNlltpa"
      },
      "source": [
        "![1410-img01.png](https://caelum-online-public.s3.amazonaws.com/1410-pythondatascience/01/1410-img01.png)"
      ]
    },
    {
      "cell_type": "code",
      "execution_count": 193,
      "metadata": {
        "id": "tlaD1SENltpb",
        "colab": {
          "base_uri": "https://localhost:8080/"
        },
        "outputId": "8fa2e6cf-d67e-4c14-aa06-70d027660f56"
      },
      "outputs": [
        {
          "output_type": "execute_result",
          "data": {
            "text/plain": [
              "array([0, 1, 2, 3, 4, 5, 6, 7, 8, 9])"
            ]
          },
          "metadata": {},
          "execution_count": 193
        }
      ],
      "source": [
        "contador = np.arange(10)\n",
        "contador"
      ]
    },
    {
      "cell_type": "code",
      "execution_count": 194,
      "metadata": {
        "id": "vXLIO1cVltpc",
        "colab": {
          "base_uri": "https://localhost:8080/"
        },
        "outputId": "8b744dc5-18fe-453d-e099-4dd44eaf5a89"
      },
      "outputs": [
        {
          "output_type": "execute_result",
          "data": {
            "text/plain": [
              "array([1, 2, 3])"
            ]
          },
          "metadata": {},
          "execution_count": 194
        }
      ],
      "source": [
        "contador[1:4]"
      ]
    },
    {
      "cell_type": "code",
      "execution_count": 195,
      "metadata": {
        "id": "kYLgsQcHltpc",
        "colab": {
          "base_uri": "https://localhost:8080/"
        },
        "outputId": "d7cb78ac-9f66-4eea-8249-3f09d4ad83e6"
      },
      "outputs": [
        {
          "output_type": "execute_result",
          "data": {
            "text/plain": [
              "array([1, 3, 5, 7])"
            ]
          },
          "metadata": {},
          "execution_count": 195
        }
      ],
      "source": [
        "contador[1:8:2]"
      ]
    },
    {
      "cell_type": "code",
      "execution_count": 196,
      "metadata": {
        "id": "H2MJpIasltpd",
        "colab": {
          "base_uri": "https://localhost:8080/"
        },
        "outputId": "3653a6ad-cda9-4189-a2a8-5306c713df9c"
      },
      "outputs": [
        {
          "output_type": "execute_result",
          "data": {
            "text/plain": [
              "array([0, 2, 4, 6, 8])"
            ]
          },
          "metadata": {},
          "execution_count": 196
        }
      ],
      "source": [
        "contador[::2]"
      ]
    },
    {
      "cell_type": "code",
      "execution_count": 197,
      "metadata": {
        "id": "YVzf4fNCltpe",
        "colab": {
          "base_uri": "https://localhost:8080/"
        },
        "outputId": "c2c60ec0-e2ba-472f-a3a5-1947d1e342ab"
      },
      "outputs": [
        {
          "output_type": "execute_result",
          "data": {
            "text/plain": [
              "array([1, 3, 5, 7, 9])"
            ]
          },
          "metadata": {},
          "execution_count": 197
        }
      ],
      "source": [
        "contador[1::2]"
      ]
    },
    {
      "cell_type": "code",
      "execution_count": 198,
      "metadata": {
        "id": "bPyQsUFPltpf",
        "colab": {
          "base_uri": "https://localhost:8080/"
        },
        "outputId": "c988c1a6-7a5a-48f8-a9c0-f52d81cc8497"
      },
      "outputs": [
        {
          "output_type": "execute_result",
          "data": {
            "text/plain": [
              "array([[44410.,  5712., 37123.,     0., 25757.],\n",
              "       [ 2003.,  1991.,  1990.,  2019.,  2006.]])"
            ]
          },
          "metadata": {},
          "execution_count": 198
        }
      ],
      "source": [
        "dados"
      ]
    },
    {
      "cell_type": "code",
      "execution_count": 199,
      "metadata": {
        "id": "IRxfixG-ltpg",
        "colab": {
          "base_uri": "https://localhost:8080/"
        },
        "outputId": "af883f77-eb3f-4e70-bae4-116a8130488a"
      },
      "outputs": [
        {
          "output_type": "execute_result",
          "data": {
            "text/plain": [
              "array([[ 5712., 37123.],\n",
              "       [ 1991.,  1990.]])"
            ]
          },
          "metadata": {},
          "execution_count": 199
        }
      ],
      "source": [
        "dados[:, 1:3]"
      ]
    },
    {
      "cell_type": "code",
      "execution_count": 200,
      "metadata": {
        "id": "wfoJ84haltph",
        "colab": {
          "base_uri": "https://localhost:8080/"
        },
        "outputId": "861e3184-afa4-44f2-be34-1ef3edf86ce6"
      },
      "outputs": [
        {
          "output_type": "execute_result",
          "data": {
            "text/plain": [
              "array([ 204.        , 1280.10344828])"
            ]
          },
          "metadata": {},
          "execution_count": 200
        }
      ],
      "source": [
        "dados[:, 1:3][0] / (2019 - dados[:, 1:3][1])"
      ]
    },
    {
      "cell_type": "code",
      "execution_count": 201,
      "metadata": {
        "id": "UeejSXUAltph",
        "colab": {
          "base_uri": "https://localhost:8080/"
        },
        "outputId": "ad2edd81-b885-49e2-a3a8-cdd2449c3628"
      },
      "outputs": [
        {
          "output_type": "stream",
          "name": "stderr",
          "text": [
            "<ipython-input-201-fb26cb8e809a>:1: RuntimeWarning: invalid value encountered in true_divide\n",
            "  dados[0] / (2019 - dados[1])\n"
          ]
        },
        {
          "output_type": "execute_result",
          "data": {
            "text/plain": [
              "array([2775.625     ,  204.        , 1280.10344828,           nan,\n",
              "       1981.30769231])"
            ]
          },
          "metadata": {},
          "execution_count": 201
        }
      ],
      "source": [
        "dados[0] / (2019 - dados[1])"
      ]
    },
    {
      "cell_type": "markdown",
      "metadata": {
        "id": "-fW4EXIqltpi"
      },
      "source": [
        "### Indexação com array booleano\n",
        "\n",
        "<font color=red>**Observação:**</font> Seleciona um grupo de linhas e colunas segundo os rótulos ou um array booleano."
      ]
    },
    {
      "cell_type": "code",
      "execution_count": 202,
      "metadata": {
        "id": "MgmH-rCSltpi",
        "colab": {
          "base_uri": "https://localhost:8080/"
        },
        "outputId": "86019f46-9944-4362-815e-a2caea9b9292"
      },
      "outputs": [
        {
          "output_type": "execute_result",
          "data": {
            "text/plain": [
              "array([0, 1, 2, 3, 4, 5, 6, 7, 8, 9])"
            ]
          },
          "metadata": {},
          "execution_count": 202
        }
      ],
      "source": [
        "contador = np.arange(10)\n",
        "contador"
      ]
    },
    {
      "cell_type": "code",
      "execution_count": 203,
      "metadata": {
        "id": "HN1i-BlLltpj",
        "colab": {
          "base_uri": "https://localhost:8080/"
        },
        "outputId": "2fedb340-9b90-43e0-bbb6-8cf9bcbfb155"
      },
      "outputs": [
        {
          "output_type": "execute_result",
          "data": {
            "text/plain": [
              "array([False, False, False, False, False, False,  True,  True,  True,\n",
              "        True])"
            ]
          },
          "metadata": {},
          "execution_count": 203
        }
      ],
      "source": [
        "contador > 5"
      ]
    },
    {
      "cell_type": "code",
      "execution_count": 204,
      "metadata": {
        "id": "iXJa9tL4ltpj",
        "colab": {
          "base_uri": "https://localhost:8080/"
        },
        "outputId": "a8ff96f1-344c-414d-9365-8601c50670b8"
      },
      "outputs": [
        {
          "output_type": "execute_result",
          "data": {
            "text/plain": [
              "array([6, 7, 8, 9])"
            ]
          },
          "metadata": {},
          "execution_count": 204
        }
      ],
      "source": [
        "contador[contador > 5]"
      ]
    },
    {
      "cell_type": "code",
      "execution_count": 205,
      "metadata": {
        "id": "54gH6X5eltpk",
        "colab": {
          "base_uri": "https://localhost:8080/"
        },
        "outputId": "c17b223b-e1ba-4ed8-a785-d9b4567453e9"
      },
      "outputs": [
        {
          "output_type": "execute_result",
          "data": {
            "text/plain": [
              "array([6, 7, 8, 9])"
            ]
          },
          "metadata": {},
          "execution_count": 205
        }
      ],
      "source": [
        "contador[[False, False, False, False, False, False,  True,  True,  True, True]]"
      ]
    },
    {
      "cell_type": "code",
      "execution_count": 206,
      "metadata": {
        "id": "F3z6zMELltpk",
        "colab": {
          "base_uri": "https://localhost:8080/"
        },
        "outputId": "fffa6ff6-78f4-4469-892b-47a7e6a06d00"
      },
      "outputs": [
        {
          "output_type": "execute_result",
          "data": {
            "text/plain": [
              "array([ True, False, False,  True,  True])"
            ]
          },
          "metadata": {},
          "execution_count": 206
        }
      ],
      "source": [
        "dados[1] > 2000"
      ]
    },
    {
      "cell_type": "code",
      "execution_count": 207,
      "metadata": {
        "id": "pk8A68z1ltpl",
        "colab": {
          "base_uri": "https://localhost:8080/"
        },
        "outputId": "b1217aa3-12f4-4630-b643-c6bcf8040b3b"
      },
      "outputs": [
        {
          "output_type": "execute_result",
          "data": {
            "text/plain": [
              "array([[44410.,     0., 25757.],\n",
              "       [ 2003.,  2019.,  2006.]])"
            ]
          },
          "metadata": {},
          "execution_count": 207
        }
      ],
      "source": [
        "dados[:, dados[1] > 2000]"
      ]
    },
    {
      "cell_type": "markdown",
      "metadata": {
        "id": "Acw1DffHltpn"
      },
      "source": [
        "# 5.4 Atributos e métodos de arrays Numpy"
      ]
    },
    {
      "cell_type": "code",
      "source": [
        "dados = np.array([[44410., 5712., 37123., 0., 25757.],\n",
        "                  [2003, 1991, 1990, 2019, 2006]])\n",
        "dados"
      ],
      "metadata": {
        "colab": {
          "base_uri": "https://localhost:8080/"
        },
        "id": "5l0Q_-Vfh2C3",
        "outputId": "3e575fd7-4f48-43b9-f460-4637fce68825"
      },
      "execution_count": 208,
      "outputs": [
        {
          "output_type": "execute_result",
          "data": {
            "text/plain": [
              "array([[44410.,  5712., 37123.,     0., 25757.],\n",
              "       [ 2003.,  1991.,  1990.,  2019.,  2006.]])"
            ]
          },
          "metadata": {},
          "execution_count": 208
        }
      ]
    },
    {
      "cell_type": "markdown",
      "metadata": {
        "id": "RBnSne6Eltpo"
      },
      "source": [
        "### Atributos\n",
        "\n",
        "https://numpy.org/doc/1.16/reference/arrays.ndarray.html#array-attributes"
      ]
    },
    {
      "cell_type": "markdown",
      "metadata": {
        "id": "uKqPxg2Zltpo"
      },
      "source": [
        "## *ndarray.shape*\n",
        "\n",
        "Retorna uma tupla com as dimensões do array."
      ]
    },
    {
      "cell_type": "code",
      "execution_count": 209,
      "metadata": {
        "id": "gmaZhF04ltpp",
        "colab": {
          "base_uri": "https://localhost:8080/"
        },
        "outputId": "ae2ef44c-1edd-464d-b335-1e809e6c75a8"
      },
      "outputs": [
        {
          "output_type": "execute_result",
          "data": {
            "text/plain": [
              "(2, 5)"
            ]
          },
          "metadata": {},
          "execution_count": 209
        }
      ],
      "source": [
        "dados.shape"
      ]
    },
    {
      "cell_type": "markdown",
      "metadata": {
        "id": "XaY6oXkmltpp"
      },
      "source": [
        "## *ndarray.ndim*\n",
        "\n",
        "Retorna o número de dimensões do array."
      ]
    },
    {
      "cell_type": "code",
      "execution_count": 210,
      "metadata": {
        "id": "inJ4HDjaltpq",
        "colab": {
          "base_uri": "https://localhost:8080/"
        },
        "outputId": "9e61bed8-9895-4ba1-dd7e-063e9a480ea4"
      },
      "outputs": [
        {
          "output_type": "execute_result",
          "data": {
            "text/plain": [
              "2"
            ]
          },
          "metadata": {},
          "execution_count": 210
        }
      ],
      "source": [
        "dados.ndim"
      ]
    },
    {
      "cell_type": "markdown",
      "metadata": {
        "id": "ESgVt5xOltpq"
      },
      "source": [
        "## *ndarray.size*\n",
        "\n",
        "Retorna o número de elementos do array."
      ]
    },
    {
      "cell_type": "code",
      "execution_count": 211,
      "metadata": {
        "id": "BWr4efoiltpq",
        "colab": {
          "base_uri": "https://localhost:8080/"
        },
        "outputId": "138f85dd-5116-46ab-9ffd-5464a3daeaf2"
      },
      "outputs": [
        {
          "output_type": "execute_result",
          "data": {
            "text/plain": [
              "10"
            ]
          },
          "metadata": {},
          "execution_count": 211
        }
      ],
      "source": [
        "dados.size"
      ]
    },
    {
      "cell_type": "markdown",
      "metadata": {
        "id": "Ox8JlBM3ltpr"
      },
      "source": [
        "## *ndarray.dtype*\n",
        "\n",
        "Retorna o tipo de dados dos elementos do array."
      ]
    },
    {
      "cell_type": "code",
      "execution_count": 212,
      "metadata": {
        "id": "npiL84Vfltpu",
        "colab": {
          "base_uri": "https://localhost:8080/"
        },
        "outputId": "dc5a8a1a-882d-4df9-fd23-a7c1eb9c0153"
      },
      "outputs": [
        {
          "output_type": "execute_result",
          "data": {
            "text/plain": [
              "dtype('float64')"
            ]
          },
          "metadata": {},
          "execution_count": 212
        }
      ],
      "source": [
        "dados.dtype"
      ]
    },
    {
      "cell_type": "markdown",
      "metadata": {
        "id": "j7uPN16oltpv"
      },
      "source": [
        "## *ndarray.T*\n",
        "\n",
        "Retorna o array transposto, isto é, converte linhas em colunas e vice versa."
      ]
    },
    {
      "cell_type": "code",
      "execution_count": 213,
      "metadata": {
        "id": "bLjrrx56ltpv",
        "colab": {
          "base_uri": "https://localhost:8080/"
        },
        "outputId": "e2cd6363-5a2e-4b82-a3fb-a5873e3806a6"
      },
      "outputs": [
        {
          "output_type": "execute_result",
          "data": {
            "text/plain": [
              "array([[44410.,  2003.],\n",
              "       [ 5712.,  1991.],\n",
              "       [37123.,  1990.],\n",
              "       [    0.,  2019.],\n",
              "       [25757.,  2006.]])"
            ]
          },
          "metadata": {},
          "execution_count": 213
        }
      ],
      "source": [
        "dados.T"
      ]
    },
    {
      "cell_type": "code",
      "execution_count": 214,
      "metadata": {
        "id": "5A9SlJQvltpw",
        "colab": {
          "base_uri": "https://localhost:8080/"
        },
        "outputId": "37b3e453-2804-4451-8ee6-688466111cb8"
      },
      "outputs": [
        {
          "output_type": "execute_result",
          "data": {
            "text/plain": [
              "array([[44410.,  2003.],\n",
              "       [ 5712.,  1991.],\n",
              "       [37123.,  1990.],\n",
              "       [    0.,  2019.],\n",
              "       [25757.,  2006.]])"
            ]
          },
          "metadata": {},
          "execution_count": 214
        }
      ],
      "source": [
        "dados.transpose()"
      ]
    },
    {
      "cell_type": "markdown",
      "metadata": {
        "id": "e9r6ryTrltpw"
      },
      "source": [
        "### Métodos\n",
        "\n",
        "https://numpy.org/doc/1.16/reference/arrays.ndarray.html#array-methods"
      ]
    },
    {
      "cell_type": "markdown",
      "metadata": {
        "id": "SR9KYy-0ltpw"
      },
      "source": [
        "## *ndarray.tolist()*\n",
        "\n",
        "Retorna o array como uma lista Python."
      ]
    },
    {
      "cell_type": "code",
      "execution_count": 215,
      "metadata": {
        "id": "C2aTAwOXltpw",
        "colab": {
          "base_uri": "https://localhost:8080/"
        },
        "outputId": "928d78c2-36c9-41df-f8da-25de54365dec"
      },
      "outputs": [
        {
          "output_type": "execute_result",
          "data": {
            "text/plain": [
              "[[44410.0, 5712.0, 37123.0, 0.0, 25757.0],\n",
              " [2003.0, 1991.0, 1990.0, 2019.0, 2006.0]]"
            ]
          },
          "metadata": {},
          "execution_count": 215
        }
      ],
      "source": [
        "dados.tolist()"
      ]
    },
    {
      "cell_type": "markdown",
      "metadata": {
        "id": "bHxcxugPltpx"
      },
      "source": [
        "## *ndarray.reshape(shape[, order])*\n",
        "\n",
        "Retorna um array que contém os mesmos dados com uma nova forma."
      ]
    },
    {
      "cell_type": "code",
      "execution_count": 216,
      "metadata": {
        "id": "lwESxO71ltpx",
        "colab": {
          "base_uri": "https://localhost:8080/"
        },
        "outputId": "2f953616-eed3-4dc5-e6ef-d31836c739c0"
      },
      "outputs": [
        {
          "output_type": "execute_result",
          "data": {
            "text/plain": [
              "array([0, 1, 2, 3, 4, 5, 6, 7, 8, 9])"
            ]
          },
          "metadata": {},
          "execution_count": 216
        }
      ],
      "source": [
        "contador = np.arange(10)\n",
        "contador"
      ]
    },
    {
      "cell_type": "code",
      "execution_count": 217,
      "metadata": {
        "id": "sh9poyfzltpy",
        "colab": {
          "base_uri": "https://localhost:8080/"
        },
        "outputId": "c4a5db6c-482b-4c02-ef46-5c8aadb79e9b"
      },
      "outputs": [
        {
          "output_type": "execute_result",
          "data": {
            "text/plain": [
              "array([[0, 1],\n",
              "       [2, 3],\n",
              "       [4, 5],\n",
              "       [6, 7],\n",
              "       [8, 9]])"
            ]
          },
          "metadata": {},
          "execution_count": 217
        }
      ],
      "source": [
        "contador.reshape((5, 2))"
      ]
    },
    {
      "cell_type": "code",
      "execution_count": 218,
      "metadata": {
        "id": "5332Xu8-ltpy",
        "colab": {
          "base_uri": "https://localhost:8080/"
        },
        "outputId": "a6cc678c-8b31-497d-c5c5-6849281fc3b6"
      },
      "outputs": [
        {
          "output_type": "execute_result",
          "data": {
            "text/plain": [
              "array([[0, 1],\n",
              "       [2, 3],\n",
              "       [4, 5],\n",
              "       [6, 7],\n",
              "       [8, 9]])"
            ]
          },
          "metadata": {},
          "execution_count": 218
        }
      ],
      "source": [
        "contador.reshape((5, 2), order='C')"
      ]
    },
    {
      "cell_type": "code",
      "execution_count": 219,
      "metadata": {
        "id": "2RoZvbgHltpz",
        "colab": {
          "base_uri": "https://localhost:8080/"
        },
        "outputId": "0c2590c1-83d9-4c9c-bb5e-22d06ad899a4"
      },
      "outputs": [
        {
          "output_type": "execute_result",
          "data": {
            "text/plain": [
              "array([[0, 5],\n",
              "       [1, 6],\n",
              "       [2, 7],\n",
              "       [3, 8],\n",
              "       [4, 9]])"
            ]
          },
          "metadata": {},
          "execution_count": 219
        }
      ],
      "source": [
        "contador.reshape((5, 2), order='F')"
      ]
    },
    {
      "cell_type": "code",
      "execution_count": 220,
      "metadata": {
        "id": "6q0dJZ-dltp0"
      },
      "outputs": [],
      "source": [
        "km = [44410, 5712, 37123, 0, 25757]\n",
        "anos = [2003, 1991, 1990, 2019, 2006]"
      ]
    },
    {
      "cell_type": "code",
      "execution_count": 221,
      "metadata": {
        "id": "bs56aGrkltp0",
        "colab": {
          "base_uri": "https://localhost:8080/"
        },
        "outputId": "26a917ea-7332-4963-c30b-e88d52d32767"
      },
      "outputs": [
        {
          "output_type": "execute_result",
          "data": {
            "text/plain": [
              "[44410, 5712, 37123, 0, 25757, 2003, 1991, 1990, 2019, 2006]"
            ]
          },
          "metadata": {},
          "execution_count": 221
        }
      ],
      "source": [
        "info_carros = km + anos\n",
        "info_carros"
      ]
    },
    {
      "cell_type": "code",
      "execution_count": 222,
      "metadata": {
        "id": "s_GkTk2fltp1",
        "colab": {
          "base_uri": "https://localhost:8080/"
        },
        "outputId": "ce57bedf-5239-46a8-e20b-6c5e79783634"
      },
      "outputs": [
        {
          "output_type": "execute_result",
          "data": {
            "text/plain": [
              "array([[44410,  5712, 37123,     0, 25757],\n",
              "       [ 2003,  1991,  1990,  2019,  2006]])"
            ]
          },
          "metadata": {},
          "execution_count": 222
        }
      ],
      "source": [
        "np.array(info_carros).reshape((2, 5))"
      ]
    },
    {
      "cell_type": "code",
      "execution_count": 223,
      "metadata": {
        "id": "xodm8DVZltp1",
        "colab": {
          "base_uri": "https://localhost:8080/"
        },
        "outputId": "61b3cf6c-fc88-45aa-ede7-3dc8c700f232"
      },
      "outputs": [
        {
          "output_type": "execute_result",
          "data": {
            "text/plain": [
              "array([[44410,  2003],\n",
              "       [ 5712,  1991],\n",
              "       [37123,  1990],\n",
              "       [    0,  2019],\n",
              "       [25757,  2006]])"
            ]
          },
          "metadata": {},
          "execution_count": 223
        }
      ],
      "source": [
        "np.array(info_carros).reshape((5, 2), order='F')"
      ]
    },
    {
      "cell_type": "markdown",
      "metadata": {
        "id": "Tdj5iArbltp2"
      },
      "source": [
        "## *ndarray.resize(new_shape[, refcheck])*\n",
        "\n",
        "Altera a forma e o tamanho do array."
      ]
    },
    {
      "cell_type": "code",
      "execution_count": 224,
      "metadata": {
        "id": "vB2zxCDtltp2",
        "colab": {
          "base_uri": "https://localhost:8080/"
        },
        "outputId": "d4912483-c98d-4741-9e2b-d97ced2ea508"
      },
      "outputs": [
        {
          "output_type": "execute_result",
          "data": {
            "text/plain": [
              "array([[44410.,  5712., 37123.,     0., 25757.],\n",
              "       [ 2003.,  1991.,  1990.,  2019.,  2006.]])"
            ]
          },
          "metadata": {},
          "execution_count": 224
        }
      ],
      "source": [
        "dados_new = dados.copy()\n",
        "dados_new"
      ]
    },
    {
      "cell_type": "code",
      "execution_count": 225,
      "metadata": {
        "id": "IMv0m4Multp2"
      },
      "outputs": [],
      "source": [
        "dados_new.resize(3, 5, refcheck=False)"
      ]
    },
    {
      "cell_type": "code",
      "execution_count": 226,
      "metadata": {
        "id": "wpAi9928ltp3",
        "colab": {
          "base_uri": "https://localhost:8080/"
        },
        "outputId": "1c913cc4-1c65-4bff-e1f6-cac07936f6d5"
      },
      "outputs": [
        {
          "output_type": "execute_result",
          "data": {
            "text/plain": [
              "array([[44410.,  5712., 37123.,     0., 25757.],\n",
              "       [ 2003.,  1991.,  1990.,  2019.,  2006.],\n",
              "       [    0.,     0.,     0.,     0.,     0.]])"
            ]
          },
          "metadata": {},
          "execution_count": 226
        }
      ],
      "source": [
        "dados_new"
      ]
    },
    {
      "cell_type": "code",
      "execution_count": 227,
      "metadata": {
        "id": "CJyuKqaFltp3",
        "colab": {
          "base_uri": "https://localhost:8080/"
        },
        "outputId": "ba1b586c-359e-430f-875a-92087b1949e9"
      },
      "outputs": [
        {
          "output_type": "stream",
          "name": "stderr",
          "text": [
            "<ipython-input-227-f9c7ebd2c682>:1: RuntimeWarning: invalid value encountered in true_divide\n",
            "  dados_new[2] = dados_new[0] / (2019 - dados_new[1])\n"
          ]
        }
      ],
      "source": [
        "dados_new[2] = dados_new[0] / (2019 - dados_new[1])"
      ]
    },
    {
      "cell_type": "code",
      "execution_count": 228,
      "metadata": {
        "id": "bj_iPZAultp4",
        "colab": {
          "base_uri": "https://localhost:8080/"
        },
        "outputId": "7f228774-43f3-45d3-c20e-67f4fee1d4d3"
      },
      "outputs": [
        {
          "output_type": "execute_result",
          "data": {
            "text/plain": [
              "array([[44410.        ,  5712.        , 37123.        ,     0.        ,\n",
              "        25757.        ],\n",
              "       [ 2003.        ,  1991.        ,  1990.        ,  2019.        ,\n",
              "         2006.        ],\n",
              "       [ 2775.625     ,   204.        ,  1280.10344828,            nan,\n",
              "         1981.30769231]])"
            ]
          },
          "metadata": {},
          "execution_count": 228
        }
      ],
      "source": [
        "dados_new"
      ]
    },
    {
      "cell_type": "markdown",
      "metadata": {
        "id": "GPSk7Q_Dltp4"
      },
      "source": [
        "# 5.5 Estatísticas com arrays Numpy\n",
        "\n",
        "https://numpy.org/doc/1.16/reference/arrays.ndarray.html#calculation\n",
        "\n",
        "e\n",
        "\n",
        "https://numpy.org/doc/1.16/reference/routines.statistics.html\n",
        "\n",
        "e\n",
        "\n",
        "https://numpy.org/doc/1.16/reference/routines.math.html"
      ]
    },
    {
      "cell_type": "code",
      "execution_count": 229,
      "metadata": {
        "id": "RH2u1orXltp5"
      },
      "outputs": [],
      "source": [
        "anos = np.loadtxt(fname = \"carros-anos.txt\", dtype = int)\n",
        "km = np.loadtxt(fname = \"carros-km.txt\")\n",
        "valor = np.loadtxt(fname = \"carros-valor.txt\")"
      ]
    },
    {
      "cell_type": "code",
      "execution_count": 230,
      "metadata": {
        "id": "wbITF7r6ltp5",
        "colab": {
          "base_uri": "https://localhost:8080/"
        },
        "outputId": "ca618c8e-88cc-4cb2-f649-f735f89d8281"
      },
      "outputs": [
        {
          "output_type": "execute_result",
          "data": {
            "text/plain": [
              "(258,)"
            ]
          },
          "metadata": {},
          "execution_count": 230
        }
      ],
      "source": [
        "anos.shape"
      ]
    },
    {
      "cell_type": "markdown",
      "metadata": {
        "id": "U_x3SOVDltp7"
      },
      "source": [
        "https://numpy.org/doc/1.16/reference/generated/numpy.column_stack.html"
      ]
    },
    {
      "cell_type": "code",
      "execution_count": 231,
      "metadata": {
        "id": "wefxl-XBltp8",
        "colab": {
          "base_uri": "https://localhost:8080/"
        },
        "outputId": "608f899c-177e-4ae4-baed-e95b7010ac36"
      },
      "outputs": [
        {
          "output_type": "execute_result",
          "data": {
            "text/plain": [
              "array([[2.0030000e+03, 4.4410000e+04, 8.8078640e+04],\n",
              "       [1.9910000e+03, 5.7120000e+03, 1.0616194e+05],\n",
              "       [1.9900000e+03, 3.7123000e+04, 7.2832160e+04],\n",
              "       [2.0190000e+03, 0.0000000e+00, 1.2454907e+05],\n",
              "       [2.0060000e+03, 2.5757000e+04, 9.2612100e+04],\n",
              "       [2.0120000e+03, 1.0728000e+04, 9.7497730e+04],\n",
              "       [2.0190000e+03, 0.0000000e+00, 5.6445200e+04],\n",
              "       [2.0090000e+03, 7.7599000e+04, 1.1231044e+05],\n",
              "       [2.0100000e+03, 9.9197000e+04, 1.2071627e+05],\n",
              "       [2.0110000e+03, 3.7978000e+04, 7.6566490e+04],\n",
              "       [2.0020000e+03, 1.2859000e+04, 7.1647590e+04],\n",
              "       [2.0070000e+03, 8.0520000e+03, 7.3919530e+04],\n",
              "       [2.0010000e+03, 8.9773000e+04, 1.1273299e+05],\n",
              "       [2.0190000e+03, 0.0000000e+00, 5.3183380e+04],\n",
              "       [2.0090000e+03, 4.1457000e+04, 1.2748842e+05],\n",
              "       [2.0160000e+03, 1.1560700e+05, 5.9910400e+04],\n",
              "       [2.0120000e+03, 4.6449000e+04, 6.1118590e+04],\n",
              "       [2.0190000e+03, 0.0000000e+00, 8.8552390e+04],\n",
              "       [2.0160000e+03, 3.7086000e+04, 6.2696690e+04],\n",
              "       [2.0170000e+03, 1.5173000e+04, 1.0172630e+05],\n",
              "       [2.0020000e+03, 1.0119300e+05, 1.0614738e+05],\n",
              "       [2.0190000e+03, 0.0000000e+00, 9.4564400e+04],\n",
              "       [1.9940000e+03, 9.8079000e+04, 1.3352984e+05],\n",
              "       [1.9910000e+03, 1.0295900e+05, 1.2568465e+05],\n",
              "       [2.0190000e+03, 0.0000000e+00, 1.2159621e+05],\n",
              "       [2.0190000e+03, 0.0000000e+00, 7.1367100e+04],\n",
              "       [2.0160000e+03, 5.7950000e+03, 9.5347750e+04],\n",
              "       [2.0190000e+03, 0.0000000e+00, 1.0543284e+05],\n",
              "       [2.0020000e+03, 5.8848000e+04, 5.7045270e+04],\n",
              "       [1.9910000e+03, 9.4381000e+04, 1.2043270e+05],\n",
              "       [1.9970000e+03, 3.0163000e+04, 7.0707200e+04],\n",
              "       [1.9950000e+03, 5.3332000e+04, 6.9105180e+04],\n",
              "       [2.0180000e+03, 1.7720000e+04, 5.9358690e+04],\n",
              "       [1.9910000e+03, 3.3808000e+04, 6.5955400e+04],\n",
              "       [2.0140000e+03, 9.0684000e+04, 6.0017030e+04],\n",
              "       [1.9950000e+03, 4.3975000e+04, 1.1890952e+05],\n",
              "       [2.0190000e+03, 0.0000000e+00, 5.1606590e+04],\n",
              "       [2.0190000e+03, 0.0000000e+00, 1.2328187e+05],\n",
              "       [2.0090000e+03, 5.5260000e+03, 6.9770180e+04],\n",
              "       [2.0190000e+03, 0.0000000e+00, 1.0260954e+05],\n",
              "       [2.0130000e+03, 9.3415000e+04, 6.7997190e+04],\n",
              "       [2.0030000e+03, 4.0762000e+04, 1.3523529e+05],\n",
              "       [2.0190000e+03, 0.0000000e+00, 8.6641340e+04],\n",
              "       [2.0020000e+03, 8.6302000e+04, 1.3681839e+05],\n",
              "       [2.0190000e+03, 0.0000000e+00, 1.1762673e+05],\n",
              "       [2.0020000e+03, 9.7550000e+03, 5.6208700e+04],\n",
              "       [2.0040000e+03, 6.9945000e+04, 8.4222650e+04],\n",
              "       [2.0010000e+03, 2.3950000e+03, 9.0781650e+04],\n",
              "       [2.0190000e+03, 0.0000000e+00, 6.4701100e+04],\n",
              "       [2.0030000e+03, 8.0349000e+04, 1.2635049e+05],\n",
              "       [2.0090000e+03, 8.5554000e+04, 1.4815289e+05],\n",
              "       [2.0060000e+03, 5.0496000e+04, 1.3229883e+05],\n",
              "       [2.0000000e+03, 6.7716000e+04, 1.3762763e+05],\n",
              "       [2.0060000e+03, 9.3947000e+04, 8.0422710e+04],\n",
              "       [2.0100000e+03, 3.5345000e+04, 5.6373990e+04],\n",
              "       [1.9940000e+03, 8.1007000e+04, 7.0846030e+04],\n",
              "       [2.0070000e+03, 1.1951300e+05, 1.2869423e+05],\n",
              "       [2.0190000e+03, 0.0000000e+00, 1.3332919e+05],\n",
              "       [2.0190000e+03, 0.0000000e+00, 1.3196143e+05],\n",
              "       [2.0190000e+03, 0.0000000e+00, 1.1203327e+05],\n",
              "       [2.0190000e+03, 0.0000000e+00, 8.1399350e+04],\n",
              "       [2.0190000e+03, 0.0000000e+00, 9.7163100e+04],\n",
              "       [2.0170000e+03, 1.1889500e+05, 6.6007160e+04],\n",
              "       [2.0110000e+03, 4.8509000e+04, 1.2877622e+05],\n",
              "       [2.0010000e+03, 1.0091200e+05, 1.4262302e+05],\n",
              "       [1.9960000e+03, 9.5649000e+04, 1.3693013e+05],\n",
              "       [2.0190000e+03, 0.0000000e+00, 6.6526610e+04],\n",
              "       [1.9940000e+03, 9.0495000e+04, 1.1415487e+05],\n",
              "       [2.0190000e+03, 0.0000000e+00, 1.4239275e+05],\n",
              "       [2.0070000e+03, 2.9132000e+04, 1.4671691e+05],\n",
              "       [1.9940000e+03, 2.3802000e+04, 1.2248568e+05],\n",
              "       [2.0070000e+03, 8.4992000e+04, 9.7951030e+04],\n",
              "       [1.9970000e+03, 5.4395000e+04, 7.8283490e+04],\n",
              "       [2.0060000e+03, 2.6731000e+04, 8.3434040e+04],\n",
              "       [2.0130000e+03, 4.4329000e+04, 7.7836230e+04],\n",
              "       [1.9940000e+03, 1.1823600e+05, 6.0813920e+04],\n",
              "       [2.0080000e+03, 1.1380800e+05, 9.1353860e+04],\n",
              "       [2.0080000e+03, 6.1000000e+02, 1.1628121e+05],\n",
              "       [2.0190000e+03, 0.0000000e+00, 1.4519770e+05],\n",
              "       [2.0190000e+03, 0.0000000e+00, 5.0742100e+04],\n",
              "       [1.9990000e+03, 1.2887000e+04, 7.3033530e+04],\n",
              "       [2.0070000e+03, 7.9607000e+04, 5.4332870e+04],\n",
              "       [1.9930000e+03, 9.0924000e+04, 5.2207450e+04],\n",
              "       [1.9950000e+03, 4.2733000e+04, 6.3578500e+04],\n",
              "       [2.0190000e+03, 0.0000000e+00, 6.4507720e+04],\n",
              "       [2.0190000e+03, 0.0000000e+00, 1.1507559e+05],\n",
              "       [2.0160000e+03, 1.1771400e+05, 1.3303060e+05],\n",
              "       [2.0110000e+03, 1.1388500e+05, 1.4159186e+05],\n",
              "       [2.0190000e+03, 0.0000000e+00, 1.0038028e+05],\n",
              "       [2.0020000e+03, 3.0511000e+04, 9.6369040e+04],\n",
              "       [2.0130000e+03, 7.4867000e+04, 1.4260384e+05],\n",
              "       [2.0170000e+03, 1.1976000e+05, 1.1770967e+05],\n",
              "       [2.0160000e+03, 8.3560000e+03, 1.0224154e+05],\n",
              "       [2.0080000e+03, 6.4247000e+04, 9.6065380e+04],\n",
              "       [2.0180000e+03, 8.8661000e+04, 5.3894610e+04],\n",
              "       [2.0030000e+03, 4.5390000e+03, 1.2391178e+05],\n",
              "       [2.0030000e+03, 1.1011600e+05, 1.0199635e+05],\n",
              "       [2.0040000e+03, 3.3215000e+04, 8.3431660e+04],\n",
              "       [2.0100000e+03, 9.2001000e+04, 1.2297563e+05],\n",
              "       [2.0190000e+03, 0.0000000e+00, 9.3227730e+04],\n",
              "       [2.0060000e+03, 8.1708000e+04, 5.8762650e+04],\n",
              "       [2.0010000e+03, 7.0641000e+04, 1.3954967e+05],\n",
              "       [2.0190000e+03, 0.0000000e+00, 1.2201642e+05],\n",
              "       [2.0150000e+03, 9.1277000e+04, 7.2731980e+04],\n",
              "       [2.0180000e+03, 2.6544000e+04, 8.8416540e+04],\n",
              "       [2.0170000e+03, 5.2596000e+04, 7.3873420e+04],\n",
              "       [1.9920000e+03, 4.7503000e+04, 7.0709340e+04],\n",
              "       [2.0010000e+03, 8.9056000e+04, 1.1530650e+05],\n",
              "       [1.9930000e+03, 2.8834000e+04, 5.5924630e+04],\n",
              "       [1.9950000e+03, 1.1056400e+05, 8.5052260e+04],\n",
              "       [2.0030000e+03, 5.6638000e+04, 5.6646340e+04],\n",
              "       [2.0140000e+03, 1.7357000e+04, 1.3894688e+05],\n",
              "       [2.0080000e+03, 7.4015000e+04, 1.0825672e+05],\n",
              "       [2.0130000e+03, 1.5196000e+04, 5.8979300e+04],\n",
              "       [2.0190000e+03, 0.0000000e+00, 1.1472768e+05],\n",
              "       [2.0170000e+03, 1.0821000e+04, 1.3966148e+05],\n",
              "       [2.0190000e+03, 0.0000000e+00, 8.0382240e+04],\n",
              "       [2.0190000e+03, 0.0000000e+00, 1.4915717e+05],\n",
              "       [2.0060000e+03, 9.5950000e+03, 8.7830410e+04],\n",
              "       [2.0150000e+03, 9.9052000e+04, 1.4356822e+05],\n",
              "       [2.0070000e+03, 5.2389000e+04, 1.3817185e+05],\n",
              "       [2.0050000e+03, 1.1994500e+05, 1.1578495e+05],\n",
              "       [2.0170000e+03, 9.6005000e+04, 1.4650899e+05],\n",
              "       [1.9980000e+03, 3.1639000e+04, 1.3767023e+05],\n",
              "       [2.0190000e+03, 0.0000000e+00, 1.3859727e+05],\n",
              "       [1.9990000e+03, 8.0187000e+04, 1.4762781e+05],\n",
              "       [2.0190000e+03, 0.0000000e+00, 6.2999020e+04],\n",
              "       [2.0090000e+03, 5.8212000e+04, 9.1242440e+04],\n",
              "       [2.0030000e+03, 6.1672000e+04, 1.4948992e+05],\n",
              "       [1.9940000e+03, 3.2017000e+04, 6.3529950e+04],\n",
              "       [2.0190000e+03, 0.0000000e+00, 5.8525410e+04],\n",
              "       [1.9940000e+03, 5.6944000e+04, 9.0345050e+04],\n",
              "       [2.0190000e+03, 0.0000000e+00, 1.4777087e+05],\n",
              "       [2.0150000e+03, 8.6519000e+04, 1.0661771e+05],\n",
              "       [1.9960000e+03, 4.8210000e+03, 1.0492988e+05],\n",
              "       [1.9970000e+03, 1.0102500e+05, 1.0071245e+05],\n",
              "       [1.9930000e+03, 3.0705000e+04, 1.4198293e+05],\n",
              "       [2.0190000e+03, 0.0000000e+00, 1.0403879e+05],\n",
              "       [1.9920000e+03, 3.2555000e+04, 8.8501540e+04],\n",
              "       [1.9950000e+03, 1.0338900e+05, 7.9782020e+04],\n",
              "       [2.0190000e+03, 0.0000000e+00, 8.6224100e+04],\n",
              "       [1.9900000e+03, 5.5289000e+04, 1.0359618e+05],\n",
              "       [2.0190000e+03, 0.0000000e+00, 1.4899647e+05],\n",
              "       [2.0190000e+03, 0.0000000e+00, 6.0948010e+04],\n",
              "       [1.9910000e+03, 1.1593000e+05, 6.9535440e+04],\n",
              "       [1.9900000e+03, 6.6437000e+04, 1.1113033e+05],\n",
              "       [2.0120000e+03, 9.6800000e+04, 6.5847690e+04],\n",
              "       [2.0070000e+03, 1.4237000e+04, 7.8096060e+04],\n",
              "       [2.0130000e+03, 1.9896000e+04, 6.9219890e+04],\n",
              "       [2.0000000e+03, 1.1304500e+05, 1.4411891e+05],\n",
              "       [2.0020000e+03, 1.1494200e+05, 7.7397050e+04],\n",
              "       [1.9960000e+03, 3.1730000e+03, 6.8974250e+04],\n",
              "       [1.9960000e+03, 8.3611000e+04, 1.2523130e+05],\n",
              "       [2.0150000e+03, 2.5356000e+04, 8.5501120e+04],\n",
              "       [1.9930000e+03, 8.8634000e+04, 1.3711621e+05],\n",
              "       [2.0130000e+03, 2.3140000e+03, 1.3882381e+05],\n",
              "       [2.0130000e+03, 2.6270000e+03, 1.1796195e+05],\n",
              "       [2.0090000e+03, 5.2034000e+04, 1.3266232e+05],\n",
              "       [2.0190000e+03, 0.0000000e+00, 1.4640579e+05],\n",
              "       [2.0190000e+03, 0.0000000e+00, 8.1999210e+04],\n",
              "       [2.0020000e+03, 7.9577000e+04, 1.4093460e+05],\n",
              "       [1.9970000e+03, 1.0820100e+05, 8.2366810e+04],\n",
              "       [1.9980000e+03, 7.6453000e+04, 7.0424110e+04],\n",
              "       [2.0040000e+03, 5.7683000e+04, 5.3620310e+04],\n",
              "       [1.9960000e+03, 9.6610000e+04, 7.3389180e+04],\n",
              "       [2.0150000e+03, 1.0900100e+05, 1.1161812e+05],\n",
              "       [2.0160000e+03, 2.6212000e+04, 1.1218737e+05],\n",
              "       [2.0050000e+03, 4.5971000e+04, 1.2081257e+05],\n",
              "       [1.9990000e+03, 4.9182000e+04, 1.1603104e+05],\n",
              "       [1.9950000e+03, 4.9907000e+04, 1.2539811e+05],\n",
              "       [1.9930000e+03, 3.8620000e+04, 7.6101470e+04],\n",
              "       [2.0040000e+03, 6.0996000e+04, 7.5263240e+04],\n",
              "       [2.0130000e+03, 7.3914000e+04, 1.4738776e+05],\n",
              "       [1.9980000e+03, 1.0739200e+05, 8.5311400e+04],\n",
              "       [2.0180000e+03, 9.1460000e+03, 5.4388110e+04],\n",
              "       [2.0190000e+03, 0.0000000e+00, 1.2415665e+05],\n",
              "       [2.0180000e+03, 1.7924000e+04, 1.4620334e+05],\n",
              "       [2.0190000e+03, 0.0000000e+00, 5.6453940e+04],\n",
              "       [1.9900000e+03, 1.1694900e+05, 6.8873790e+04],\n",
              "       [2.0090000e+03, 2.0476000e+04, 9.1667610e+04],\n",
              "       [1.9900000e+03, 5.2804000e+04, 9.3776520e+04],\n",
              "       [2.0060000e+03, 8.8490000e+03, 6.6433820e+04],\n",
              "       [2.0020000e+03, 9.1724000e+04, 1.0905927e+05],\n",
              "       [1.9910000e+03, 3.2056000e+04, 1.2206997e+05],\n",
              "       [1.9920000e+03, 7.4886000e+04, 1.1309032e+05],\n",
              "       [2.0190000e+03, 0.0000000e+00, 8.9401100e+04],\n",
              "       [2.0190000e+03, 0.0000000e+00, 5.6842790e+04],\n",
              "       [2.0050000e+03, 5.2189000e+04, 1.4667671e+05],\n",
              "       [2.0100000e+03, 8.3559000e+04, 8.9511960e+04],\n",
              "       [2.0190000e+03, 0.0000000e+00, 9.7290180e+04],\n",
              "       [2.0160000e+03, 2.0328000e+04, 1.2067356e+05],\n",
              "       [2.0190000e+03, 0.0000000e+00, 1.1443494e+05],\n",
              "       [2.0100000e+03, 7.5577000e+04, 1.3954669e+05],\n",
              "       [1.9940000e+03, 3.3659000e+04, 9.5078160e+04],\n",
              "       [2.0010000e+03, 1.0434100e+05, 6.8091770e+04],\n",
              "       [2.0140000e+03, 2.5510000e+04, 6.1496970e+04],\n",
              "       [1.9960000e+03, 1.8965000e+04, 1.3966930e+05],\n",
              "       [1.9930000e+03, 8.7161000e+04, 8.0661390e+04],\n",
              "       [1.9930000e+03, 6.6520000e+03, 6.1783650e+04],\n",
              "       [2.0010000e+03, 5.5738000e+04, 5.2805910e+04],\n",
              "       [2.0190000e+03, 0.0000000e+00, 1.2702475e+05],\n",
              "       [2.0190000e+03, 0.0000000e+00, 1.3554300e+05],\n",
              "       [2.0190000e+03, 0.0000000e+00, 1.2170873e+05],\n",
              "       [2.0070000e+03, 6.4320000e+04, 1.0734268e+05],\n",
              "       [2.0190000e+03, 0.0000000e+00, 5.7888100e+04],\n",
              "       [2.0160000e+03, 6.8678000e+04, 1.1816148e+05],\n",
              "       [2.0140000e+03, 7.1697000e+04, 1.4249906e+05],\n",
              "       [2.0190000e+03, 0.0000000e+00, 1.2839611e+05],\n",
              "       [2.0150000e+03, 3.4783000e+04, 1.1235061e+05],\n",
              "       [2.0150000e+03, 3.3772000e+04, 1.2466138e+05],\n",
              "       [1.9960000e+03, 8.5127000e+04, 5.4263160e+04],\n",
              "       [2.0020000e+03, 1.3606000e+04, 6.2041320e+04],\n",
              "       [2.0050000e+03, 3.5647000e+04, 1.2929611e+05],\n",
              "       [1.9950000e+03, 9.5128000e+04, 6.0998330e+04],\n",
              "       [1.9990000e+03, 1.4046000e+04, 5.8008500e+04],\n",
              "       [2.0050000e+03, 4.1194000e+04, 8.2304190e+04],\n",
              "       [2.0190000e+03, 0.0000000e+00, 1.1453174e+05],\n",
              "       [1.9970000e+03, 9.6100000e+04, 1.2856561e+05],\n",
              "       [1.9900000e+03, 1.0390000e+05, 1.2648826e+05],\n",
              "       [2.0010000e+03, 4.3814000e+04, 1.1907455e+05],\n",
              "       [2.0130000e+03, 2.4638000e+04, 1.3023804e+05],\n",
              "       [2.0190000e+03, 0.0000000e+00, 1.1576017e+05],\n",
              "       [2.0170000e+03, 1.1096600e+05, 1.2124800e+05],\n",
              "       [2.0110000e+03, 1.5987000e+04, 9.8156350e+04],\n",
              "       [2.0050000e+03, 5.3369000e+04, 1.1214680e+05],\n",
              "       [2.0070000e+03, 1.0077000e+04, 1.0272963e+05],\n",
              "       [1.9930000e+03, 7.1544000e+04, 1.4108335e+05],\n",
              "       [1.9910000e+03, 1.0700000e+02, 1.0296876e+05],\n",
              "       [1.9910000e+03, 8.3940000e+03, 7.6310010e+04],\n",
              "       [1.9970000e+03, 4.1498000e+04, 1.2048174e+05],\n",
              "       [2.0000000e+03, 1.1600200e+05, 5.4559180e+04],\n",
              "       [2.0070000e+03, 1.0085800e+05, 9.2957640e+04],\n",
              "       [2.0060000e+03, 6.7475000e+04, 1.2781006e+05],\n",
              "       [2.0150000e+03, 8.4970000e+03, 7.3311750e+04],\n",
              "       [2.0080000e+03, 4.4200000e+03, 6.5138030e+04],\n",
              "       [2.0190000e+03, 0.0000000e+00, 9.0141470e+04],\n",
              "       [1.9960000e+03, 5.8537000e+04, 7.1160360e+04],\n",
              "       [2.0190000e+03, 0.0000000e+00, 6.7539790e+04],\n",
              "       [2.0190000e+03, 0.0000000e+00, 6.7664860e+04],\n",
              "       [2.0140000e+03, 1.1201600e+05, 6.8652160e+04],\n",
              "       [2.0040000e+03, 9.1840000e+04, 1.1472874e+05],\n",
              "       [2.0080000e+03, 1.1278700e+05, 1.4164508e+05],\n",
              "       [2.0190000e+03, 0.0000000e+00, 1.2624784e+05],\n",
              "       [2.0190000e+03, 0.0000000e+00, 1.2885221e+05],\n",
              "       [2.0120000e+03, 9.2930000e+03, 1.3238476e+05],\n",
              "       [2.0190000e+03, 0.0000000e+00, 1.2941533e+05],\n",
              "       [1.9960000e+03, 5.5083000e+04, 8.9536820e+04],\n",
              "       [2.0110000e+03, 4.8796000e+04, 8.7975300e+04],\n",
              "       [2.0190000e+03, 0.0000000e+00, 7.7675790e+04],\n",
              "       [2.0100000e+03, 8.9685000e+04, 5.8881670e+04],\n",
              "       [2.0070000e+03, 8.5384000e+04, 5.5081990e+04],\n",
              "       [1.9940000e+03, 9.8108000e+04, 1.1882644e+05],\n",
              "       [2.0070000e+03, 7.1280000e+04, 1.3762762e+05],\n",
              "       [2.0140000e+03, 2.7505000e+04, 5.1759580e+04],\n",
              "       [1.9910000e+03, 2.9981000e+04, 5.1667060e+04],\n",
              "       [2.0020000e+03, 5.2637000e+04, 6.8934030e+04],\n",
              "       [1.9960000e+03, 7.6850000e+03, 1.2211090e+05],\n",
              "       [1.9920000e+03, 5.0188000e+04, 9.0381470e+04]])"
            ]
          },
          "metadata": {},
          "execution_count": 231
        }
      ],
      "source": [
        "dataset = np.column_stack((anos, km, valor))\n",
        "dataset"
      ]
    },
    {
      "cell_type": "code",
      "execution_count": 232,
      "metadata": {
        "id": "OzDTTmj8ltp_",
        "scrolled": true,
        "colab": {
          "base_uri": "https://localhost:8080/"
        },
        "outputId": "33372372-cedc-47ca-8a7e-b992d5a5caf4"
      },
      "outputs": [
        {
          "output_type": "execute_result",
          "data": {
            "text/plain": [
              "(258, 3)"
            ]
          },
          "metadata": {},
          "execution_count": 232
        }
      ],
      "source": [
        "dataset.shape"
      ]
    },
    {
      "cell_type": "markdown",
      "metadata": {
        "id": "Me6yUU_RltqA"
      },
      "source": [
        "## *np.mean()*\n",
        "\n",
        "Retorna a média dos elementos do array ao longo do eixo especificado."
      ]
    },
    {
      "cell_type": "code",
      "execution_count": 233,
      "metadata": {
        "id": "MNEKcP38ltqA",
        "colab": {
          "base_uri": "https://localhost:8080/"
        },
        "outputId": "2ba5411a-03e2-4350-ecc0-adf2780f933b"
      },
      "outputs": [
        {
          "output_type": "execute_result",
          "data": {
            "text/plain": [
              "array([ 2007.51162791, 44499.41472868, 98960.51310078])"
            ]
          },
          "metadata": {},
          "execution_count": 233
        }
      ],
      "source": [
        "np.mean(dataset, axis=0)"
      ]
    },
    {
      "cell_type": "code",
      "execution_count": 234,
      "metadata": {
        "id": "sekHQ84zltqB",
        "colab": {
          "base_uri": "https://localhost:8080/"
        },
        "outputId": "8f9189d8-a1c3-43f4-fde7-a4022fca048d"
      },
      "outputs": [
        {
          "output_type": "execute_result",
          "data": {
            "text/plain": [
              "44499.41472868217"
            ]
          },
          "metadata": {},
          "execution_count": 234
        }
      ],
      "source": [
        "np.mean(dataset[:, 1], axis = 0)"
      ]
    },
    {
      "cell_type": "code",
      "execution_count": 235,
      "metadata": {
        "id": "RpyETIVSltqC",
        "colab": {
          "base_uri": "https://localhost:8080/"
        },
        "outputId": "a5b741e7-43c5-41f1-db0b-4f16e41d6820"
      },
      "outputs": [
        {
          "output_type": "execute_result",
          "data": {
            "text/plain": [
              "98960.51310077519"
            ]
          },
          "metadata": {},
          "execution_count": 235
        }
      ],
      "source": [
        "np.mean(dataset[:, 2], axis = 0)"
      ]
    },
    {
      "cell_type": "markdown",
      "metadata": {
        "id": "71jViVBUltqE"
      },
      "source": [
        "## *np.std()*\n",
        "\n",
        "Retorna o desvio padrão dos elementos do array ao longo do eixo especificado."
      ]
    },
    {
      "cell_type": "code",
      "execution_count": 236,
      "metadata": {
        "id": "lEwUbPx2ltqE",
        "scrolled": true,
        "colab": {
          "base_uri": "https://localhost:8080/"
        },
        "outputId": "d50dabdd-de74-42f1-8c6e-edfc48a542b7"
      },
      "outputs": [
        {
          "output_type": "execute_result",
          "data": {
            "text/plain": [
              "29754.101150388564"
            ]
          },
          "metadata": {},
          "execution_count": 236
        }
      ],
      "source": [
        "np.std(dataset[:, 2])"
      ]
    },
    {
      "cell_type": "markdown",
      "metadata": {
        "id": "JTUH-vAeltqG"
      },
      "source": [
        "## *ndarray.sum()*\n",
        "\n",
        "Retorna a soma dos elementos do array ao longo do eixo especificado."
      ]
    },
    {
      "cell_type": "code",
      "execution_count": 237,
      "metadata": {
        "id": "jIi3yoaWltqG",
        "colab": {
          "base_uri": "https://localhost:8080/"
        },
        "outputId": "487d719a-49e9-41c8-cf28-f1317ee26393"
      },
      "outputs": [
        {
          "output_type": "execute_result",
          "data": {
            "text/plain": [
              "array([  517938.        , 11480849.        , 25531812.37999999])"
            ]
          },
          "metadata": {},
          "execution_count": 237
        }
      ],
      "source": [
        "dataset.sum(axis = 0)"
      ]
    },
    {
      "cell_type": "code",
      "execution_count": 238,
      "metadata": {
        "id": "X3QYbdYLltqH",
        "colab": {
          "base_uri": "https://localhost:8080/"
        },
        "outputId": "c5c8f221-70a8-4d6c-edc4-2e8c67abf6b9"
      },
      "outputs": [
        {
          "output_type": "execute_result",
          "data": {
            "text/plain": [
              "11480849.0"
            ]
          },
          "metadata": {},
          "execution_count": 238
        }
      ],
      "source": [
        "dataset[:, 1].sum()"
      ]
    },
    {
      "cell_type": "markdown",
      "metadata": {
        "id": "WbBD5ixaltqH"
      },
      "source": [
        "## *np.sum()*\n",
        "\n",
        "Retorna a soma dos elementos do array ao longo do eixo especificado."
      ]
    },
    {
      "cell_type": "code",
      "execution_count": 239,
      "metadata": {
        "id": "omB6kgWgltqH",
        "colab": {
          "base_uri": "https://localhost:8080/"
        },
        "outputId": "93b10fe5-974c-480f-9820-43f1c2061cb8"
      },
      "outputs": [
        {
          "output_type": "execute_result",
          "data": {
            "text/plain": [
              "array([  517938.        , 11480849.        , 25531812.37999999])"
            ]
          },
          "metadata": {},
          "execution_count": 239
        }
      ],
      "source": [
        "np.sum(dataset, axis = 0)"
      ]
    },
    {
      "cell_type": "code",
      "execution_count": 240,
      "metadata": {
        "id": "LiD4G3kQltqI",
        "colab": {
          "base_uri": "https://localhost:8080/"
        },
        "outputId": "a7edb9cd-3dfc-4ee2-9298-d611d0be9925"
      },
      "outputs": [
        {
          "output_type": "execute_result",
          "data": {
            "text/plain": [
              "11480849.0"
            ]
          },
          "metadata": {},
          "execution_count": 240
        }
      ],
      "source": [
        "np.sum(dataset[:, 1])"
      ]
    },
    {
      "cell_type": "code",
      "execution_count": 241,
      "metadata": {
        "id": "kpakpnntltqJ",
        "colab": {
          "base_uri": "https://localhost:8080/"
        },
        "outputId": "f484038d-d831-485d-8d5a-af11d2a4368c"
      },
      "outputs": [
        {
          "output_type": "execute_result",
          "data": {
            "text/plain": [
              "25531812.38"
            ]
          },
          "metadata": {},
          "execution_count": 241
        }
      ],
      "source": [
        "np.sum(dataset[:, 2])"
      ]
    }
  ],
  "metadata": {
    "colab": {
      "provenance": []
    },
    "kernelspec": {
      "display_name": "Python 3",
      "language": "python",
      "name": "python3"
    },
    "language_info": {
      "codemirror_mode": {
        "name": "ipython",
        "version": 3
      },
      "file_extension": ".py",
      "mimetype": "text/x-python",
      "name": "python",
      "nbconvert_exporter": "python",
      "pygments_lexer": "ipython3",
      "version": "3.6.5"
    }
  },
  "nbformat": 4,
  "nbformat_minor": 0
}